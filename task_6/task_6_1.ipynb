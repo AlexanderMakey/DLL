{
 "cells": [
  {
   "cell_type": "code",
   "execution_count": null,
   "id": "a28ae8bc",
   "metadata": {},
   "outputs": [],
   "source": [
    "import torch\n",
    "import time\n",
    "import random"
   ]
  },
  {
   "cell_type": "markdown",
   "id": "d22ca28c",
   "metadata": {},
   "source": [
    "## Цель\n",
    "Обучить нейронную сеть решать шифр Цезаря."
   ]
  },
  {
   "cell_type": "markdown",
   "id": "5f245a05",
   "metadata": {},
   "source": [
    "## Напишем алгоритм шифра Цезаря для генерации выборки "
   ]
  },
  {
   "cell_type": "markdown",
   "id": "1e25d37e",
   "metadata": {},
   "source": [
    "Русский алфавит без буквы ё"
   ]
  },
  {
   "cell_type": "code",
   "execution_count": null,
   "id": "468e1585",
   "metadata": {
    "scrolled": true
   },
   "outputs": [],
   "source": [
    "alphabet = ['none'] + [chr(char_code) for char_code in range(ord('а'), ord('я')+1)] + [' ']\n",
    "MAX_INDEX = len(alphabet)"
   ]
  },
  {
   "cell_type": "markdown",
   "id": "1b70bccc",
   "metadata": {},
   "source": [
    "Самый простой шифр Цезаря"
   ]
  },
  {
   "cell_type": "code",
   "execution_count": null,
   "id": "801f8465",
   "metadata": {},
   "outputs": [],
   "source": [
    "def caesar_cipher(text, shift=2):\n",
    "    result = ''\n",
    "    for char in text:\n",
    "        shift_index = alphabet.index(char)+shift\n",
    "        if shift_index>MAX_INDEX-1:\n",
    "            shift_index -= (MAX_INDEX - 1)\n",
    "        result += alphabet[shift_index]\n",
    "    return result"
   ]
  },
  {
   "cell_type": "markdown",
   "id": "4744988b",
   "metadata": {},
   "source": [
    "Проверяем как работает"
   ]
  },
  {
   "cell_type": "code",
   "execution_count": null,
   "id": "961aa910",
   "metadata": {},
   "outputs": [
    {
     "data": {
      "text/plain": [
       "'сткдзфбувъв'"
      ]
     },
     "execution_count": 4,
     "metadata": {},
     "output_type": "execute_result"
    }
   ],
   "source": [
    "caesar_cipher('привет саша')"
   ]
  },
  {
   "cell_type": "markdown",
   "id": "3c69cdcf",
   "metadata": {},
   "source": [
    "Функция для генерации случайный фраз из случайных букв"
   ]
  },
  {
   "cell_type": "code",
   "execution_count": null,
   "id": "6d5e33fc",
   "metadata": {},
   "outputs": [],
   "source": [
    "MAX_LEN = 20\n",
    "def generate_random_sequence(min_length=5, max_length=MAX_LEN):\n",
    "    sequence_length = random.randint(min_length, max_length)\n",
    "    sequence = random.choices(alphabet[1:], k=sequence_length)\n",
    "    return ''.join(sequence)"
   ]
  },
  {
   "cell_type": "markdown",
   "id": "5bbf9d33",
   "metadata": {},
   "source": [
    "Функция перевода текста в цифры"
   ]
  },
  {
   "cell_type": "code",
   "execution_count": null,
   "id": "38e6ecef",
   "metadata": {},
   "outputs": [],
   "source": [
    "def text_to_int(text):\n",
    "    result = []\n",
    "    for char in text:\n",
    "        result.append(alphabet.index(char))\n",
    "    return result"
   ]
  },
  {
   "cell_type": "markdown",
   "id": "43717dac",
   "metadata": {},
   "source": [
    "Функция перевода списка в тензор"
   ]
  },
  {
   "cell_type": "code",
   "execution_count": null,
   "id": "43284797",
   "metadata": {},
   "outputs": [],
   "source": [
    "def set_tensor(list_):\n",
    "    my_tensor = torch.zeros(len(list_), MAX_LEN, dtype=int)\n",
    "    for i, item in enumerate(list_):\n",
    "        my_tensor[i,: len(item)] = torch.tensor(item)\n",
    "    return my_tensor"
   ]
  },
  {
   "cell_type": "markdown",
   "id": "f5f11d17",
   "metadata": {},
   "source": [
    "Генерируем 1 000 000 фраз\n",
    "- X - зашифрованная фраза\n",
    "- y - расшифрованная фраза"
   ]
  },
  {
   "cell_type": "code",
   "execution_count": null,
   "id": "f65bb7db",
   "metadata": {},
   "outputs": [],
   "source": [
    "x_list = []\n",
    "y_list = []\n",
    "i = 0\n",
    "while i<1000000:\n",
    "    y_text = generate_random_sequence()\n",
    "    x_text = caesar_cipher(y_text)\n",
    "    x_num = text_to_int(x_text)\n",
    "    y_num = text_to_int(y_text)\n",
    "    x_list.append(x_num)\n",
    "    y_list.append(y_num)\n",
    "    i += 1\n",
    "X = set_tensor(x_list)\n",
    "y = set_tensor(y_list)"
   ]
  },
  {
   "cell_type": "markdown",
   "id": "2bbaf4fe",
   "metadata": {},
   "source": [
    "## Создаем нейронную сеть"
   ]
  },
  {
   "cell_type": "code",
   "execution_count": null,
   "id": "dbf65a8c",
   "metadata": {},
   "outputs": [],
   "source": [
    "class Network(torch.nn.Module):\n",
    "    def __init__(self):\n",
    "        super(Network, self).__init__()\n",
    "        self.embedding = torch.nn.Embedding(MAX_INDEX, 40)\n",
    "        self.rnn = torch.nn.RNN(40, 128)\n",
    "        self.out = torch.nn.Linear(128, MAX_INDEX)\n",
    "\n",
    "    def forward(self, sentences, state=None):\n",
    "        x = self.embedding(sentences)\n",
    "        x, s = self.rnn(x)\n",
    "        return self.out(x)"
   ]
  },
  {
   "cell_type": "markdown",
   "id": "886aa59d",
   "metadata": {},
   "source": [
    "## Обучаем ее"
   ]
  },
  {
   "cell_type": "code",
   "execution_count": null,
   "id": "a5c66af8",
   "metadata": {},
   "outputs": [],
   "source": [
    "model = Network()\n",
    "criterion = torch.nn.CrossEntropyLoss()\n",
    "optimizer = torch.optim.SGD(model.parameters(), lr=.05)"
   ]
  },
  {
   "cell_type": "markdown",
   "id": "7b412d60",
   "metadata": {},
   "source": [
    "Так как у нас очень большой датасет, нам будет достаточно 4 эпох"
   ]
  },
  {
   "cell_type": "code",
   "execution_count": null,
   "id": "073a2729",
   "metadata": {},
   "outputs": [
    {
     "name": "stdout",
     "output_type": "stream",
     "text": [
      "Epoch 0. Time: 71.426, Train loss: 0.035\n",
      "Epoch 1. Time: 71.607, Train loss: 0.001\n",
      "Epoch 2. Time: 71.655, Train loss: 0.001\n",
      "Epoch 3. Time: 71.444, Train loss: 0.000\n"
     ]
    }
   ],
   "source": [
    "for ep in range(4):\n",
    "    start = time.time()\n",
    "    train_loss = 0.\n",
    "    train_passed = 0\n",
    "\n",
    "    for i in range(int(len(X) / 100)):\n",
    "        X_batch = X[i * 100:(i + 1) * 100]\n",
    "        Y_batch = y[i * 100:(i + 1) * 100].flatten()\n",
    "\n",
    "        optimizer.zero_grad()\n",
    "        answers = model.forward(X_batch)\n",
    "        answers = answers.view(-1, MAX_INDEX)\n",
    "        loss = criterion(answers, Y_batch)\n",
    "        train_loss += loss.item()\n",
    "\n",
    "        loss.backward()\n",
    "        optimizer.step()\n",
    "        train_passed += 1\n",
    "\n",
    "    print(\"Epoch {}. Time: {:.3f}, Train loss: {:.3f}\".format(ep, time.time() - start, train_loss / train_passed))"
   ]
  },
  {
   "cell_type": "markdown",
   "id": "939a9c49",
   "metadata": {},
   "source": [
    "Как видно loss 0, значит наша сеть поняла, что мы от нее хотим"
   ]
  },
  {
   "cell_type": "markdown",
   "id": "ec93d489",
   "metadata": {},
   "source": [
    "## Проверяем качество"
   ]
  },
  {
   "cell_type": "markdown",
   "id": "837b5083",
   "metadata": {},
   "source": [
    "Для проверки возьмем другой нормальный текст"
   ]
  },
  {
   "cell_type": "code",
   "execution_count": null,
   "id": "271af729",
   "metadata": {},
   "outputs": [],
   "source": [
    "with open('Война и мир.txt') as file:\n",
    "    text = file.read()\n",
    "lowercase_text = text.lower()"
   ]
  },
  {
   "cell_type": "markdown",
   "id": "8034f21c",
   "metadata": {},
   "source": [
    "Возьмем только первые 20 000 символов из нашего словаря, а то книга очень большая"
   ]
  },
  {
   "cell_type": "code",
   "execution_count": null,
   "id": "ffd31c6f",
   "metadata": {},
   "outputs": [],
   "source": [
    "clear_text = ''\n",
    "num_space = 0\n",
    "for i, letter in enumerate(lowercase_text):\n",
    "    if letter in alphabet[1:-1]:\n",
    "        num_space = 0\n",
    "        clear_text += letter\n",
    "    else:\n",
    "        if num_space==0:\n",
    "            clear_text += ' '\n",
    "        num_space += 1\n",
    "    if i==20000:\n",
    "        break"
   ]
  },
  {
   "cell_type": "markdown",
   "id": "49742330",
   "metadata": {},
   "source": [
    "Разделим наш большой текст на подстроки не больше 20 символов до последнего пробела"
   ]
  },
  {
   "cell_type": "code",
   "execution_count": null,
   "id": "fd5d1275",
   "metadata": {},
   "outputs": [],
   "source": [
    "def split_text(text, max_length):\n",
    "    if len(text) <= max_length:\n",
    "        return [text]\n",
    "\n",
    "    substrings = []\n",
    "    start_index = 0\n",
    "\n",
    "    while start_index < len(text):\n",
    "        end_index = start_index + max_length\n",
    "\n",
    "        if end_index >= len(text):\n",
    "            substrings.append(text[start_index:])\n",
    "            break\n",
    "\n",
    "        last_space_index = text.rfind(' ', start_index, end_index)\n",
    "        \n",
    "        if last_space_index != -1 and last_space_index > start_index:\n",
    "            substrings.append(text[start_index:last_space_index].strip())\n",
    "            start_index = last_space_index + 1\n",
    "        else:\n",
    "            substrings.append(text[start_index:end_index].strip())\n",
    "            start_index = end_index\n",
    "\n",
    "    return substrings"
   ]
  },
  {
   "cell_type": "code",
   "execution_count": null,
   "id": "0bd43025",
   "metadata": {},
   "outputs": [],
   "source": [
    "substrings = split_text(clear_text, MAX_LEN)"
   ]
  },
  {
   "cell_type": "markdown",
   "id": "21f13501",
   "metadata": {},
   "source": [
    "Посчитаем долю совпадений и выведем пару примеров"
   ]
  },
  {
   "cell_type": "code",
   "execution_count": null,
   "id": "d803593e",
   "metadata": {},
   "outputs": [
    {
     "name": "stdout",
     "output_type": "stream",
     "text": [
      "ОРИГИНАЛ(право я верю что он) ЗАШИФРОВАННЫЙ ВХОД(ствдрбабдзт бщфрбрп) РАСШИФРОВАННЫЙ ВЫХОД(право я верю что он)\n",
      "ОРИГИНАЛ(антихрист я вас) ЗАШИФРОВАННЫЙ ВХОД(впфкчткуфбабдву) РАСШИФРОВАННЫЙ ВЫХОД(антихрист я вас)\n",
      "ОРИГИНАЛ(больше не знаю вы) ЗАШИФРОВАННЫЙ ВХОД(грнюъзбпзбйпв бдэ) РАСШИФРОВАННЫЙ ВЫХОД(больше не знаю вы)\n",
      "ОРИГИНАЛ(уж не друг мой вы) ЗАШИФРОВАННЫЙ ВХОД(хибпзбжтхеборлбдэ) РАСШИФРОВАННЫЙ ВЫХОД(уж не друг мой вы)\n",
      "Доля совпадений: 100%\n"
     ]
    }
   ],
   "source": [
    "matches = 0\n",
    "for i, input_ in enumerate(substrings):\n",
    "    coded_text = caesar_cipher(input_)\n",
    "    answers = model.forward(torch.tensor(text_to_int(coded_text)))\n",
    "    probas, indices = answers.topk(1)\n",
    "    output = ''\n",
    "    for ind in indices.flatten():\n",
    "        output += alphabet[ind.item()]\n",
    "    if input_==output:\n",
    "        matches += 1\n",
    "    if 20<i<25:\n",
    "        print(f'ОРИГИНАЛ({input_}) ЗАШИФРОВАННЫЙ ВХОД({coded_text}) РАСШИФРОВАННЫЙ ВЫХОД({output})')\n",
    "print(f'Доля совпадений: {matches/len(substrings):.0%}')"
   ]
  },
  {
   "cell_type": "markdown",
   "id": "0ff952c8",
   "metadata": {},
   "source": [
    "Как видно наша сеть отлично расшифровывает текст"
   ]
  }
 ],
 "metadata": {
  "kernelspec": {
   "display_name": "Python 3 (ipykernel)",
   "language": "python",
   "name": "python3"
  },
  "language_info": {
   "codemirror_mode": {
    "name": "ipython",
    "version": 3
   },
   "file_extension": ".py",
   "mimetype": "text/x-python",
   "name": "python",
   "nbconvert_exporter": "python",
   "pygments_lexer": "ipython3",
   "version": "3.11.4"
  }
 },
 "nbformat": 4,
 "nbformat_minor": 5
}
