{
 "cells": [
  {
   "cell_type": "code",
   "execution_count": 715,
   "id": "b5720d00",
   "metadata": {},
   "outputs": [],
   "source": [
    "import pandas as pd\n",
    "import gensim\n",
    "import numpy as np\n",
    "import nltk\n",
    "import re\n",
    "from sklearn.manifold import TSNE\n",
    "import torch\n",
    "from torch.utils.data import DataLoader, Dataset\n",
    "import torchvision as tv\n",
    "\n",
    "import matplotlib.pyplot as plt\n",
    "from adjustText import adjust_text"
   ]
  },
  {
   "cell_type": "code",
   "execution_count": 2,
   "id": "a88de0d0",
   "metadata": {},
   "outputs": [
    {
     "name": "stderr",
     "output_type": "stream",
     "text": [
      "[nltk_data] Downloading package punkt to\n",
      "[nltk_data]     C:\\Users\\a.makey\\AppData\\Roaming\\nltk_data...\n",
      "[nltk_data]   Package punkt is already up-to-date!\n",
      "[nltk_data] Downloading package stopwords to\n",
      "[nltk_data]     C:\\Users\\a.makey\\AppData\\Roaming\\nltk_data...\n",
      "[nltk_data]   Package stopwords is already up-to-date!\n",
      "[nltk_data] Downloading package wordnet to\n",
      "[nltk_data]     C:\\Users\\a.makey\\AppData\\Roaming\\nltk_data...\n",
      "[nltk_data]   Package wordnet is already up-to-date!\n"
     ]
    },
    {
     "data": {
      "text/plain": [
       "True"
      ]
     },
     "execution_count": 2,
     "metadata": {},
     "output_type": "execute_result"
    }
   ],
   "source": [
    "nltk.download('punkt')\n",
    "nltk.download('stopwords')\n",
    "nltk.download('wordnet')"
   ]
  },
  {
   "cell_type": "markdown",
   "id": "22459136",
   "metadata": {},
   "source": [
    "## Скачать [датасет с фразами симпосонов](https://github.com/sujanjoejacob/Text-mining-with-Simpsons-Data)"
   ]
  },
  {
   "cell_type": "markdown",
   "id": "886bde8d",
   "metadata": {},
   "source": [
    "### Примечание\n",
    "- в датасете некоторые строки содержали либо больше полей, либо меньше из-за одной двойной кавычки, поэтому применятся это\n",
    "    - on_bad_lines='skip'\n",
    "    - df = df.dropna()"
   ]
  },
  {
   "cell_type": "code",
   "execution_count": 3,
   "id": "7397bdc4",
   "metadata": {
    "scrolled": false
   },
   "outputs": [
    {
     "name": "stderr",
     "output_type": "stream",
     "text": [
      "C:\\Users\\a.makey\\AppData\\Local\\Temp\\ipykernel_17296\\952801984.py:2: DtypeWarning: Columns (4,5,6) have mixed types. Specify dtype option on import or set low_memory=False.\n",
      "  df = pd.read_csv(\n"
     ]
    },
    {
     "data": {
      "text/html": [
       "<div>\n",
       "<style scoped>\n",
       "    .dataframe tbody tr th:only-of-type {\n",
       "        vertical-align: middle;\n",
       "    }\n",
       "\n",
       "    .dataframe tbody tr th {\n",
       "        vertical-align: top;\n",
       "    }\n",
       "\n",
       "    .dataframe thead th {\n",
       "        text-align: right;\n",
       "    }\n",
       "</style>\n",
       "<table border=\"1\" class=\"dataframe\">\n",
       "  <thead>\n",
       "    <tr style=\"text-align: right;\">\n",
       "      <th></th>\n",
       "      <th>id</th>\n",
       "      <th>episode_id</th>\n",
       "      <th>number</th>\n",
       "      <th>raw_text</th>\n",
       "      <th>timestamp_in_ms</th>\n",
       "      <th>speaking_line</th>\n",
       "      <th>character_id</th>\n",
       "      <th>location_id</th>\n",
       "      <th>raw_character_text</th>\n",
       "      <th>raw_location_text</th>\n",
       "      <th>spoken_words</th>\n",
       "      <th>normalized_text</th>\n",
       "      <th>word_count</th>\n",
       "    </tr>\n",
       "  </thead>\n",
       "  <tbody>\n",
       "    <tr>\n",
       "      <th>0</th>\n",
       "      <td>9549</td>\n",
       "      <td>32</td>\n",
       "      <td>209</td>\n",
       "      <td>Miss Hoover: No, actually, it was a little of ...</td>\n",
       "      <td>848000</td>\n",
       "      <td>True</td>\n",
       "      <td>464.0</td>\n",
       "      <td>3.0</td>\n",
       "      <td>Miss Hoover</td>\n",
       "      <td>Springfield Elementary School</td>\n",
       "      <td>No, actually, it was a little of both. Sometim...</td>\n",
       "      <td>no actually it was a little of both sometimes ...</td>\n",
       "      <td>31.0</td>\n",
       "    </tr>\n",
       "    <tr>\n",
       "      <th>1</th>\n",
       "      <td>9550</td>\n",
       "      <td>32</td>\n",
       "      <td>210</td>\n",
       "      <td>Lisa Simpson: (NEAR TEARS) Where's Mr. Bergstrom?</td>\n",
       "      <td>856000</td>\n",
       "      <td>True</td>\n",
       "      <td>9.0</td>\n",
       "      <td>3.0</td>\n",
       "      <td>Lisa Simpson</td>\n",
       "      <td>Springfield Elementary School</td>\n",
       "      <td>Where's Mr. Bergstrom?</td>\n",
       "      <td>wheres mr bergstrom</td>\n",
       "      <td>3.0</td>\n",
       "    </tr>\n",
       "    <tr>\n",
       "      <th>2</th>\n",
       "      <td>9551</td>\n",
       "      <td>32</td>\n",
       "      <td>211</td>\n",
       "      <td>Miss Hoover: I don't know. Although I'd sure l...</td>\n",
       "      <td>856000</td>\n",
       "      <td>True</td>\n",
       "      <td>464.0</td>\n",
       "      <td>3.0</td>\n",
       "      <td>Miss Hoover</td>\n",
       "      <td>Springfield Elementary School</td>\n",
       "      <td>I don't know. Although I'd sure like to talk t...</td>\n",
       "      <td>i dont know although id sure like to talk to h...</td>\n",
       "      <td>22.0</td>\n",
       "    </tr>\n",
       "    <tr>\n",
       "      <th>3</th>\n",
       "      <td>9552</td>\n",
       "      <td>32</td>\n",
       "      <td>212</td>\n",
       "      <td>Lisa Simpson: That life is worth living.</td>\n",
       "      <td>864000</td>\n",
       "      <td>True</td>\n",
       "      <td>9.0</td>\n",
       "      <td>3.0</td>\n",
       "      <td>Lisa Simpson</td>\n",
       "      <td>Springfield Elementary School</td>\n",
       "      <td>That life is worth living.</td>\n",
       "      <td>that life is worth living</td>\n",
       "      <td>5.0</td>\n",
       "    </tr>\n",
       "    <tr>\n",
       "      <th>4</th>\n",
       "      <td>9553</td>\n",
       "      <td>32</td>\n",
       "      <td>213</td>\n",
       "      <td>Edna Krabappel-Flanders: The polls will be ope...</td>\n",
       "      <td>864000</td>\n",
       "      <td>True</td>\n",
       "      <td>40.0</td>\n",
       "      <td>3.0</td>\n",
       "      <td>Edna Krabappel-Flanders</td>\n",
       "      <td>Springfield Elementary School</td>\n",
       "      <td>The polls will be open from now until the end ...</td>\n",
       "      <td>the polls will be open from now until the end ...</td>\n",
       "      <td>33.0</td>\n",
       "    </tr>\n",
       "  </tbody>\n",
       "</table>\n",
       "</div>"
      ],
      "text/plain": [
       "     id  episode_id  number  \\\n",
       "0  9549          32     209   \n",
       "1  9550          32     210   \n",
       "2  9551          32     211   \n",
       "3  9552          32     212   \n",
       "4  9553          32     213   \n",
       "\n",
       "                                            raw_text timestamp_in_ms  \\\n",
       "0  Miss Hoover: No, actually, it was a little of ...          848000   \n",
       "1  Lisa Simpson: (NEAR TEARS) Where's Mr. Bergstrom?          856000   \n",
       "2  Miss Hoover: I don't know. Although I'd sure l...          856000   \n",
       "3           Lisa Simpson: That life is worth living.          864000   \n",
       "4  Edna Krabappel-Flanders: The polls will be ope...          864000   \n",
       "\n",
       "  speaking_line character_id  location_id       raw_character_text  \\\n",
       "0          True        464.0          3.0              Miss Hoover   \n",
       "1          True          9.0          3.0             Lisa Simpson   \n",
       "2          True        464.0          3.0              Miss Hoover   \n",
       "3          True          9.0          3.0             Lisa Simpson   \n",
       "4          True         40.0          3.0  Edna Krabappel-Flanders   \n",
       "\n",
       "               raw_location_text  \\\n",
       "0  Springfield Elementary School   \n",
       "1  Springfield Elementary School   \n",
       "2  Springfield Elementary School   \n",
       "3  Springfield Elementary School   \n",
       "4  Springfield Elementary School   \n",
       "\n",
       "                                        spoken_words  \\\n",
       "0  No, actually, it was a little of both. Sometim...   \n",
       "1                             Where's Mr. Bergstrom?   \n",
       "2  I don't know. Although I'd sure like to talk t...   \n",
       "3                         That life is worth living.   \n",
       "4  The polls will be open from now until the end ...   \n",
       "\n",
       "                                     normalized_text  word_count  \n",
       "0  no actually it was a little of both sometimes ...        31.0  \n",
       "1                                wheres mr bergstrom         3.0  \n",
       "2  i dont know although id sure like to talk to h...        22.0  \n",
       "3                          that life is worth living         5.0  \n",
       "4  the polls will be open from now until the end ...        33.0  "
      ]
     },
     "execution_count": 3,
     "metadata": {},
     "output_type": "execute_result"
    }
   ],
   "source": [
    "file_name = 'simpsons_script_lines.csv'\n",
    "df = pd.read_csv(\n",
    "    file_name, \n",
    "    on_bad_lines='skip'\n",
    ")\n",
    "df.head()"
   ]
  },
  {
   "cell_type": "code",
   "execution_count": 4,
   "id": "6c5cabec",
   "metadata": {},
   "outputs": [],
   "source": [
    "df = df.dropna()"
   ]
  },
  {
   "cell_type": "code",
   "execution_count": 5,
   "id": "caabad84",
   "metadata": {},
   "outputs": [],
   "source": [
    "df = df.astype({'raw_text': str, 'timestamp_in_ms': int, 'speaking_line': bool})"
   ]
  },
  {
   "cell_type": "code",
   "execution_count": 6,
   "id": "d4ac9ace",
   "metadata": {},
   "outputs": [],
   "source": [
    "phrases = df['spoken_words'].tolist()"
   ]
  },
  {
   "cell_type": "code",
   "execution_count": 659,
   "id": "707402d5",
   "metadata": {},
   "outputs": [],
   "source": [
    "# Для задачи по классификации\n",
    "# Тут делаем три класса, но ниже оставим только два\n",
    "\n",
    "raw_character_text = df['raw_character_text'].tolist()\n",
    "character_id = []\n",
    "for character in raw_character_text:\n",
    "    if character=='Lisa Simpson':\n",
    "        character_id.append(1)\n",
    "    elif character=='Bart Simpson':\n",
    "        character_id.append(2)\n",
    "    else:\n",
    "        character_id.append(0)"
   ]
  },
  {
   "cell_type": "code",
   "execution_count": 12,
   "id": "84d0500b",
   "metadata": {},
   "outputs": [
    {
     "data": {
      "text/plain": [
       "[\"No, actually, it was a little of both. Sometimes when a disease is in all the magazines and all the news shows, it's only natural that you think you have it.\",\n",
       " \"Where's Mr. Bergstrom?\",\n",
       " \"I don't know. Although I'd sure like to talk to him. He didn't touch my lesson plan. What did he teach you?\",\n",
       " 'That life is worth living.',\n",
       " \"The polls will be open from now until the end of recess. Now, just in case any of you have decided to put any thought into this, we'll have our final statements. Martin?\",\n",
       " \"I don't think there's anything left to say.\",\n",
       " 'Bart?',\n",
       " 'Victory party under the slide!',\n",
       " 'Mr. Bergstrom! Mr. Bergstrom!',\n",
       " 'Hey, hey, he Moved out this morning. He must have a new job -- he took his Copernicus costume.']"
      ]
     },
     "execution_count": 12,
     "metadata": {},
     "output_type": "execute_result"
    }
   ],
   "source": [
    "phrases[:10]"
   ]
  },
  {
   "cell_type": "code",
   "execution_count": 10,
   "id": "83f2f2c4",
   "metadata": {},
   "outputs": [],
   "source": [
    "stop_words = nltk.corpus.stopwords.words('english')"
   ]
  },
  {
   "cell_type": "code",
   "execution_count": 11,
   "id": "b92c8e64",
   "metadata": {},
   "outputs": [],
   "source": [
    "lemmatizer = nltk.stem.WordNetLemmatizer()"
   ]
  },
  {
   "cell_type": "code",
   "execution_count": 1094,
   "id": "2fe8baec",
   "metadata": {},
   "outputs": [],
   "source": [
    "# corpuses = []\n",
    "visual_characters = []\n",
    "visual_corpuses = []\n",
    "\n",
    "# phrases_corpuses = []\n",
    "# phrases_characters = []\n",
    "for text, char_id in zip(phrases, character_id):\n",
    "    \n",
    "    phrase_corpus = []\n",
    "    \n",
    "    sentences = nltk.tokenize.sent_tokenize(text)\n",
    "    for sentence in sentences:\n",
    "        sentence_ = re.sub(r\"[^A-Za-z ]\", \"\", sentence)\n",
    "        tokens = nltk.tokenize.word_tokenize(sentence_)\n",
    "        filtered_tokens = [word for word in tokens if word.lower() not in stop_words]\n",
    "        lemmatized_words = [lemmatizer.lemmatize(word.lower()) for word in filtered_tokens]\n",
    "        # это для визуализации и классификации (пробовал для классификации весь набор использовать)\n",
    "        if lemmatized_words:\n",
    "            visual_corpuses.append(lemmatized_words)\n",
    "            visual_characters.append(char_id)\n",
    "\n",
    "#         # это для задачи по классификации\n",
    "#         if tokens:\n",
    "#             corpuses.append(tokens)\n",
    "#             phrase_corpus += tokens\n",
    "    \n",
    "#     if phrase_corpus:\n",
    "#         phrases_corpuses.append(phrase_corpus)\n",
    "#         phrases_characters.append(char_id)\n",
    "    "
   ]
  },
  {
   "cell_type": "code",
   "execution_count": 1214,
   "id": "d2c4d67a",
   "metadata": {},
   "outputs": [
    {
     "name": "stdout",
     "output_type": "stream",
     "text": [
      "979\n"
     ]
    }
   ],
   "source": [
    "# тут оставляем только два класса для задачи по классификации\n",
    "# и оставляем в речи каждого больше 10 слов\n",
    "\n",
    "characters_ds = []\n",
    "corpuses_ds = []\n",
    "for char, words in zip(visual_characters, visual_corpuses):\n",
    "    if char in [1,2] and len(words)>=10:\n",
    "        characters_ds.append(char-1)\n",
    "        corpuses_ds.append(words)\n",
    "print(len(corpuses_ds))"
   ]
  },
  {
   "cell_type": "markdown",
   "id": "4eae945c",
   "metadata": {},
   "source": [
    "## Обучим Word2vec на фразах персонажей"
   ]
  },
  {
   "cell_type": "code",
   "execution_count": 646,
   "id": "ad6e9d10",
   "metadata": {},
   "outputs": [
    {
     "data": {
      "text/plain": [
       "(3113367, 3675670)"
      ]
     },
     "execution_count": 646,
     "metadata": {},
     "output_type": "execute_result"
    }
   ],
   "source": [
    "model = gensim.models.Word2Vec()\n",
    "model.build_vocab(visual_corpuses)\n",
    "model.train(visual_corpuses, total_examples=model.corpus_count, epochs=model.epochs)"
   ]
  },
  {
   "cell_type": "markdown",
   "id": "7a89f003",
   "metadata": {},
   "source": [
    "## Визуализируем embeddings по самым частотным словам (top 100)"
   ]
  },
  {
   "cell_type": "markdown",
   "id": "60a66e84",
   "metadata": {},
   "source": [
    "### Примечание\n",
    "- топ 1000 делать нет смысла, там какая-то каша будет"
   ]
  },
  {
   "cell_type": "code",
   "execution_count": 653,
   "id": "0945d7cd",
   "metadata": {},
   "outputs": [],
   "source": [
    "tsne = TSNE(n_components=2)\n",
    "word_vectors_2d = tsne.fit_transform(model.wv[model.wv.index_to_key])"
   ]
  },
  {
   "cell_type": "code",
   "execution_count": 654,
   "id": "dc0de129",
   "metadata": {},
   "outputs": [
    {
     "data": {
      "image/png": "[encoded data removed]",
      "text/plain": [
       "<Figure size 1200x1200 with 1 Axes>"
      ]
     },
     "metadata": {},
     "output_type": "display_data"
    }
   ],
   "source": [
    "top = 100\n",
    "top_words = model.wv.index_to_key[:top]\n",
    "plt.figure(figsize=(12, 12))\n",
    "plt.scatter(word_vectors_2d[:top, 0], word_vectors_2d[:top, 1])\n",
    "texts = [plt.text(word_vectors_2d[i, 0], word_vectors_2d[i, 1], word, fontsize=10) for i, word in enumerate(top_words)]\n",
    "adjust_text(texts)\n",
    "plt.title(\"Word Embeddings Visualization using t-SNE\")\n",
    "plt.show()"
   ]
  },
  {
   "cell_type": "markdown",
   "id": "7832a668",
   "metadata": {},
   "source": [
    "Как видно некоторые слова сгруппировались, а именно:\n",
    "- имена персонажей\n",
    "- слова отрицания\n",
    "- guy, mom, man, people, dad\n",
    "- like, love\n",
    "- глаголы: stop, see, say, take\n",
    "- и др"
   ]
  },
  {
   "cell_type": "markdown",
   "id": "bfdc0a93",
   "metadata": {},
   "source": [
    "## Найдем самые близкие слова для: \n",
    "- homer - marge + bart \n",
    "- bart - lisa + school \n",
    "- marge - homer + home"
   ]
  },
  {
   "cell_type": "code",
   "execution_count": 656,
   "id": "1ee71ed2",
   "metadata": {},
   "outputs": [
    {
     "data": {
      "text/plain": [
       "[('lisa', 0.8622966408729553),\n",
       " ('grampa', 0.7786160707473755),\n",
       " ('j', 0.775653600692749),\n",
       " ('abe', 0.7721544504165649),\n",
       " ('bartholomew', 0.7618066072463989),\n",
       " ('mr', 0.7315225005149841),\n",
       " ('milhouse', 0.7294183969497681),\n",
       " ('showboating', 0.7292415499687195),\n",
       " ('abraham', 0.7281079292297363),\n",
       " ('eliza', 0.7256541848182678)]"
      ]
     },
     "execution_count": 656,
     "metadata": {},
     "output_type": "execute_result"
    }
   ],
   "source": [
    "result = model.wv.most_similar(positive=['homer', 'bart'], negative=['marge'], topn=10)\n",
    "result"
   ]
  },
  {
   "cell_type": "markdown",
   "id": "a823810c",
   "metadata": {},
   "source": [
    "Тут вроде очевидно, что результат Lisa, так как она дочь Marge"
   ]
  },
  {
   "cell_type": "code",
   "execution_count": 657,
   "id": "552bb694",
   "metadata": {},
   "outputs": [
    {
     "data": {
      "text/plain": [
       "[('class', 0.795728862285614),\n",
       " ('today', 0.7752822637557983),\n",
       " ('high', 0.7717272043228149),\n",
       " ('bus', 0.7681974172592163),\n",
       " ('town', 0.763358473777771),\n",
       " ('test', 0.7603199481964111),\n",
       " ('bar', 0.7526285648345947),\n",
       " ('trip', 0.7524722814559937),\n",
       " ('early', 0.7437509298324585),\n",
       " ('sunday', 0.7436243295669556)]"
      ]
     },
     "execution_count": 657,
     "metadata": {},
     "output_type": "execute_result"
    }
   ],
   "source": [
    "result = model.wv.most_similar(positive=['bart', 'school'], negative=['lisa'], topn=10)\n",
    "result"
   ]
  },
  {
   "cell_type": "markdown",
   "id": "486406e7",
   "metadata": {},
   "source": [
    "Тут сложно мне понять результат, так как не знаю контекста этого мультфильма"
   ]
  },
  {
   "cell_type": "code",
   "execution_count": 658,
   "id": "b6e09643",
   "metadata": {},
   "outputs": [
    {
     "data": {
      "text/plain": [
       "[('bed', 0.8597913384437561),\n",
       " ('along', 0.8186908960342407),\n",
       " ('sleep', 0.8167943358421326),\n",
       " ('together', 0.8160274028778076),\n",
       " ('back', 0.8127487301826477),\n",
       " ('ahead', 0.7902049422264099),\n",
       " ('rest', 0.7887786030769348),\n",
       " ('free', 0.7685938477516174),\n",
       " ('em', 0.7617482542991638),\n",
       " ('soon', 0.7579746246337891)]"
      ]
     },
     "execution_count": 658,
     "metadata": {},
     "output_type": "execute_result"
    }
   ],
   "source": [
    "result = model.wv.most_similar(positive=['marge', 'home'], negative=['homer'], topn=10)\n",
    "result"
   ]
  },
  {
   "cell_type": "markdown",
   "id": "f7c5aef2",
   "metadata": {},
   "source": [
    "Тут скорее всего результат bed (кровать), потому что Marge занимается домом, а Homer всегда спит или отдыхает"
   ]
  },
  {
   "cell_type": "markdown",
   "id": "eb646b85",
   "metadata": {},
   "source": [
    "## Попробуем построить классификатор bart/lisa с использованием этих эмбеддингов"
   ]
  },
  {
   "cell_type": "markdown",
   "id": "b8ab79ff",
   "metadata": {},
   "source": [
    "[Вот тут есть обсуждение как word2vec подружить с RNN](https://discuss.pytorch.org/t/word2vec-as-input-to-lstm/40356)  \n",
    "Но можно сделать проще, где просто в датасете подготовить нужные эмбендинги"
   ]
  },
  {
   "cell_type": "markdown",
   "id": "66331a69",
   "metadata": {},
   "source": [
    "### Примечание\n",
    "- будем использовать эти же эмбеддинги, но только для полного набора слов, чтобы сохранить последовательность всех слов и манеру построения предложений двух этих персонажей"
   ]
  },
  {
   "cell_type": "code",
   "execution_count": 1135,
   "id": "02b90b55",
   "metadata": {},
   "outputs": [
    {
     "data": {
      "text/plain": [
       "(1103212, 1171100)"
      ]
     },
     "execution_count": 1135,
     "metadata": {},
     "output_type": "execute_result"
    }
   ],
   "source": [
    "vector_size = 300\n",
    "model_w2v = gensim.models.Word2Vec(vector_size=vector_size, min_count=1)\n",
    "model_w2v.build_vocab(corpuses_ds)\n",
    "model_w2v.train(corpuses_ds, total_examples=model_w2v.corpus_count, epochs=100)"
   ]
  },
  {
   "cell_type": "code",
   "execution_count": 1332,
   "id": "8ae590bb",
   "metadata": {},
   "outputs": [],
   "source": [
    "embedding_matrix = model_w2v.wv.vectors\n",
    "word2vec_weights = torch.FloatTensor(embedding_matrix)"
   ]
  },
  {
   "cell_type": "code",
   "execution_count": 1296,
   "id": "bd52322e",
   "metadata": {},
   "outputs": [],
   "source": [
    "word2index = {word: index for index, word in enumerate(model_w2v.wv.index_to_key)}\n",
    "word2index['padding_token'] = len(word2index)+1"
   ]
  },
  {
   "cell_type": "code",
   "execution_count": 1297,
   "id": "96aa0a3a",
   "metadata": {},
   "outputs": [],
   "source": [
    "embedding_dim = vector_size\n",
    "num_embeddings = len(word2index)"
   ]
  },
  {
   "cell_type": "code",
   "execution_count": 1329,
   "id": "9b6bb1de",
   "metadata": {},
   "outputs": [],
   "source": [
    "embedding_matrix_ = torch.zeros(num_embeddings, embedding_dim)"
   ]
  },
  {
   "cell_type": "code",
   "execution_count": 1330,
   "id": "b0ddb011",
   "metadata": {},
   "outputs": [
    {
     "name": "stderr",
     "output_type": "stream",
     "text": [
      "C:\\Users\\a.makey\\AppData\\Local\\Temp\\ipykernel_17296\\437333713.py:3: UserWarning: To copy construct from a tensor, it is recommended to use sourceTensor.clone().detach() or sourceTensor.clone().detach().requires_grad_(True), rather than torch.tensor(sourceTensor).\n",
      "  embedding_matrix_[index] = torch.tensor(word2vec_weights[index])\n"
     ]
    }
   ],
   "source": [
    "for word, index in word2index.items():\n",
    "    if word != 'padding_token':\n",
    "        embedding_matrix_[index] = torch.tensor(word2vec_weights[index])"
   ]
  },
  {
   "cell_type": "code",
   "execution_count": 1136,
   "id": "ada9b5ba",
   "metadata": {},
   "outputs": [],
   "source": [
    "num_classes = 2\n",
    "input_size = 40\n",
    "# будем ограничивать предложение только 20 словами\n",
    "data = corpuses_ds\n",
    "label = characters_ds"
   ]
  },
  {
   "cell_type": "code",
   "execution_count": 1343,
   "id": "9de2e036",
   "metadata": {},
   "outputs": [],
   "source": [
    "class SentDataset(Dataset):\n",
    "\n",
    "    def __init__(self, sentences, w2v_model, characters_, num_classes, input_size, transform=None):\n",
    "        self.sentences = sentences\n",
    "        self.w2v_model = w2v_model\n",
    "        self.characters_ = characters_\n",
    "        self.num_classes = num_classes\n",
    "        self.input_size = input_size\n",
    "        self.transform = transform\n",
    "\n",
    "    def __getitem__(self, i):\n",
    "        \n",
    "        indices = torch.tensor([self.w2v_model.wv.get_index(word) for word in self.sentences[i]])\n",
    "        corpus_size = len(indices)\n",
    "        padding_idx = self.w2v_model.wv.vectors.shape[0]\n",
    "        x = torch.zeros(self.input_size).int() + padding_idx\n",
    "        x[:corpus_size] = indices[:corpus_size]\n",
    "        y = torch.tensor(self.characters_[i]).long()\n",
    "\n",
    "#         embedding = torch.tensor(self.w2v_model.wv[self.sentences[i]])\n",
    "#         embedding_size = embedding.size(-1)\n",
    "#         corpus_size = embedding.size(-2)\n",
    "#         if corpus_size > self.input_size:\n",
    "#             corpus_size = self.input_size\n",
    "#         x = torch.zeros(self.input_size, embedding_size)\n",
    "#         x[:corpus_size, :] = embedding[:corpus_size, :]\n",
    "        if self.transform:\n",
    "            x = self.transform(x)\n",
    "        \n",
    "        return (x, y)\n",
    "\n",
    "    def __len__(self):\n",
    "        return len(self.sentences)"
   ]
  },
  {
   "cell_type": "code",
   "execution_count": 1344,
   "id": "99fb02d4",
   "metadata": {},
   "outputs": [],
   "source": [
    "transform = None"
   ]
  },
  {
   "cell_type": "code",
   "execution_count": 1345,
   "id": "f9f0972c",
   "metadata": {},
   "outputs": [],
   "source": [
    "dataset = SentDataset(data, model_w2v, label, num_classes, input_size, transform)"
   ]
  },
  {
   "cell_type": "code",
   "execution_count": 1346,
   "id": "4062eedc",
   "metadata": {},
   "outputs": [
    {
     "data": {
      "text/plain": [
       "(tensor([   0,  363,    0,  762,   43,  393,   23,    0,   16,  975, 2048, 4088,\n",
       "         4088, 4088, 4088, 4088, 4088, 4088, 4088, 4088, 4088, 4088, 4088, 4088,\n",
       "         4088, 4088, 4088, 4088, 4088, 4088, 4088, 4088, 4088, 4088, 4088, 4088,\n",
       "         4088, 4088, 4088, 4088], dtype=torch.int32),\n",
       " tensor(0))"
      ]
     },
     "execution_count": 1346,
     "metadata": {},
     "output_type": "execute_result"
    }
   ],
   "source": [
    "dataset[0]"
   ]
  },
  {
   "cell_type": "code",
   "execution_count": 1347,
   "id": "2a6f7e72",
   "metadata": {},
   "outputs": [],
   "source": [
    "total_samples = len(dataset)\n",
    "train_samples = int(0.7 * total_samples)\n",
    "train_indices = list(range(train_samples))\n",
    "test_indices = list(range(train_samples, total_samples))\n",
    "train_dataset = torch.utils.data.Subset(dataset, train_indices)\n",
    "test_dataset = torch.utils.data.Subset(dataset, test_indices)"
   ]
  },
  {
   "cell_type": "code",
   "execution_count": 1348,
   "id": "832153c4",
   "metadata": {},
   "outputs": [
    {
     "data": {
      "text/plain": [
       "979"
      ]
     },
     "execution_count": 1348,
     "metadata": {},
     "output_type": "execute_result"
    }
   ],
   "source": [
    "len(dataset)"
   ]
  },
  {
   "cell_type": "code",
   "execution_count": 1349,
   "id": "de3bb324",
   "metadata": {},
   "outputs": [],
   "source": [
    "batch_size = 2048"
   ]
  },
  {
   "cell_type": "code",
   "execution_count": 1350,
   "id": "9f356707",
   "metadata": {},
   "outputs": [],
   "source": [
    "train_dataloader = DataLoader(\n",
    "    train_dataset,\n",
    "    batch_size=batch_size,\n",
    "    shuffle=True,\n",
    "    pin_memory=torch.cuda.is_available(),\n",
    "#     num_workers=param.num_workers\n",
    ")\n",
    "\n",
    "test_dataloader = DataLoader(\n",
    "    test_dataset,\n",
    "    batch_size=batch_size,\n",
    "    shuffle=False,\n",
    "    pin_memory=torch.cuda.is_available(),\n",
    "#     num_workers=param.num_workers\n",
    ")"
   ]
  },
  {
   "cell_type": "code",
   "execution_count": 1351,
   "id": "841726ec",
   "metadata": {},
   "outputs": [],
   "source": [
    "class RNNModel(torch.nn.Module):\n",
    "    def __init__(self, embedding_size, hidden_size, num_layers, num_classes, embedding_matrix):\n",
    "        super(RNNModel, self).__init__()\n",
    "        self.hidden_size = hidden_size\n",
    "        self.embedding_size = embedding_size\n",
    "        self.num_layers = num_layers\n",
    "        self.embedding = torch.nn.Embedding.from_pretrained(embedding_matrix)\n",
    "        self.rnn = torch.nn.LSTM(embedding_size, hidden_size, num_layers, batch_first=True, bidirectional=True)\n",
    "        self.lin = torch.nn.Linear(hidden_size*2, hidden_size//2)\n",
    "        self.relu = torch.nn.ReLU()\n",
    "        self.out = torch.nn.Linear(hidden_size//2, num_classes)\n",
    "\n",
    "\n",
    "    def forward(self, x):\n",
    "        embedding.weight.requires_grad=False\n",
    "        x = self.embedding(x)\n",
    "        output, hidden = self.rnn(x)\n",
    "        output = output[:, -1, :]\n",
    "        output = self.lin(output)\n",
    "        output = self.relu(output)\n",
    "        output = self.out(output)\n",
    "        return output"
   ]
  },
  {
   "cell_type": "code",
   "execution_count": 1353,
   "id": "6f529dca",
   "metadata": {},
   "outputs": [],
   "source": [
    "device = torch.device('cuda') if torch.cuda.is_available() else torch.device('cpu')\n",
    "\n",
    "embedding_size = embedding_matrix.shape[1]\n",
    "hidden_size = 128\n",
    "num_layers = 2\n",
    "rnn_model = RNNModel(embedding_size, hidden_size, num_layers, num_classes, embedding_matrix_)\n",
    "rnn_model.to(device)\n",
    "\n",
    "criterion = torch.nn.CrossEntropyLoss()\n",
    "optimizer = torch.optim.Adam(rnn_model.parameters(), lr=0.05)\n",
    "# scheduler = torch.optim.lr_scheduler.StepLR(optimizer, step_size=10, gamma=0.1)\n",
    "scheduler = None"
   ]
  },
  {
   "cell_type": "markdown",
   "id": "2f4ae26d",
   "metadata": {},
   "source": [
    "### Примечание\n",
    "- к сожалению не смог подобрать нужную модель, даже не знаю в чем может быть проблема, так как перебрал разные варианты\n",
    "- проблема в данных? или в модели? или в параметрах обучения?"
   ]
  },
  {
   "cell_type": "code",
   "execution_count": 1357,
   "id": "cddfdddf",
   "metadata": {},
   "outputs": [
    {
     "name": "stdout",
     "output_type": "stream",
     "text": [
      "epoch 0: train loss 0.6896162033081055, test loss 0.6923906207084656, test accu 0.5272108912467957\n",
      "epoch 1: train loss 0.6895740032196045, test loss 0.692177414894104, test accu 0.5272108912467957\n",
      "epoch 2: train loss 0.6896235346794128, test loss 0.692101001739502, test accu 0.5272108912467957\n",
      "epoch 3: train loss 0.6896811723709106, test loss 0.6921157836914062, test accu 0.5272108912467957\n",
      "epoch 4: train loss 0.6896336674690247, test loss 0.692224383354187, test accu 0.5272108912467957\n",
      "epoch 5: train loss 0.6895483732223511, test loss 0.6924251317977905, test accu 0.5272108912467957\n",
      "epoch 6: train loss 0.6895024180412292, test loss 0.6926428079605103, test accu 0.5272108912467957\n",
      "epoch 7: train loss 0.6895098686218262, test loss 0.6927555799484253, test accu 0.5272108912467957\n",
      "epoch 8: train loss 0.6895167231559753, test loss 0.6926937103271484, test accu 0.5272108912467957\n",
      "epoch 9: train loss 0.6894782781600952, test loss 0.6924959421157837, test accu 0.5272108912467957\n"
     ]
    }
   ],
   "source": [
    "num_epochs = 10\n",
    "for epoch in range(num_epochs):\n",
    "    \n",
    "    rnn_model.train(True)\n",
    "    train_loss = 0.0\n",
    "    for i, (X, y) in enumerate(train_dataloader):\n",
    "        X, y = X.to(device), y.to(device)\n",
    "        optimizer.zero_grad()\n",
    "        outputs = rnn_model(X)\n",
    "        loss = criterion(outputs, y)\n",
    "        train_loss += loss.item()\n",
    "        loss.backward()\n",
    "        optimizer.step()\n",
    "    train_loss /= len(train_dataloader)\n",
    "    \n",
    "    rnn_model.train(False)\n",
    "    test_loss = 0.0\n",
    "    test_accu = 0.0\n",
    "    for i, (X, y) in enumerate(test_dataloader):\n",
    "        X, y = X.to(device), y.to(device)\n",
    "        outputs = rnn_model(X)\n",
    "        loss = criterion(outputs, y)\n",
    "        test_loss += loss.item()\n",
    "        \n",
    "        predictions = outputs.argmax(dim=1)\n",
    "        accuracy = (predictions == y).float().mean()    \n",
    "        test_accu += accuracy.item()\n",
    "        \n",
    "    test_loss /= len(test_dataloader)\n",
    "    test_accu /= len(test_dataloader)\n",
    "\n",
    "    if scheduler:\n",
    "        scheduler.step()\n",
    "        \n",
    "    print(f'epoch {epoch}: train loss {train_loss}, test loss {test_loss}, test accu {test_accu}')"
   ]
  },
  {
   "cell_type": "code",
   "execution_count": 1356,
   "id": "f681a5ca",
   "metadata": {},
   "outputs": [],
   "source": [
    "for param_group in optimizer.param_groups:\n",
    "    param_group['lr'] = 0.01\n",
    "#     param_group['weight_decay'] = 0"
   ]
  },
  {
   "cell_type": "code",
   "execution_count": 1209,
   "id": "0bcd4871",
   "metadata": {},
   "outputs": [
    {
     "data": {
      "text/plain": [
       "RNNModel(\n",
       "  (rnn): LSTM(300, 128, num_layers=2, batch_first=True, bidirectional=True)\n",
       "  (lin): Linear(in_features=256, out_features=64, bias=True)\n",
       "  (relu): ReLU()\n",
       "  (out): Linear(in_features=64, out_features=2, bias=True)\n",
       ")"
      ]
     },
     "execution_count": 1209,
     "metadata": {},
     "output_type": "execute_result"
    }
   ],
   "source": [
    "rnn_model.eval()"
   ]
  },
  {
   "cell_type": "code",
   "execution_count": 1212,
   "id": "62529420",
   "metadata": {},
   "outputs": [
    {
     "name": "stdout",
     "output_type": "stream",
     "text": [
      "модель tensor([0])\n",
      "оригинал 0\n"
     ]
    }
   ],
   "source": [
    "X, y = test_dataset[0]\n",
    "print('модель', rnn_model(X.unsqueeze(0)).argmax(dim=1))\n",
    "print('оригинал', y.item())"
   ]
  },
  {
   "cell_type": "code",
   "execution_count": 1213,
   "id": "5fe9d045",
   "metadata": {},
   "outputs": [
    {
     "name": "stdout",
     "output_type": "stream",
     "text": [
      "модель tensor([0])\n",
      "оригинал 0\n"
     ]
    }
   ],
   "source": [
    "X, y = test_dataset[1]\n",
    "print('модель', rnn_model(X.unsqueeze(0)).argmax(dim=1))\n",
    "print('оригинал', y.item())"
   ]
  },
  {
   "cell_type": "markdown",
   "id": "5de2e362",
   "metadata": {},
   "source": [
    "## Итого\n",
    "- попробовал много чего, но у меня ничего не получилось\n",
    "- если есть тут решение, хотелось бы на него посмотреть и понять, где я тут делаю ошибку и на чем застрял"
   ]
  },
  {
   "cell_type": "code",
   "execution_count": null,
   "id": "a2aaf7ae",
   "metadata": {},
   "outputs": [],
   "source": []
  }
 ],
 "metadata": {
  "kernelspec": {
   "display_name": "Python 3 (ipykernel)",
   "language": "python",
   "name": "python3"
  },
  "language_info": {
   "codemirror_mode": {
    "name": "ipython",
    "version": 3
   },
   "file_extension": ".py",
   "mimetype": "text/x-python",
   "name": "python",
   "nbconvert_exporter": "python",
   "pygments_lexer": "ipython3",
   "version": "3.11.4"
  }
 },
 "nbformat": 4,
 "nbformat_minor": 5
}
