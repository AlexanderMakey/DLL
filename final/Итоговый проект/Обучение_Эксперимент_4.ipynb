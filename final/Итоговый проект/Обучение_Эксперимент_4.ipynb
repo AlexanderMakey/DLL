{
 "cells": [
  {
   "cell_type": "code",
   "execution_count": 1,
   "id": "09127ae4",
   "metadata": {
    "id": "09127ae4"
   },
   "outputs": [],
   "source": [
    "import os"
   ]
  },
  {
   "cell_type": "code",
   "execution_count": 2,
   "id": "b4fa80f7",
   "metadata": {
    "id": "b4fa80f7"
   },
   "outputs": [],
   "source": [
    "folder = 'Данные_Эксперимент_4'"
   ]
  },
  {
   "cell_type": "markdown",
   "id": "b5377993",
   "metadata": {
    "id": "b5377993"
   },
   "source": [
    "## Загрузка данных"
   ]
  },
  {
   "cell_type": "code",
   "execution_count": 3,
   "id": "1ce32ea7",
   "metadata": {
    "id": "1ce32ea7"
   },
   "outputs": [],
   "source": [
    "import json\n",
    "\n",
    "# Входные данные\n",
    "with open(os.path.join(folder, 'description_text.json'), 'r') as f:\n",
    "    description_text = json.load(f)\n",
    "\n",
    "## Признаки\n",
    "with open(os.path.join(folder, 'index_1_labels.json'), 'r') as f:\n",
    "    index_1_labels = json.load(f)\n",
    "\n",
    "with open(os.path.join(folder, 'index_2_labels.json'), 'r') as f:\n",
    "    index_2_labels = json.load(f)\n",
    "\n",
    "with open(os.path.join(folder, 'index_3_labels.json'), 'r') as f:\n",
    "    index_3_labels = json.load(f)\n",
    "\n",
    "with open(os.path.join(folder, 'index_4_labels.json'), 'r') as f:\n",
    "    index_4_labels = json.load(f)\n",
    "\n",
    "with open(os.path.join(folder, 'index_5_labels.json'), 'r') as f:\n",
    "    index_5_labels = json.load(f)"
   ]
  },
  {
   "cell_type": "code",
   "execution_count": 4,
   "id": "3aedff72",
   "metadata": {
    "id": "3aedff72"
   },
   "outputs": [],
   "source": [
    "# NUM_INDEXES = len(dictionary)\n",
    "MAX_LENGTH = 256\n",
    "\n",
    "NUM_1_CLASSES = len(set(index_1_labels))\n",
    "NUM_2_CLASSES = len(set(index_2_labels))\n",
    "NUM_3_CLASSES = len(set(index_3_labels))\n",
    "NUM_4_CLASSES = len(set(index_4_labels))\n",
    "NUM_5_CLASSES = len(set(index_5_labels))"
   ]
  },
  {
   "cell_type": "code",
   "execution_count": 5,
   "id": "9a1c9098",
   "metadata": {
    "colab": {
     "base_uri": "https://localhost:8080/"
    },
    "id": "9a1c9098",
    "outputId": "15d0bb6e-209f-4be3-f47a-6798aeeacd26"
   },
   "outputs": [
    {
     "data": {
      "text/plain": [
       "(3, 3, 13, 24, 257)"
      ]
     },
     "execution_count": 5,
     "metadata": {},
     "output_type": "execute_result"
    }
   ],
   "source": [
    "NUM_1_CLASSES, NUM_2_CLASSES, NUM_3_CLASSES, NUM_4_CLASSES, NUM_5_CLASSES"
   ]
  },
  {
   "cell_type": "markdown",
   "id": "2668c46f",
   "metadata": {
    "id": "2668c46f"
   },
   "source": [
    "## Предобученная модель"
   ]
  },
  {
   "cell_type": "code",
   "execution_count": null,
   "id": "df1abc06",
   "metadata": {
    "id": "df1abc06"
   },
   "outputs": [],
   "source": [
    "!pip install transformers"
   ]
  },
  {
   "cell_type": "code",
   "execution_count": null,
   "id": "9ea79e1a",
   "metadata": {
    "id": "9ea79e1a"
   },
   "outputs": [],
   "source": [
    "!pip install sentencepiece"
   ]
  },
  {
   "cell_type": "code",
   "execution_count": 7,
   "id": "fdc7f2b3",
   "metadata": {
    "id": "fdc7f2b3"
   },
   "outputs": [],
   "source": [
    "os.environ[\"HF_HUB_DISABLE_SYMLINKS_WARNING\"] = \"1\""
   ]
  },
  {
   "cell_type": "code",
   "execution_count": 8,
   "id": "c3b4e73b",
   "metadata": {
    "id": "c3b4e73b"
   },
   "outputs": [],
   "source": [
    "from transformers import AutoModelForSequenceClassification, AutoConfig"
   ]
  },
  {
   "cell_type": "code",
   "execution_count": 9,
   "id": "e6341bf6",
   "metadata": {
    "id": "e6341bf6"
   },
   "outputs": [],
   "source": [
    "MODEL_NAME = 'bert-base-multilingual-cased'"
   ]
  },
  {
   "cell_type": "code",
   "execution_count": 10,
   "id": "652dd569",
   "metadata": {
    "colab": {
     "base_uri": "https://localhost:8080/",
     "height": 136,
     "referenced_widgets": [
      "ed6ad2b3f04c4c33881d5cbeada58196",
      "8866d3eabe3841ad8850d1db1eb9c561",
      "353e82398e2b495b82b2496a36c0db50",
      "4193ba2fbcd64d0f8ebf1fdfe745262c",
      "08ce1e7053e04c8e8eac97b0ecdb5159",
      "144eae7320e3496daac2c99fa3c896d1",
      "2ca72da9fbb841a7aaf34ba61a3f7b40",
      "61e8bd5f1cac49ea99549d0c2c5b073e",
      "d8731329850744d08e348edb926d3a9a",
      "fe12c563cbd744d2ba571d4b90aa903b",
      "e84f68e3426a4a0bb8b0d76c83542fa5",
      "7266e70cb98c4229aa453d4e8aa436b6",
      "18050fe8fa584a38a1a2b87209ad08c2",
      "ee77278ef45a465999db01f8c309b713",
      "d40925a6dca047ee8986292f2b609b11",
      "22bd5085397f4a4d9842301614099f58",
      "7702009b44c342509a5001311e86efdb",
      "aadd844afdd04d648322cb7a9ae4fe44",
      "500338013086458da6e4c74a60c1c952",
      "9e73ffbaed454e7abaddaee0e5ef8c98",
      "eabc62b2b3fa43cca24b103e5a497be1",
      "696652e904494efcaaa545eeffb7d10d"
     ]
    },
    "id": "652dd569",
    "outputId": "38e4a67f-93c8-447b-c881-13a88bd13916"
   },
   "outputs": [
    {
     "data": {
      "application/vnd.jupyter.widget-view+json": {
       "model_id": "ed6ad2b3f04c4c33881d5cbeada58196",
       "version_major": 2,
       "version_minor": 0
      },
      "text/plain": [
       "Downloading (…)lve/main/config.json:   0%|          | 0.00/625 [00:00<?, ?B/s]"
      ]
     },
     "metadata": {},
     "output_type": "display_data"
    },
    {
     "data": {
      "application/vnd.jupyter.widget-view+json": {
       "model_id": "7266e70cb98c4229aa453d4e8aa436b6",
       "version_major": 2,
       "version_minor": 0
      },
      "text/plain": [
       "Downloading model.safetensors:   0%|          | 0.00/714M [00:00<?, ?B/s]"
      ]
     },
     "metadata": {},
     "output_type": "display_data"
    },
    {
     "name": "stderr",
     "output_type": "stream",
     "text": [
      "Some weights of BertForSequenceClassification were not initialized from the model checkpoint at bert-base-multilingual-cased and are newly initialized: ['classifier.weight', 'classifier.bias']\n",
      "You should probably TRAIN this model on a down-stream task to be able to use it for predictions and inference.\n"
     ]
    }
   ],
   "source": [
    "bert_config = AutoConfig.from_pretrained(MODEL_NAME)\n",
    "bert_config.output_hidden_states = True\n",
    "backbone = AutoModelForSequenceClassification.from_pretrained(MODEL_NAME, config=bert_config)"
   ]
  },
  {
   "cell_type": "code",
   "execution_count": 11,
   "id": "4327f864",
   "metadata": {
    "id": "4327f864"
   },
   "outputs": [],
   "source": [
    "# Заморозить обучение всех параметров модели\n",
    "for param in backbone.parameters():\n",
    "    param.requires_grad = False"
   ]
  },
  {
   "cell_type": "markdown",
   "id": "6dfcfe6c",
   "metadata": {
    "id": "6dfcfe6c"
   },
   "source": [
    "## Датасет"
   ]
  },
  {
   "cell_type": "code",
   "execution_count": 12,
   "id": "a8ea99db",
   "metadata": {
    "id": "a8ea99db"
   },
   "outputs": [],
   "source": [
    "from transformers import AutoTokenizer"
   ]
  },
  {
   "cell_type": "code",
   "execution_count": 13,
   "id": "325a9ae2",
   "metadata": {
    "colab": {
     "base_uri": "https://localhost:8080/",
     "height": 113,
     "referenced_widgets": [
      "f7d59b766d8143dba30a92973f84fff2",
      "9a0dbc2863c040a28160894143c86fba",
      "5dccc700a2cc4b8b86e5bd6dd02c5cf3",
      "20bbefa86cc047ff83ffb3797ab55c20",
      "4360af785bf14913b7fce0433b0582ce",
      "b8dcbf466a974370b6b3ddd83b4fa325",
      "307a63de9eac4a24b8920edfb5684018",
      "1093c837219d4e8a9a1a21196344672a",
      "f54e9878630745e285d5e997436617e7",
      "5cacd59751a0456e8b932d9cd60f3adb",
      "562d05cc5b02462f983d553adcd7e1cc",
      "ef45ae88acef4211a8d41c429f191d31",
      "b4d1a34267de48c09490b0a11d6161c9",
      "27b87ab72a8a4859a60e64ff03feb386",
      "1efa6a746dee49b9a96d4bb0e416894c",
      "827c8d826ed945a78378331747ad9cbe",
      "b725016c07834bb888836d88fe7a5332",
      "d9fab3ea92f64031a9857b12a80a7ddd",
      "4e4c2e66dd4d400b93677d9cf043c644",
      "1ea6becd00f8423aba8944fff7881289",
      "3da31ae2b60241e3bc107b0eb58f9e52",
      "f9c92beca40c4fc2ad5a9c250f482692",
      "f0a7c4ba4fd041a8b9b7d3caa07e050e",
      "49cd6b67951742cb92fa628dc38b9f30",
      "5a3551bc86184bef8971625f9b87fcda",
      "f4fbb5cdf5c547b3987307a7a20cd0d2",
      "fc98de074fed4edfaf02ac9fe1d66ef0",
      "02b9013e887c45d0bff0f0b4cd8d021b",
      "427489edadac45a1a46b34cc634bfa6a",
      "29f2b00beaa24347b8a37a3aa663c2af",
      "b5f03425776c499da26acdb138ec9449",
      "b0f4b2d287144543919777b4843a3383",
      "a505e6a8998a4fba91cc1e92f92f7418"
     ]
    },
    "id": "325a9ae2",
    "outputId": "2906b5e0-1de0-4cfd-a928-a0a57a7d4373"
   },
   "outputs": [
    {
     "data": {
      "application/vnd.jupyter.widget-view+json": {
       "model_id": "f7d59b766d8143dba30a92973f84fff2",
       "version_major": 2,
       "version_minor": 0
      },
      "text/plain": [
       "Downloading (…)okenizer_config.json:   0%|          | 0.00/29.0 [00:00<?, ?B/s]"
      ]
     },
     "metadata": {},
     "output_type": "display_data"
    },
    {
     "data": {
      "application/vnd.jupyter.widget-view+json": {
       "model_id": "ef45ae88acef4211a8d41c429f191d31",
       "version_major": 2,
       "version_minor": 0
      },
      "text/plain": [
       "Downloading (…)solve/main/vocab.txt:   0%|          | 0.00/996k [00:00<?, ?B/s]"
      ]
     },
     "metadata": {},
     "output_type": "display_data"
    },
    {
     "data": {
      "application/vnd.jupyter.widget-view+json": {
       "model_id": "f0a7c4ba4fd041a8b9b7d3caa07e050e",
       "version_major": 2,
       "version_minor": 0
      },
      "text/plain": [
       "Downloading (…)/main/tokenizer.json:   0%|          | 0.00/1.96M [00:00<?, ?B/s]"
      ]
     },
     "metadata": {},
     "output_type": "display_data"
    }
   ],
   "source": [
    "tokenizer = AutoTokenizer.from_pretrained(MODEL_NAME)"
   ]
  },
  {
   "cell_type": "code",
   "execution_count": 14,
   "id": "4563fe9e",
   "metadata": {
    "id": "4563fe9e"
   },
   "outputs": [],
   "source": [
    "description_indexes = [tokenizer(item,\n",
    "                       padding='max_length',\n",
    "                       max_length = MAX_LENGTH,\n",
    "                       truncation=True)['input_ids'] for item in description_text]"
   ]
  },
  {
   "cell_type": "code",
   "execution_count": 15,
   "id": "ca83d746",
   "metadata": {
    "id": "ca83d746"
   },
   "outputs": [],
   "source": [
    "description_masks = [tokenizer(item,\n",
    "                       padding='max_length',\n",
    "                       max_length = MAX_LENGTH,\n",
    "                       truncation=True)['attention_mask'] for item in description_text]"
   ]
  },
  {
   "cell_type": "code",
   "execution_count": 16,
   "id": "72cbf94a",
   "metadata": {
    "id": "72cbf94a"
   },
   "outputs": [],
   "source": [
    "import torch\n",
    "from torch.utils.data import DataLoader, Dataset"
   ]
  },
  {
   "cell_type": "code",
   "execution_count": 17,
   "id": "37c141ce",
   "metadata": {
    "colab": {
     "base_uri": "https://localhost:8080/"
    },
    "id": "37c141ce",
    "outputId": "64b0a23d-02b2-444d-8072-b61f84de3935"
   },
   "outputs": [
    {
     "data": {
      "text/plain": [
       "device(type='cuda')"
      ]
     },
     "execution_count": 17,
     "metadata": {},
     "output_type": "execute_result"
    }
   ],
   "source": [
    "device = torch.device(\"cuda\" if torch.cuda.is_available() else \"cpu\")\n",
    "device"
   ]
  },
  {
   "cell_type": "code",
   "execution_count": 18,
   "id": "67014712",
   "metadata": {
    "id": "67014712"
   },
   "outputs": [],
   "source": [
    "class SentDataset(Dataset):\n",
    "\n",
    "    def __init__(self, indexes, masks, labels, max_len=None):\n",
    "        self.indexes = indexes\n",
    "        self.masks = masks\n",
    "        self.labels_1 = labels[0]\n",
    "        self.labels_2 = labels[1]\n",
    "        self.labels_3 = labels[2]\n",
    "        self.labels_4 = labels[3]\n",
    "        self.labels_5 = labels[4]\n",
    "\n",
    "    def __getitem__(self, i):\n",
    "\n",
    "        row = self.indexes[i]\n",
    "        mask = self.masks[i]\n",
    "        label_1 = self.labels_1[i]\n",
    "        label_2 = self.labels_2[i]\n",
    "        label_3 = self.labels_3[i]\n",
    "        label_4 = self.labels_4[i]\n",
    "        label_5 = self.labels_5[i]\n",
    "\n",
    "        x = torch.tensor(row, dtype=torch.long, device=device)\n",
    "        x_m = torch.tensor(mask, dtype=torch.long, device=device)\n",
    "        y1 = torch.tensor(label_1, dtype=torch.long, device=device)\n",
    "        y2 = torch.tensor(label_2, dtype=torch.long, device=device)\n",
    "        y3 = torch.tensor(label_3, dtype=torch.long, device=device)\n",
    "        y4 = torch.tensor(label_4, dtype=torch.long, device=device)\n",
    "        y5 = torch.tensor(label_5, dtype=torch.long, device=device)\n",
    "\n",
    "        return ((x, x_m), (y1, y2, y3, y4, y5))\n",
    "\n",
    "    def __len__(self):\n",
    "        return len(self.indexes)"
   ]
  },
  {
   "cell_type": "code",
   "execution_count": 19,
   "id": "52840215",
   "metadata": {
    "id": "52840215"
   },
   "outputs": [],
   "source": [
    "dataset = SentDataset(description_indexes,\n",
    "                      description_masks,\n",
    "                      (index_1_labels, index_2_labels, index_3_labels, index_4_labels, index_5_labels))"
   ]
  },
  {
   "cell_type": "code",
   "execution_count": 20,
   "id": "5a91356f",
   "metadata": {
    "colab": {
     "base_uri": "https://localhost:8080/"
    },
    "id": "5a91356f",
    "outputId": "9c10271b-31bd-4079-beb0-270d769ca41a"
   },
   "outputs": [
    {
     "data": {
      "text/plain": [
       "((tensor([   101,  10439,  33649,  15061, 108515,  10375,  30604,  10353,  36035,\n",
       "           37574,  10475,  61394,  66045,    546,  18705,  17371,    119,  90363,\n",
       "           11851,  14122,  10913,  41102,  46920,  10292,  37178,  10234,  53204,\n",
       "           22523,  10517,  10475,  61394,  89465,  10227,    546,  18705,  17371,\n",
       "           48495,  61995,  77362,  11911,  19528,  12964,  10320,  51965,  10510,\n",
       "           51965,  10510, 105466,  43900,  10161,  10387,  66991,  14655,  10297,\n",
       "           25263,  59808,  11279,  13976,  10375,  10956,  10353,  32229,  20292,\n",
       "           18494,  33190,  10332, 107084,  11258,  10949,  11663,    136,    558,\n",
       "          107528,  29709,    119,    102,      0,      0,      0,      0,      0,\n",
       "               0,      0,      0,      0,      0,      0,      0,      0,      0,\n",
       "               0,      0,      0,      0,      0,      0,      0,      0,      0,\n",
       "               0,      0,      0,      0,      0,      0,      0,      0,      0,\n",
       "               0,      0,      0,      0,      0,      0,      0,      0,      0,\n",
       "               0,      0,      0,      0,      0,      0,      0,      0,      0,\n",
       "               0,      0,      0,      0,      0,      0,      0,      0,      0,\n",
       "               0,      0,      0,      0,      0,      0,      0,      0,      0,\n",
       "               0,      0,      0,      0,      0,      0,      0,      0,      0,\n",
       "               0,      0,      0,      0,      0,      0,      0,      0,      0,\n",
       "               0,      0,      0,      0,      0,      0,      0,      0,      0,\n",
       "               0,      0,      0,      0,      0,      0,      0,      0,      0,\n",
       "               0,      0,      0,      0,      0,      0,      0,      0,      0,\n",
       "               0,      0,      0,      0,      0,      0,      0,      0,      0,\n",
       "               0,      0,      0,      0,      0,      0,      0,      0,      0,\n",
       "               0,      0,      0,      0,      0,      0,      0,      0,      0,\n",
       "               0,      0,      0,      0,      0,      0,      0,      0,      0,\n",
       "               0,      0,      0,      0,      0,      0,      0,      0,      0,\n",
       "               0,      0,      0,      0,      0,      0,      0,      0,      0,\n",
       "               0,      0,      0,      0,      0,      0,      0,      0,      0,\n",
       "               0,      0,      0,      0], device='cuda:0'),\n",
       "  tensor([1, 1, 1, 1, 1, 1, 1, 1, 1, 1, 1, 1, 1, 1, 1, 1, 1, 1, 1, 1, 1, 1, 1, 1,\n",
       "          1, 1, 1, 1, 1, 1, 1, 1, 1, 1, 1, 1, 1, 1, 1, 1, 1, 1, 1, 1, 1, 1, 1, 1,\n",
       "          1, 1, 1, 1, 1, 1, 1, 1, 1, 1, 1, 1, 1, 1, 1, 1, 1, 1, 1, 1, 1, 1, 1, 1,\n",
       "          1, 1, 1, 1, 0, 0, 0, 0, 0, 0, 0, 0, 0, 0, 0, 0, 0, 0, 0, 0, 0, 0, 0, 0,\n",
       "          0, 0, 0, 0, 0, 0, 0, 0, 0, 0, 0, 0, 0, 0, 0, 0, 0, 0, 0, 0, 0, 0, 0, 0,\n",
       "          0, 0, 0, 0, 0, 0, 0, 0, 0, 0, 0, 0, 0, 0, 0, 0, 0, 0, 0, 0, 0, 0, 0, 0,\n",
       "          0, 0, 0, 0, 0, 0, 0, 0, 0, 0, 0, 0, 0, 0, 0, 0, 0, 0, 0, 0, 0, 0, 0, 0,\n",
       "          0, 0, 0, 0, 0, 0, 0, 0, 0, 0, 0, 0, 0, 0, 0, 0, 0, 0, 0, 0, 0, 0, 0, 0,\n",
       "          0, 0, 0, 0, 0, 0, 0, 0, 0, 0, 0, 0, 0, 0, 0, 0, 0, 0, 0, 0, 0, 0, 0, 0,\n",
       "          0, 0, 0, 0, 0, 0, 0, 0, 0, 0, 0, 0, 0, 0, 0, 0, 0, 0, 0, 0, 0, 0, 0, 0,\n",
       "          0, 0, 0, 0, 0, 0, 0, 0, 0, 0, 0, 0, 0, 0, 0, 0], device='cuda:0')),\n",
       " (tensor(0, device='cuda:0'),\n",
       "  tensor(0, device='cuda:0'),\n",
       "  tensor(2, device='cuda:0'),\n",
       "  tensor(8, device='cuda:0'),\n",
       "  tensor(29, device='cuda:0')))"
      ]
     },
     "execution_count": 20,
     "metadata": {},
     "output_type": "execute_result"
    }
   ],
   "source": [
    "X, y = dataset[10]\n",
    "X, y"
   ]
  },
  {
   "cell_type": "code",
   "execution_count": 21,
   "id": "e2f968d0",
   "metadata": {
    "id": "e2f968d0"
   },
   "outputs": [],
   "source": [
    "total_samples = len(dataset)\n",
    "train_samples = int(0.7 * total_samples)\n",
    "train_indices = list(range(train_samples))\n",
    "test_indices = list(range(train_samples, total_samples))\n",
    "train_dataset = torch.utils.data.Subset(dataset, train_indices)\n",
    "test_dataset = torch.utils.data.Subset(dataset, test_indices)"
   ]
  },
  {
   "cell_type": "code",
   "execution_count": 73,
   "id": "16acb181",
   "metadata": {
    "id": "16acb181"
   },
   "outputs": [],
   "source": [
    "batch_size = 512"
   ]
  },
  {
   "cell_type": "code",
   "execution_count": 74,
   "id": "3d9fd837",
   "metadata": {
    "id": "3d9fd837"
   },
   "outputs": [],
   "source": [
    "train_dataloader = DataLoader(\n",
    "    train_dataset,\n",
    "    batch_size=batch_size,\n",
    "    shuffle=True,\n",
    ")\n",
    "\n",
    "test_dataloader = DataLoader(\n",
    "    test_dataset,\n",
    "    batch_size=batch_size,\n",
    "    shuffle=False,\n",
    ")"
   ]
  },
  {
   "cell_type": "markdown",
   "id": "c392c0ad",
   "metadata": {
    "id": "c392c0ad"
   },
   "source": [
    "## Модель"
   ]
  },
  {
   "cell_type": "code",
   "execution_count": 61,
   "id": "484cab2b",
   "metadata": {
    "id": "484cab2b"
   },
   "outputs": [],
   "source": [
    "import torch.nn as nn\n",
    "import torch.nn.functional as F"
   ]
  },
  {
   "cell_type": "code",
   "execution_count": 62,
   "id": "8bd52c37",
   "metadata": {
    "id": "8bd52c37"
   },
   "outputs": [],
   "source": [
    "class CustomModel(nn.Module):\n",
    "    def __init__(self, backbone, hidden_size, output_size):\n",
    "        super(CustomModel, self).__init__()\n",
    "\n",
    "        self.hidden_size = hidden_size\n",
    "\n",
    "        self.output_size_1 = output_size[0]\n",
    "        self.output_size_2 = output_size[1]\n",
    "        self.output_size_3 = output_size[2]\n",
    "        self.output_size_4 = output_size[3]\n",
    "        self.output_size_5 = output_size[4]\n",
    "\n",
    "        self.backbone = backbone\n",
    "        self.pooling = nn.AdaptiveAvgPool1d(1)\n",
    "        self.dense1 = nn.Linear(backbone.config.hidden_size, hidden_size)\n",
    "\n",
    "        self.fc_1 = nn.Linear(hidden_size, output_size[0])\n",
    "        self.fc_2 = nn.Linear(hidden_size, output_size[1])\n",
    "        self.fc_3 = nn.Linear(hidden_size, output_size[2])\n",
    "        self.fc_4 = nn.Linear(hidden_size, output_size[3])\n",
    "        self.fc_5 = nn.Linear(hidden_size, output_size[4])\n",
    "\n",
    "    def forward(self, input_ids, attention_mask):\n",
    "        outputs = self.backbone(input_ids, attention_mask=attention_mask)\n",
    "        features = outputs.hidden_states[-1]\n",
    "        pooled = self.pooling(features.permute(0, 2, 1)).squeeze(2)\n",
    "        dense1 = self.dense1(pooled)\n",
    "        dense1 = F.relu(dense1)\n",
    "\n",
    "        output_1 = self.fc_1(dense1)\n",
    "        output_2 = self.fc_2(dense1)\n",
    "        output_3 = self.fc_3(dense1)\n",
    "        output_4 = self.fc_4(dense1)\n",
    "        output_5 = self.fc_5(dense1)\n",
    "\n",
    "        output_1 = F.softmax(output_1, dim=1)\n",
    "        output_2 = F.softmax(output_2, dim=1)\n",
    "        output_3 = F.softmax(output_3, dim=1)\n",
    "        output_4 = F.softmax(output_4, dim=1)\n",
    "        output_5 = F.softmax(output_5, dim=1)\n",
    "        return (output_1, output_2, output_3, output_4, output_5, )"
   ]
  },
  {
   "cell_type": "code",
   "execution_count": 75,
   "id": "a7bc8252",
   "metadata": {
    "id": "a7bc8252"
   },
   "outputs": [],
   "source": [
    "# input_size = NUM_INDEXES\n",
    "hidden_size = 84\n",
    "output_size = (NUM_1_CLASSES, NUM_2_CLASSES, NUM_3_CLASSES, NUM_4_CLASSES, NUM_5_CLASSES)"
   ]
  },
  {
   "cell_type": "code",
   "execution_count": 76,
   "id": "8d0cbbc7",
   "metadata": {
    "id": "8d0cbbc7"
   },
   "outputs": [],
   "source": [
    "model = CustomModel(backbone, hidden_size, output_size).to(device)"
   ]
  },
  {
   "cell_type": "markdown",
   "id": "175f05bd",
   "metadata": {
    "id": "175f05bd"
   },
   "source": [
    "## Функции обучения"
   ]
  },
  {
   "cell_type": "code",
   "execution_count": 65,
   "id": "93a336a5",
   "metadata": {
    "id": "93a336a5"
   },
   "outputs": [],
   "source": [
    "import torch.optim as optim"
   ]
  },
  {
   "cell_type": "code",
   "execution_count": 77,
   "id": "96911491",
   "metadata": {
    "id": "96911491"
   },
   "outputs": [],
   "source": [
    "criterion = nn.CrossEntropyLoss()\n",
    "optimizer = optim.SGD(model.parameters(), lr=0.05)\n",
    "scheduler = optim.lr_scheduler.StepLR(optimizer, step_size=50, gamma=0.5)"
   ]
  },
  {
   "cell_type": "code",
   "execution_count": 67,
   "id": "0f4533fb",
   "metadata": {
    "colab": {
     "base_uri": "https://localhost:8080/"
    },
    "id": "0f4533fb",
    "outputId": "d0292d88-db3c-429c-cebf-121c12495c33"
   },
   "outputs": [
    {
     "name": "stdout",
     "output_type": "stream",
     "text": [
      "Params to learn:\n",
      "\t dense1.weight\n",
      "\t dense1.bias\n",
      "\t fc_1.weight\n",
      "\t fc_1.bias\n",
      "\t fc_2.weight\n",
      "\t fc_2.bias\n",
      "\t fc_3.weight\n",
      "\t fc_3.bias\n",
      "\t fc_4.weight\n",
      "\t fc_4.bias\n",
      "\t fc_5.weight\n",
      "\t fc_5.bias\n"
     ]
    }
   ],
   "source": [
    "print(\"Params to learn:\")\n",
    "params_to_update = []\n",
    "for name, param in model.named_parameters():\n",
    "    if param.requires_grad == True:\n",
    "        params_to_update.append(param)\n",
    "        print(\"\\t\",name)"
   ]
  },
  {
   "cell_type": "code",
   "execution_count": 68,
   "id": "d88cb426",
   "metadata": {
    "id": "d88cb426"
   },
   "outputs": [],
   "source": [
    "def train(model, iterator, criterion, optimizer, scheduler=None):\n",
    "    model.train()\n",
    "    sum_loss_1 = 0.0\n",
    "    sum_loss_2 = 0.0\n",
    "    sum_loss_3 = 0.0\n",
    "    sum_loss_4 = 0.0\n",
    "    sum_loss_5 = 0.0\n",
    "    correct_1 = 0\n",
    "    correct_2 = 0\n",
    "    correct_3 = 0\n",
    "    correct_4 = 0\n",
    "    correct_5 = 0\n",
    "    total = 0\n",
    "    num_batch = 0\n",
    "    for iter_, (X, y) in enumerate(iterator):\n",
    "        optimizer.zero_grad()\n",
    "        text = X[0].to(device)\n",
    "        mask = X[1].to(device)\n",
    "        labels = [label.to(device) for label in y]\n",
    "        predictions = model(text, mask)\n",
    "\n",
    "        loss_1 = criterion(predictions[0], labels[0])\n",
    "        loss_2 = criterion(predictions[1], labels[1])\n",
    "        loss_3 = criterion(predictions[2], labels[2])\n",
    "        loss_4 = criterion(predictions[3], labels[3])\n",
    "        loss_5 = criterion(predictions[4], labels[4])\n",
    "        sum_loss_1 += loss_1.item()\n",
    "        sum_loss_2 += loss_2.item()\n",
    "        sum_loss_3 += loss_3.item()\n",
    "        sum_loss_4 += loss_4.item()\n",
    "        sum_loss_5 += loss_5.item()\n",
    "\n",
    "        ((loss_1+loss_2+loss_3+loss_4+loss_5)/5).backward()\n",
    "\n",
    "        optimizer.step()\n",
    "\n",
    "        num_batch += 1\n",
    "        predicted_classes_1 = torch.argmax(predictions[0], dim=1)\n",
    "        predicted_classes_2 = torch.argmax(predictions[1], dim=1)\n",
    "        predicted_classes_3 = torch.argmax(predictions[2], dim=1)\n",
    "        predicted_classes_4 = torch.argmax(predictions[3], dim=1)\n",
    "        predicted_classes_5 = torch.argmax(predictions[4], dim=1)\n",
    "        correct_1 += (predicted_classes_1 == labels[0]).sum().item()\n",
    "        correct_2 += (predicted_classes_2 == labels[1]).sum().item()\n",
    "        correct_3 += (predicted_classes_3 == labels[2]).sum().item()\n",
    "        correct_4 += (predicted_classes_4 == labels[3]).sum().item()\n",
    "        correct_5 += (predicted_classes_5 == labels[4]).sum().item()\n",
    "        total += labels[0].size(0)\n",
    "\n",
    "        if iter_*batch_size % 1600 == 0:\n",
    "            print(iter_*batch_size)\n",
    "\n",
    "    accuracy_1 = correct_1 / total\n",
    "    accuracy_2 = correct_2 / total\n",
    "    accuracy_3 = correct_3 / total\n",
    "    accuracy_4 = correct_4 / total\n",
    "    accuracy_5 = correct_5 / total\n",
    "    sum_loss_1 /= len(iterator)\n",
    "    sum_loss_2 /= len(iterator)\n",
    "    sum_loss_3 /= len(iterator)\n",
    "    sum_loss_4 /= len(iterator)\n",
    "    sum_loss_5 /= len(iterator)\n",
    "\n",
    "    if scheduler:\n",
    "        scheduler.step()\n",
    "\n",
    "    return (\n",
    "        (round(sum_loss_1, 4), round(sum_loss_2, 4), round(sum_loss_3, 4), round(sum_loss_4, 4), round(sum_loss_5, 4)),\n",
    "        (round(accuracy_1, 4), round(accuracy_2, 4), round(accuracy_3, 4), round(accuracy_4, 4), round(accuracy_5, 4), )\n",
    "    )"
   ]
  },
  {
   "cell_type": "code",
   "execution_count": 52,
   "id": "5e5e1968",
   "metadata": {
    "id": "5e5e1968"
   },
   "outputs": [],
   "source": [
    "# Процесс оценки\n",
    "def evaluate(model, iterator, criterion):\n",
    "    model.eval()\n",
    "    sum_loss_1 = 0.0\n",
    "    sum_loss_2 = 0.0\n",
    "    sum_loss_3 = 0.0\n",
    "    sum_loss_4 = 0.0\n",
    "    sum_loss_5 = 0.0\n",
    "    correct_1 = 0\n",
    "    correct_2 = 0\n",
    "    correct_3 = 0\n",
    "    correct_4 = 0\n",
    "    correct_5 = 0\n",
    "    total = 0\n",
    "    with torch.no_grad():\n",
    "        for iter_, (X, y) in enumerate(iterator):\n",
    "            text = X[0].to(device)\n",
    "            mask = X[1].to(device)\n",
    "            labels = [label.to(device) for label in y]\n",
    "            predictions = model(text, mask)\n",
    "\n",
    "            sum_loss_1 += criterion(predictions[0], labels[0]).item()\n",
    "            sum_loss_2 += criterion(predictions[1], labels[1]).item()\n",
    "            sum_loss_3 += criterion(predictions[2], labels[2]).item()\n",
    "            sum_loss_4 += criterion(predictions[3], labels[3]).item()\n",
    "            sum_loss_5 += criterion(predictions[4], labels[4]).item()\n",
    "\n",
    "            predicted_classes_1 = torch.argmax(predictions[0], dim=1)\n",
    "            predicted_classes_2 = torch.argmax(predictions[1], dim=1)\n",
    "            predicted_classes_3 = torch.argmax(predictions[2], dim=1)\n",
    "            predicted_classes_4 = torch.argmax(predictions[3], dim=1)\n",
    "            predicted_classes_5 = torch.argmax(predictions[4], dim=1)\n",
    "            correct_1 += (predicted_classes_1 == labels[0]).sum().item()\n",
    "            correct_2 += (predicted_classes_2 == labels[1]).sum().item()\n",
    "            correct_3 += (predicted_classes_3 == labels[2]).sum().item()\n",
    "            correct_4 += (predicted_classes_4 == labels[3]).sum().item()\n",
    "            correct_5 += (predicted_classes_5 == labels[4]).sum().item()\n",
    "            total += labels[0].size(0)\n",
    "\n",
    "#             if iter_*batch_size % 10 == 0:\n",
    "#                 print(iter_*batch_size)\n",
    "\n",
    "    accuracy_1 = correct_1 / total\n",
    "    accuracy_2 = correct_2 / total\n",
    "    accuracy_3 = correct_3 / total\n",
    "    accuracy_4 = correct_4 / total\n",
    "    accuracy_5 = correct_5 / total\n",
    "    sum_loss_1 /= len(iterator)\n",
    "    sum_loss_2 /= len(iterator)\n",
    "    sum_loss_3 /= len(iterator)\n",
    "    sum_loss_4 /= len(iterator)\n",
    "    sum_loss_5 /= len(iterator)\n",
    "\n",
    "    return  (\n",
    "        (round(sum_loss_1, 4), round(sum_loss_2, 4), round(sum_loss_3, 4), round(sum_loss_4, 4), round(sum_loss_5, 4)),\n",
    "        (round(accuracy_1, 4), round(accuracy_2, 4), round(accuracy_3, 4), round(accuracy_4, 4), round(accuracy_5, 4), )\n",
    "    )"
   ]
  },
  {
   "cell_type": "code",
   "execution_count": 69,
   "id": "ade564b4",
   "metadata": {
    "id": "ade564b4"
   },
   "outputs": [],
   "source": [
    "from IPython.display import clear_output"
   ]
  },
  {
   "cell_type": "code",
   "execution_count": 72,
   "id": "5203eb75",
   "metadata": {
    "id": "5203eb75"
   },
   "outputs": [],
   "source": [
    "data = {\n",
    "    'train_loss': [[], [], [], [], []],\n",
    "    'train_accuracy': [[], [], [], [], []],\n",
    "    'test_loss': [[], [], [], [], []],\n",
    "    'test_accuracy': [[], [], [], [], []],\n",
    "}"
   ]
  },
  {
   "cell_type": "markdown",
   "id": "895a65b5",
   "metadata": {
    "id": "895a65b5"
   },
   "source": [
    "## Функции для визуализации"
   ]
  },
  {
   "cell_type": "code",
   "execution_count": 55,
   "id": "accb055a",
   "metadata": {
    "id": "accb055a"
   },
   "outputs": [],
   "source": [
    "from matplotlib import pyplot as plt"
   ]
  },
  {
   "cell_type": "code",
   "execution_count": 56,
   "id": "b5b18ffb",
   "metadata": {
    "id": "b5b18ffb"
   },
   "outputs": [],
   "source": [
    "def plot_learning_curves(data):\n",
    "    '''\n",
    "    Функция для вывода графиков лосса и метрики во время обучения.\n",
    "    '''\n",
    "    fig = plt.figure(figsize=(20, 20))\n",
    "\n",
    "    plt.subplot(2,2,1)\n",
    "    plt.title('Обучение. Лосс', fontsize=15)\n",
    "    plt.plot(data['train_loss'][0], label='label 1')\n",
    "    plt.plot(data['train_loss'][1], label='label 2')\n",
    "    plt.plot(data['train_loss'][2], label='label 3')\n",
    "    plt.plot(data['train_loss'][3], label='label 4')\n",
    "    plt.plot(data['train_loss'][4], label='label 5')\n",
    "    plt.ylabel('Лосс', fontsize=15)\n",
    "    plt.xlabel('эпоха', fontsize=15)\n",
    "    plt.legend()\n",
    "\n",
    "    plt.subplot(2,2,2)\n",
    "    plt.title('Обучение. Точность', fontsize=15)\n",
    "    plt.plot(data['train_accuracy'][0], label='label 1')\n",
    "    plt.plot(data['train_accuracy'][1], label='label 2')\n",
    "    plt.plot(data['train_accuracy'][2], label='label 3')\n",
    "    plt.plot(data['train_accuracy'][3], label='label 4')\n",
    "    plt.plot(data['train_accuracy'][4], label='label 5')\n",
    "    plt.ylabel('Точность', fontsize=15)\n",
    "    plt.xlabel('эпоха', fontsize=15)\n",
    "    plt.legend()\n",
    "\n",
    "    plt.subplot(2,2,3)\n",
    "    plt.title('Тест. Лосс', fontsize=15)\n",
    "    plt.plot(data['test_loss'][0], label='label 1')\n",
    "    plt.plot(data['test_loss'][1], label='label 2')\n",
    "    plt.plot(data['test_loss'][2], label='label 3')\n",
    "    plt.plot(data['test_loss'][3], label='label 4')\n",
    "    plt.plot(data['test_loss'][4], label='label 5')\n",
    "    plt.ylabel('Лосс', fontsize=15)\n",
    "    plt.xlabel('эпоха', fontsize=15)\n",
    "    plt.legend()\n",
    "\n",
    "    plt.subplot(2,2,4)\n",
    "    plt.title('Тест. Точность', fontsize=15)\n",
    "    plt.plot(data['test_accuracy'][0], label='label 1')\n",
    "    plt.plot(data['test_accuracy'][1], label='label 2')\n",
    "    plt.plot(data['test_accuracy'][2], label='label 3')\n",
    "    plt.plot(data['test_accuracy'][3], label='label 4')\n",
    "    plt.plot(data['test_accuracy'][4], label='label 5')\n",
    "    plt.ylabel('Точность', fontsize=15)\n",
    "    plt.xlabel('эпоха', fontsize=15)\n",
    "    plt.legend()\n",
    "\n",
    "    plt.show()"
   ]
  },
  {
   "cell_type": "code",
   "execution_count": 57,
   "id": "ea76a5fd",
   "metadata": {
    "id": "ea76a5fd"
   },
   "outputs": [],
   "source": [
    "def updata(data):\n",
    "    for place, item in zip(data['train_loss'], train_loss):\n",
    "        place.append(item)\n",
    "\n",
    "    for place, item in zip(data['train_accuracy'], train_accuracy):\n",
    "        place.append(item)\n",
    "\n",
    "    for place, item in zip(data['test_loss'], test_loss):\n",
    "        place.append(item)\n",
    "\n",
    "    for place, item in zip(data['test_accuracy'], test_accuracy):\n",
    "        place.append(item)\n",
    "\n",
    "    return data"
   ]
  },
  {
   "cell_type": "markdown",
   "id": "f76481e6",
   "metadata": {
    "id": "f76481e6"
   },
   "source": [
    "## Обучение"
   ]
  },
  {
   "cell_type": "code",
   "execution_count": 78,
   "id": "9b6fea09",
   "metadata": {
    "colab": {
     "base_uri": "https://localhost:8080/",
     "height": 1000
    },
    "id": "9b6fea09",
    "outputId": "da6db9ab-fb9f-44e5-c803-c3125ff86b5a",
    "scrolled": false
   },
   "outputs": [
    {
     "name": "stdout",
     "output_type": "stream",
     "text": [
      "Epoch: 50\n",
      "Train loss: (0.8434, 0.9495, 2.3366, 2.9824, 5.3851)\n",
      "Train accuracy: (0.7079, 0.5841, 0.3632, 0.265, 0.1708)\n",
      "Test loss: (0.7865, 0.9656, 2.2904, 2.9927, 5.3948)\n",
      "Test accuracy: (0.7649, 0.5677, 0.4126, 0.2548, 0.1615)\n"
     ]
    },
    {
     "data": {
      "image/png": "[encoded data removed]",
      "text/plain": [
       "<Figure size 2000x2000 with 4 Axes>"
      ]
     },
     "metadata": {},
     "output_type": "display_data"
    },
    {
     "name": "stdout",
     "output_type": "stream",
     "text": [
      "0\n",
      "12800\n",
      "25600\n",
      "38400\n"
     ]
    },
    {
     "ename": "KeyboardInterrupt",
     "evalue": "ignored",
     "output_type": "error",
     "traceback": [
      "\u001b[0;31m---------------------------------------------------------------------------\u001b[0m",
      "\u001b[0;31mKeyboardInterrupt\u001b[0m                         Traceback (most recent call last)",
      "\u001b[0;32m<ipython-input-78-bd6a7d37c783>\u001b[0m in \u001b[0;36m<cell line: 1>\u001b[0;34m()\u001b[0m\n\u001b[1;32m      1\u001b[0m \u001b[0;32mfor\u001b[0m \u001b[0mepoch\u001b[0m \u001b[0;32min\u001b[0m \u001b[0mrange\u001b[0m\u001b[0;34m(\u001b[0m\u001b[0;36m150\u001b[0m\u001b[0;34m)\u001b[0m\u001b[0;34m:\u001b[0m\u001b[0;34m\u001b[0m\u001b[0;34m\u001b[0m\u001b[0m\n\u001b[0;32m----> 2\u001b[0;31m     \u001b[0mtrain_loss\u001b[0m\u001b[0;34m,\u001b[0m \u001b[0mtrain_accuracy\u001b[0m \u001b[0;34m=\u001b[0m \u001b[0mtrain\u001b[0m\u001b[0;34m(\u001b[0m\u001b[0mmodel\u001b[0m\u001b[0;34m,\u001b[0m \u001b[0mtrain_dataloader\u001b[0m\u001b[0;34m,\u001b[0m \u001b[0mcriterion\u001b[0m\u001b[0;34m,\u001b[0m \u001b[0moptimizer\u001b[0m\u001b[0;34m,\u001b[0m \u001b[0mscheduler\u001b[0m\u001b[0;34m)\u001b[0m\u001b[0;34m\u001b[0m\u001b[0;34m\u001b[0m\u001b[0m\n\u001b[0m\u001b[1;32m      3\u001b[0m     \u001b[0mtest_loss\u001b[0m\u001b[0;34m,\u001b[0m \u001b[0mtest_accuracy\u001b[0m \u001b[0;34m=\u001b[0m \u001b[0mevaluate\u001b[0m\u001b[0;34m(\u001b[0m\u001b[0mmodel\u001b[0m\u001b[0;34m,\u001b[0m \u001b[0mtest_dataloader\u001b[0m\u001b[0;34m,\u001b[0m \u001b[0mcriterion\u001b[0m\u001b[0;34m)\u001b[0m\u001b[0;34m\u001b[0m\u001b[0;34m\u001b[0m\u001b[0m\n\u001b[1;32m      4\u001b[0m     \u001b[0mdata\u001b[0m \u001b[0;34m=\u001b[0m \u001b[0mupdata\u001b[0m\u001b[0;34m(\u001b[0m\u001b[0mdata\u001b[0m\u001b[0;34m)\u001b[0m\u001b[0;34m\u001b[0m\u001b[0;34m\u001b[0m\u001b[0m\n\u001b[1;32m      5\u001b[0m \u001b[0;34m\u001b[0m\u001b[0m\n",
      "\u001b[0;32m<ipython-input-68-27b7c057f07e>\u001b[0m in \u001b[0;36mtrain\u001b[0;34m(model, iterator, criterion, optimizer, scheduler)\u001b[0m\n\u001b[1;32m     25\u001b[0m         \u001b[0mloss_4\u001b[0m \u001b[0;34m=\u001b[0m \u001b[0mcriterion\u001b[0m\u001b[0;34m(\u001b[0m\u001b[0mpredictions\u001b[0m\u001b[0;34m[\u001b[0m\u001b[0;36m3\u001b[0m\u001b[0;34m]\u001b[0m\u001b[0;34m,\u001b[0m \u001b[0mlabels\u001b[0m\u001b[0;34m[\u001b[0m\u001b[0;36m3\u001b[0m\u001b[0;34m]\u001b[0m\u001b[0;34m)\u001b[0m\u001b[0;34m\u001b[0m\u001b[0;34m\u001b[0m\u001b[0m\n\u001b[1;32m     26\u001b[0m         \u001b[0mloss_5\u001b[0m \u001b[0;34m=\u001b[0m \u001b[0mcriterion\u001b[0m\u001b[0;34m(\u001b[0m\u001b[0mpredictions\u001b[0m\u001b[0;34m[\u001b[0m\u001b[0;36m4\u001b[0m\u001b[0;34m]\u001b[0m\u001b[0;34m,\u001b[0m \u001b[0mlabels\u001b[0m\u001b[0;34m[\u001b[0m\u001b[0;36m4\u001b[0m\u001b[0;34m]\u001b[0m\u001b[0;34m)\u001b[0m\u001b[0;34m\u001b[0m\u001b[0;34m\u001b[0m\u001b[0m\n\u001b[0;32m---> 27\u001b[0;31m         \u001b[0msum_loss_1\u001b[0m \u001b[0;34m+=\u001b[0m \u001b[0mloss_1\u001b[0m\u001b[0;34m.\u001b[0m\u001b[0mitem\u001b[0m\u001b[0;34m(\u001b[0m\u001b[0;34m)\u001b[0m\u001b[0;34m\u001b[0m\u001b[0;34m\u001b[0m\u001b[0m\n\u001b[0m\u001b[1;32m     28\u001b[0m         \u001b[0msum_loss_2\u001b[0m \u001b[0;34m+=\u001b[0m \u001b[0mloss_2\u001b[0m\u001b[0;34m.\u001b[0m\u001b[0mitem\u001b[0m\u001b[0;34m(\u001b[0m\u001b[0;34m)\u001b[0m\u001b[0;34m\u001b[0m\u001b[0;34m\u001b[0m\u001b[0m\n\u001b[1;32m     29\u001b[0m         \u001b[0msum_loss_3\u001b[0m \u001b[0;34m+=\u001b[0m \u001b[0mloss_3\u001b[0m\u001b[0;34m.\u001b[0m\u001b[0mitem\u001b[0m\u001b[0;34m(\u001b[0m\u001b[0;34m)\u001b[0m\u001b[0;34m\u001b[0m\u001b[0;34m\u001b[0m\u001b[0m\n",
      "\u001b[0;31mKeyboardInterrupt\u001b[0m: "
     ]
    }
   ],
   "source": [
    "for epoch in range(150):\n",
    "    train_loss, train_accuracy = train(model, train_dataloader, criterion, optimizer, scheduler)\n",
    "    test_loss, test_accuracy = evaluate(model, test_dataloader, criterion)\n",
    "    data = updata(data)\n",
    "\n",
    "    clear_output()\n",
    "\n",
    "    print(f'Epoch: {epoch+1}')\n",
    "    print(f'Train loss: {train_loss}')\n",
    "    print(f'Train accuracy: {train_accuracy}')\n",
    "    print(f'Test loss: {test_loss}')\n",
    "    print(f'Test accuracy: {test_accuracy}')\n",
    "    plot_learning_curves(data)"
   ]
  },
  {
   "cell_type": "markdown",
   "id": "c49438ed",
   "metadata": {
    "id": "c49438ed"
   },
   "source": [
    "## Итоги\n",
    "- В эксперименте 3 используется похожая модель, только кроме предобученной модели Berd используется слой эмбендингов и LSTM, результаты тоже не очень хорошие."
   ]
  },
  {
   "cell_type": "markdown",
   "id": "0b0af428",
   "metadata": {
    "id": "0b0af428"
   },
   "source": [
    "## Что еще можно было бы сделать\n",
    "- Оставить предобученный Berd и выходные слои"
   ]
  },
  {
   "cell_type": "code",
   "execution_count": null,
   "id": "d6f2d8aa",
   "metadata": {
    "id": "d6f2d8aa"
   },
   "outputs": [],
   "source": []
  }
 ],
 "metadata": {
  "accelerator": "GPU",
  "colab": {
   "gpuType": "V100",
   "provenance": []
  },
  "kernelspec": {
   "display_name": "Python 3 (ipykernel)",
   "language": "python",
   "name": "python3"
  },
  "language_info": {
   "codemirror_mode": {
    "name": "ipython",
    "version": 3
   },
   "file_extension": ".py",
   "mimetype": "text/x-python",
   "name": "python",
   "nbconvert_exporter": "python",
   "pygments_lexer": "ipython3",
   "version": "3.11.4"
  },
  "widgets": {
   "application/vnd.jupyter.widget-state+json": {
    "02b9013e887c45d0bff0f0b4cd8d021b": {
     "model_module": "@jupyter-widgets/base",
     "model_module_version": "1.2.0",
     "model_name": "LayoutModel",
     "state": {
      "_model_module": "@jupyter-widgets/base",
      "_model_module_version": "1.2.0",
      "_model_name": "LayoutModel",
      "_view_count": null,
      "_view_module": "@jupyter-widgets/base",
      "_view_module_version": "1.2.0",
      "_view_name": "LayoutView",
      "align_content": null,
      "align_items": null,
      "align_self": null,
      "border": null,
      "bottom": null,
      "display": null,
      "flex": null,
      "flex_flow": null,
      "grid_area": null,
      "grid_auto_columns": null,
      "grid_auto_flow": null,
      "grid_auto_rows": null,
      "grid_column": null,
      "grid_gap": null,
      "grid_row": null,
      "grid_template_areas": null,
      "grid_template_columns": null,
      "grid_template_rows": null,
      "height": null,
      "justify_content": null,
      "justify_items": null,
      "left": null,
      "margin": null,
      "max_height": null,
      "max_width": null,
      "min_height": null,
      "min_width": null,
      "object_fit": null,
      "object_position": null,
      "order": null,
      "overflow": null,
      "overflow_x": null,
      "overflow_y": null,
      "padding": null,
      "right": null,
      "top": null,
      "visibility": null,
      "width": null
     }
    },
    "08ce1e7053e04c8e8eac97b0ecdb5159": {
     "model_module": "@jupyter-widgets/base",
     "model_module_version": "1.2.0",
     "model_name": "LayoutModel",
     "state": {
      "_model_module": "@jupyter-widgets/base",
      "_model_module_version": "1.2.0",
      "_model_name": "LayoutModel",
      "_view_count": null,
      "_view_module": "@jupyter-widgets/base",
      "_view_module_version": "1.2.0",
      "_view_name": "LayoutView",
      "align_content": null,
      "align_items": null,
      "align_self": null,
      "border": null,
      "bottom": null,
      "display": null,
      "flex": null,
      "flex_flow": null,
      "grid_area": null,
      "grid_auto_columns": null,
      "grid_auto_flow": null,
      "grid_auto_rows": null,
      "grid_column": null,
      "grid_gap": null,
      "grid_row": null,
      "grid_template_areas": null,
      "grid_template_columns": null,
      "grid_template_rows": null,
      "height": null,
      "justify_content": null,
      "justify_items": null,
      "left": null,
      "margin": null,
      "max_height": null,
      "max_width": null,
      "min_height": null,
      "min_width": null,
      "object_fit": null,
      "object_position": null,
      "order": null,
      "overflow": null,
      "overflow_x": null,
      "overflow_y": null,
      "padding": null,
      "right": null,
      "top": null,
      "visibility": null,
      "width": null
     }
    },
    "1093c837219d4e8a9a1a21196344672a": {
     "model_module": "@jupyter-widgets/base",
     "model_module_version": "1.2.0",
     "model_name": "LayoutModel",
     "state": {
      "_model_module": "@jupyter-widgets/base",
      "_model_module_version": "1.2.0",
      "_model_name": "LayoutModel",
      "_view_count": null,
      "_view_module": "@jupyter-widgets/base",
      "_view_module_version": "1.2.0",
      "_view_name": "LayoutView",
      "align_content": null,
      "align_items": null,
      "align_self": null,
      "border": null,
      "bottom": null,
      "display": null,
      "flex": null,
      "flex_flow": null,
      "grid_area": null,
      "grid_auto_columns": null,
      "grid_auto_flow": null,
      "grid_auto_rows": null,
      "grid_column": null,
      "grid_gap": null,
      "grid_row": null,
      "grid_template_areas": null,
      "grid_template_columns": null,
      "grid_template_rows": null,
      "height": null,
      "justify_content": null,
      "justify_items": null,
      "left": null,
      "margin": null,
      "max_height": null,
      "max_width": null,
      "min_height": null,
      "min_width": null,
      "object_fit": null,
      "object_position": null,
      "order": null,
      "overflow": null,
      "overflow_x": null,
      "overflow_y": null,
      "padding": null,
      "right": null,
      "top": null,
      "visibility": null,
      "width": null
     }
    },
    "144eae7320e3496daac2c99fa3c896d1": {
     "model_module": "@jupyter-widgets/base",
     "model_module_version": "1.2.0",
     "model_name": "LayoutModel",
     "state": {
      "_model_module": "@jupyter-widgets/base",
      "_model_module_version": "1.2.0",
      "_model_name": "LayoutModel",
      "_view_count": null,
      "_view_module": "@jupyter-widgets/base",
      "_view_module_version": "1.2.0",
      "_view_name": "LayoutView",
      "align_content": null,
      "align_items": null,
      "align_self": null,
      "border": null,
      "bottom": null,
      "display": null,
      "flex": null,
      "flex_flow": null,
      "grid_area": null,
      "grid_auto_columns": null,
      "grid_auto_flow": null,
      "grid_auto_rows": null,
      "grid_column": null,
      "grid_gap": null,
      "grid_row": null,
      "grid_template_areas": null,
      "grid_template_columns": null,
      "grid_template_rows": null,
      "height": null,
      "justify_content": null,
      "justify_items": null,
      "left": null,
      "margin": null,
      "max_height": null,
      "max_width": null,
      "min_height": null,
      "min_width": null,
      "object_fit": null,
      "object_position": null,
      "order": null,
      "overflow": null,
      "overflow_x": null,
      "overflow_y": null,
      "padding": null,
      "right": null,
      "top": null,
      "visibility": null,
      "width": null
     }
    },
    "18050fe8fa584a38a1a2b87209ad08c2": {
     "model_module": "@jupyter-widgets/controls",
     "model_module_version": "1.5.0",
     "model_name": "HTMLModel",
     "state": {
      "_dom_classes": [],
      "_model_module": "@jupyter-widgets/controls",
      "_model_module_version": "1.5.0",
      "_model_name": "HTMLModel",
      "_view_count": null,
      "_view_module": "@jupyter-widgets/controls",
      "_view_module_version": "1.5.0",
      "_view_name": "HTMLView",
      "description": "",
      "description_tooltip": null,
      "layout": "IPY_MODEL_7702009b44c342509a5001311e86efdb",
      "placeholder": "​",
      "style": "IPY_MODEL_aadd844afdd04d648322cb7a9ae4fe44",
      "value": "Downloading model.safetensors: 100%"
     }
    },
    "1ea6becd00f8423aba8944fff7881289": {
     "model_module": "@jupyter-widgets/controls",
     "model_module_version": "1.5.0",
     "model_name": "ProgressStyleModel",
     "state": {
      "_model_module": "@jupyter-widgets/controls",
      "_model_module_version": "1.5.0",
      "_model_name": "ProgressStyleModel",
      "_view_count": null,
      "_view_module": "@jupyter-widgets/base",
      "_view_module_version": "1.2.0",
      "_view_name": "StyleView",
      "bar_color": null,
      "description_width": ""
     }
    },
    "1efa6a746dee49b9a96d4bb0e416894c": {
     "model_module": "@jupyter-widgets/controls",
     "model_module_version": "1.5.0",
     "model_name": "HTMLModel",
     "state": {
      "_dom_classes": [],
      "_model_module": "@jupyter-widgets/controls",
      "_model_module_version": "1.5.0",
      "_model_name": "HTMLModel",
      "_view_count": null,
      "_view_module": "@jupyter-widgets/controls",
      "_view_module_version": "1.5.0",
      "_view_name": "HTMLView",
      "description": "",
      "description_tooltip": null,
      "layout": "IPY_MODEL_3da31ae2b60241e3bc107b0eb58f9e52",
      "placeholder": "​",
      "style": "IPY_MODEL_f9c92beca40c4fc2ad5a9c250f482692",
      "value": " 996k/996k [00:00&lt;00:00, 4.04MB/s]"
     }
    },
    "20bbefa86cc047ff83ffb3797ab55c20": {
     "model_module": "@jupyter-widgets/controls",
     "model_module_version": "1.5.0",
     "model_name": "HTMLModel",
     "state": {
      "_dom_classes": [],
      "_model_module": "@jupyter-widgets/controls",
      "_model_module_version": "1.5.0",
      "_model_name": "HTMLModel",
      "_view_count": null,
      "_view_module": "@jupyter-widgets/controls",
      "_view_module_version": "1.5.0",
      "_view_name": "HTMLView",
      "description": "",
      "description_tooltip": null,
      "layout": "IPY_MODEL_5cacd59751a0456e8b932d9cd60f3adb",
      "placeholder": "​",
      "style": "IPY_MODEL_562d05cc5b02462f983d553adcd7e1cc",
      "value": " 29.0/29.0 [00:00&lt;00:00, 1.96kB/s]"
     }
    },
    "22bd5085397f4a4d9842301614099f58": {
     "model_module": "@jupyter-widgets/base",
     "model_module_version": "1.2.0",
     "model_name": "LayoutModel",
     "state": {
      "_model_module": "@jupyter-widgets/base",
      "_model_module_version": "1.2.0",
      "_model_name": "LayoutModel",
      "_view_count": null,
      "_view_module": "@jupyter-widgets/base",
      "_view_module_version": "1.2.0",
      "_view_name": "LayoutView",
      "align_content": null,
      "align_items": null,
      "align_self": null,
      "border": null,
      "bottom": null,
      "display": null,
      "flex": null,
      "flex_flow": null,
      "grid_area": null,
      "grid_auto_columns": null,
      "grid_auto_flow": null,
      "grid_auto_rows": null,
      "grid_column": null,
      "grid_gap": null,
      "grid_row": null,
      "grid_template_areas": null,
      "grid_template_columns": null,
      "grid_template_rows": null,
      "height": null,
      "justify_content": null,
      "justify_items": null,
      "left": null,
      "margin": null,
      "max_height": null,
      "max_width": null,
      "min_height": null,
      "min_width": null,
      "object_fit": null,
      "object_position": null,
      "order": null,
      "overflow": null,
      "overflow_x": null,
      "overflow_y": null,
      "padding": null,
      "right": null,
      "top": null,
      "visibility": null,
      "width": null
     }
    },
    "27b87ab72a8a4859a60e64ff03feb386": {
     "model_module": "@jupyter-widgets/controls",
     "model_module_version": "1.5.0",
     "model_name": "FloatProgressModel",
     "state": {
      "_dom_classes": [],
      "_model_module": "@jupyter-widgets/controls",
      "_model_module_version": "1.5.0",
      "_model_name": "FloatProgressModel",
      "_view_count": null,
      "_view_module": "@jupyter-widgets/controls",
      "_view_module_version": "1.5.0",
      "_view_name": "ProgressView",
      "bar_style": "success",
      "description": "",
      "description_tooltip": null,
      "layout": "IPY_MODEL_4e4c2e66dd4d400b93677d9cf043c644",
      "max": 995526,
      "min": 0,
      "orientation": "horizontal",
      "style": "IPY_MODEL_1ea6becd00f8423aba8944fff7881289",
      "value": 995526
     }
    },
    "29f2b00beaa24347b8a37a3aa663c2af": {
     "model_module": "@jupyter-widgets/base",
     "model_module_version": "1.2.0",
     "model_name": "LayoutModel",
     "state": {
      "_model_module": "@jupyter-widgets/base",
      "_model_module_version": "1.2.0",
      "_model_name": "LayoutModel",
      "_view_count": null,
      "_view_module": "@jupyter-widgets/base",
      "_view_module_version": "1.2.0",
      "_view_name": "LayoutView",
      "align_content": null,
      "align_items": null,
      "align_self": null,
      "border": null,
      "bottom": null,
      "display": null,
      "flex": null,
      "flex_flow": null,
      "grid_area": null,
      "grid_auto_columns": null,
      "grid_auto_flow": null,
      "grid_auto_rows": null,
      "grid_column": null,
      "grid_gap": null,
      "grid_row": null,
      "grid_template_areas": null,
      "grid_template_columns": null,
      "grid_template_rows": null,
      "height": null,
      "justify_content": null,
      "justify_items": null,
      "left": null,
      "margin": null,
      "max_height": null,
      "max_width": null,
      "min_height": null,
      "min_width": null,
      "object_fit": null,
      "object_position": null,
      "order": null,
      "overflow": null,
      "overflow_x": null,
      "overflow_y": null,
      "padding": null,
      "right": null,
      "top": null,
      "visibility": null,
      "width": null
     }
    },
    "2ca72da9fbb841a7aaf34ba61a3f7b40": {
     "model_module": "@jupyter-widgets/controls",
     "model_module_version": "1.5.0",
     "model_name": "DescriptionStyleModel",
     "state": {
      "_model_module": "@jupyter-widgets/controls",
      "_model_module_version": "1.5.0",
      "_model_name": "DescriptionStyleModel",
      "_view_count": null,
      "_view_module": "@jupyter-widgets/base",
      "_view_module_version": "1.2.0",
      "_view_name": "StyleView",
      "description_width": ""
     }
    },
    "307a63de9eac4a24b8920edfb5684018": {
     "model_module": "@jupyter-widgets/controls",
     "model_module_version": "1.5.0",
     "model_name": "DescriptionStyleModel",
     "state": {
      "_model_module": "@jupyter-widgets/controls",
      "_model_module_version": "1.5.0",
      "_model_name": "DescriptionStyleModel",
      "_view_count": null,
      "_view_module": "@jupyter-widgets/base",
      "_view_module_version": "1.2.0",
      "_view_name": "StyleView",
      "description_width": ""
     }
    },
    "353e82398e2b495b82b2496a36c0db50": {
     "model_module": "@jupyter-widgets/controls",
     "model_module_version": "1.5.0",
     "model_name": "FloatProgressModel",
     "state": {
      "_dom_classes": [],
      "_model_module": "@jupyter-widgets/controls",
      "_model_module_version": "1.5.0",
      "_model_name": "FloatProgressModel",
      "_view_count": null,
      "_view_module": "@jupyter-widgets/controls",
      "_view_module_version": "1.5.0",
      "_view_name": "ProgressView",
      "bar_style": "success",
      "description": "",
      "description_tooltip": null,
      "layout": "IPY_MODEL_61e8bd5f1cac49ea99549d0c2c5b073e",
      "max": 625,
      "min": 0,
      "orientation": "horizontal",
      "style": "IPY_MODEL_d8731329850744d08e348edb926d3a9a",
      "value": 625
     }
    },
    "3da31ae2b60241e3bc107b0eb58f9e52": {
     "model_module": "@jupyter-widgets/base",
     "model_module_version": "1.2.0",
     "model_name": "LayoutModel",
     "state": {
      "_model_module": "@jupyter-widgets/base",
      "_model_module_version": "1.2.0",
      "_model_name": "LayoutModel",
      "_view_count": null,
      "_view_module": "@jupyter-widgets/base",
      "_view_module_version": "1.2.0",
      "_view_name": "LayoutView",
      "align_content": null,
      "align_items": null,
      "align_self": null,
      "border": null,
      "bottom": null,
      "display": null,
      "flex": null,
      "flex_flow": null,
      "grid_area": null,
      "grid_auto_columns": null,
      "grid_auto_flow": null,
      "grid_auto_rows": null,
      "grid_column": null,
      "grid_gap": null,
      "grid_row": null,
      "grid_template_areas": null,
      "grid_template_columns": null,
      "grid_template_rows": null,
      "height": null,
      "justify_content": null,
      "justify_items": null,
      "left": null,
      "margin": null,
      "max_height": null,
      "max_width": null,
      "min_height": null,
      "min_width": null,
      "object_fit": null,
      "object_position": null,
      "order": null,
      "overflow": null,
      "overflow_x": null,
      "overflow_y": null,
      "padding": null,
      "right": null,
      "top": null,
      "visibility": null,
      "width": null
     }
    },
    "4193ba2fbcd64d0f8ebf1fdfe745262c": {
     "model_module": "@jupyter-widgets/controls",
     "model_module_version": "1.5.0",
     "model_name": "HTMLModel",
     "state": {
      "_dom_classes": [],
      "_model_module": "@jupyter-widgets/controls",
      "_model_module_version": "1.5.0",
      "_model_name": "HTMLModel",
      "_view_count": null,
      "_view_module": "@jupyter-widgets/controls",
      "_view_module_version": "1.5.0",
      "_view_name": "HTMLView",
      "description": "",
      "description_tooltip": null,
      "layout": "IPY_MODEL_fe12c563cbd744d2ba571d4b90aa903b",
      "placeholder": "​",
      "style": "IPY_MODEL_e84f68e3426a4a0bb8b0d76c83542fa5",
      "value": " 625/625 [00:00&lt;00:00, 14.9kB/s]"
     }
    },
    "427489edadac45a1a46b34cc634bfa6a": {
     "model_module": "@jupyter-widgets/controls",
     "model_module_version": "1.5.0",
     "model_name": "DescriptionStyleModel",
     "state": {
      "_model_module": "@jupyter-widgets/controls",
      "_model_module_version": "1.5.0",
      "_model_name": "DescriptionStyleModel",
      "_view_count": null,
      "_view_module": "@jupyter-widgets/base",
      "_view_module_version": "1.2.0",
      "_view_name": "StyleView",
      "description_width": ""
     }
    },
    "4360af785bf14913b7fce0433b0582ce": {
     "model_module": "@jupyter-widgets/base",
     "model_module_version": "1.2.0",
     "model_name": "LayoutModel",
     "state": {
      "_model_module": "@jupyter-widgets/base",
      "_model_module_version": "1.2.0",
      "_model_name": "LayoutModel",
      "_view_count": null,
      "_view_module": "@jupyter-widgets/base",
      "_view_module_version": "1.2.0",
      "_view_name": "LayoutView",
      "align_content": null,
      "align_items": null,
      "align_self": null,
      "border": null,
      "bottom": null,
      "display": null,
      "flex": null,
      "flex_flow": null,
      "grid_area": null,
      "grid_auto_columns": null,
      "grid_auto_flow": null,
      "grid_auto_rows": null,
      "grid_column": null,
      "grid_gap": null,
      "grid_row": null,
      "grid_template_areas": null,
      "grid_template_columns": null,
      "grid_template_rows": null,
      "height": null,
      "justify_content": null,
      "justify_items": null,
      "left": null,
      "margin": null,
      "max_height": null,
      "max_width": null,
      "min_height": null,
      "min_width": null,
      "object_fit": null,
      "object_position": null,
      "order": null,
      "overflow": null,
      "overflow_x": null,
      "overflow_y": null,
      "padding": null,
      "right": null,
      "top": null,
      "visibility": null,
      "width": null
     }
    },
    "49cd6b67951742cb92fa628dc38b9f30": {
     "model_module": "@jupyter-widgets/controls",
     "model_module_version": "1.5.0",
     "model_name": "HTMLModel",
     "state": {
      "_dom_classes": [],
      "_model_module": "@jupyter-widgets/controls",
      "_model_module_version": "1.5.0",
      "_model_name": "HTMLModel",
      "_view_count": null,
      "_view_module": "@jupyter-widgets/controls",
      "_view_module_version": "1.5.0",
      "_view_name": "HTMLView",
      "description": "",
      "description_tooltip": null,
      "layout": "IPY_MODEL_02b9013e887c45d0bff0f0b4cd8d021b",
      "placeholder": "​",
      "style": "IPY_MODEL_427489edadac45a1a46b34cc634bfa6a",
      "value": "Downloading (…)/main/tokenizer.json: 100%"
     }
    },
    "4e4c2e66dd4d400b93677d9cf043c644": {
     "model_module": "@jupyter-widgets/base",
     "model_module_version": "1.2.0",
     "model_name": "LayoutModel",
     "state": {
      "_model_module": "@jupyter-widgets/base",
      "_model_module_version": "1.2.0",
      "_model_name": "LayoutModel",
      "_view_count": null,
      "_view_module": "@jupyter-widgets/base",
      "_view_module_version": "1.2.0",
      "_view_name": "LayoutView",
      "align_content": null,
      "align_items": null,
      "align_self": null,
      "border": null,
      "bottom": null,
      "display": null,
      "flex": null,
      "flex_flow": null,
      "grid_area": null,
      "grid_auto_columns": null,
      "grid_auto_flow": null,
      "grid_auto_rows": null,
      "grid_column": null,
      "grid_gap": null,
      "grid_row": null,
      "grid_template_areas": null,
      "grid_template_columns": null,
      "grid_template_rows": null,
      "height": null,
      "justify_content": null,
      "justify_items": null,
      "left": null,
      "margin": null,
      "max_height": null,
      "max_width": null,
      "min_height": null,
      "min_width": null,
      "object_fit": null,
      "object_position": null,
      "order": null,
      "overflow": null,
      "overflow_x": null,
      "overflow_y": null,
      "padding": null,
      "right": null,
      "top": null,
      "visibility": null,
      "width": null
     }
    },
    "500338013086458da6e4c74a60c1c952": {
     "model_module": "@jupyter-widgets/base",
     "model_module_version": "1.2.0",
     "model_name": "LayoutModel",
     "state": {
      "_model_module": "@jupyter-widgets/base",
      "_model_module_version": "1.2.0",
      "_model_name": "LayoutModel",
      "_view_count": null,
      "_view_module": "@jupyter-widgets/base",
      "_view_module_version": "1.2.0",
      "_view_name": "LayoutView",
      "align_content": null,
      "align_items": null,
      "align_self": null,
      "border": null,
      "bottom": null,
      "display": null,
      "flex": null,
      "flex_flow": null,
      "grid_area": null,
      "grid_auto_columns": null,
      "grid_auto_flow": null,
      "grid_auto_rows": null,
      "grid_column": null,
      "grid_gap": null,
      "grid_row": null,
      "grid_template_areas": null,
      "grid_template_columns": null,
      "grid_template_rows": null,
      "height": null,
      "justify_content": null,
      "justify_items": null,
      "left": null,
      "margin": null,
      "max_height": null,
      "max_width": null,
      "min_height": null,
      "min_width": null,
      "object_fit": null,
      "object_position": null,
      "order": null,
      "overflow": null,
      "overflow_x": null,
      "overflow_y": null,
      "padding": null,
      "right": null,
      "top": null,
      "visibility": null,
      "width": null
     }
    },
    "562d05cc5b02462f983d553adcd7e1cc": {
     "model_module": "@jupyter-widgets/controls",
     "model_module_version": "1.5.0",
     "model_name": "DescriptionStyleModel",
     "state": {
      "_model_module": "@jupyter-widgets/controls",
      "_model_module_version": "1.5.0",
      "_model_name": "DescriptionStyleModel",
      "_view_count": null,
      "_view_module": "@jupyter-widgets/base",
      "_view_module_version": "1.2.0",
      "_view_name": "StyleView",
      "description_width": ""
     }
    },
    "5a3551bc86184bef8971625f9b87fcda": {
     "model_module": "@jupyter-widgets/controls",
     "model_module_version": "1.5.0",
     "model_name": "FloatProgressModel",
     "state": {
      "_dom_classes": [],
      "_model_module": "@jupyter-widgets/controls",
      "_model_module_version": "1.5.0",
      "_model_name": "FloatProgressModel",
      "_view_count": null,
      "_view_module": "@jupyter-widgets/controls",
      "_view_module_version": "1.5.0",
      "_view_name": "ProgressView",
      "bar_style": "success",
      "description": "",
      "description_tooltip": null,
      "layout": "IPY_MODEL_29f2b00beaa24347b8a37a3aa663c2af",
      "max": 1961828,
      "min": 0,
      "orientation": "horizontal",
      "style": "IPY_MODEL_b5f03425776c499da26acdb138ec9449",
      "value": 1961828
     }
    },
    "5cacd59751a0456e8b932d9cd60f3adb": {
     "model_module": "@jupyter-widgets/base",
     "model_module_version": "1.2.0",
     "model_name": "LayoutModel",
     "state": {
      "_model_module": "@jupyter-widgets/base",
      "_model_module_version": "1.2.0",
      "_model_name": "LayoutModel",
      "_view_count": null,
      "_view_module": "@jupyter-widgets/base",
      "_view_module_version": "1.2.0",
      "_view_name": "LayoutView",
      "align_content": null,
      "align_items": null,
      "align_self": null,
      "border": null,
      "bottom": null,
      "display": null,
      "flex": null,
      "flex_flow": null,
      "grid_area": null,
      "grid_auto_columns": null,
      "grid_auto_flow": null,
      "grid_auto_rows": null,
      "grid_column": null,
      "grid_gap": null,
      "grid_row": null,
      "grid_template_areas": null,
      "grid_template_columns": null,
      "grid_template_rows": null,
      "height": null,
      "justify_content": null,
      "justify_items": null,
      "left": null,
      "margin": null,
      "max_height": null,
      "max_width": null,
      "min_height": null,
      "min_width": null,
      "object_fit": null,
      "object_position": null,
      "order": null,
      "overflow": null,
      "overflow_x": null,
      "overflow_y": null,
      "padding": null,
      "right": null,
      "top": null,
      "visibility": null,
      "width": null
     }
    },
    "5dccc700a2cc4b8b86e5bd6dd02c5cf3": {
     "model_module": "@jupyter-widgets/controls",
     "model_module_version": "1.5.0",
     "model_name": "FloatProgressModel",
     "state": {
      "_dom_classes": [],
      "_model_module": "@jupyter-widgets/controls",
      "_model_module_version": "1.5.0",
      "_model_name": "FloatProgressModel",
      "_view_count": null,
      "_view_module": "@jupyter-widgets/controls",
      "_view_module_version": "1.5.0",
      "_view_name": "ProgressView",
      "bar_style": "success",
      "description": "",
      "description_tooltip": null,
      "layout": "IPY_MODEL_1093c837219d4e8a9a1a21196344672a",
      "max": 29,
      "min": 0,
      "orientation": "horizontal",
      "style": "IPY_MODEL_f54e9878630745e285d5e997436617e7",
      "value": 29
     }
    },
    "61e8bd5f1cac49ea99549d0c2c5b073e": {
     "model_module": "@jupyter-widgets/base",
     "model_module_version": "1.2.0",
     "model_name": "LayoutModel",
     "state": {
      "_model_module": "@jupyter-widgets/base",
      "_model_module_version": "1.2.0",
      "_model_name": "LayoutModel",
      "_view_count": null,
      "_view_module": "@jupyter-widgets/base",
      "_view_module_version": "1.2.0",
      "_view_name": "LayoutView",
      "align_content": null,
      "align_items": null,
      "align_self": null,
      "border": null,
      "bottom": null,
      "display": null,
      "flex": null,
      "flex_flow": null,
      "grid_area": null,
      "grid_auto_columns": null,
      "grid_auto_flow": null,
      "grid_auto_rows": null,
      "grid_column": null,
      "grid_gap": null,
      "grid_row": null,
      "grid_template_areas": null,
      "grid_template_columns": null,
      "grid_template_rows": null,
      "height": null,
      "justify_content": null,
      "justify_items": null,
      "left": null,
      "margin": null,
      "max_height": null,
      "max_width": null,
      "min_height": null,
      "min_width": null,
      "object_fit": null,
      "object_position": null,
      "order": null,
      "overflow": null,
      "overflow_x": null,
      "overflow_y": null,
      "padding": null,
      "right": null,
      "top": null,
      "visibility": null,
      "width": null
     }
    },
    "696652e904494efcaaa545eeffb7d10d": {
     "model_module": "@jupyter-widgets/controls",
     "model_module_version": "1.5.0",
     "model_name": "DescriptionStyleModel",
     "state": {
      "_model_module": "@jupyter-widgets/controls",
      "_model_module_version": "1.5.0",
      "_model_name": "DescriptionStyleModel",
      "_view_count": null,
      "_view_module": "@jupyter-widgets/base",
      "_view_module_version": "1.2.0",
      "_view_name": "StyleView",
      "description_width": ""
     }
    },
    "7266e70cb98c4229aa453d4e8aa436b6": {
     "model_module": "@jupyter-widgets/controls",
     "model_module_version": "1.5.0",
     "model_name": "HBoxModel",
     "state": {
      "_dom_classes": [],
      "_model_module": "@jupyter-widgets/controls",
      "_model_module_version": "1.5.0",
      "_model_name": "HBoxModel",
      "_view_count": null,
      "_view_module": "@jupyter-widgets/controls",
      "_view_module_version": "1.5.0",
      "_view_name": "HBoxView",
      "box_style": "",
      "children": [
       "IPY_MODEL_18050fe8fa584a38a1a2b87209ad08c2",
       "IPY_MODEL_ee77278ef45a465999db01f8c309b713",
       "IPY_MODEL_d40925a6dca047ee8986292f2b609b11"
      ],
      "layout": "IPY_MODEL_22bd5085397f4a4d9842301614099f58"
     }
    },
    "7702009b44c342509a5001311e86efdb": {
     "model_module": "@jupyter-widgets/base",
     "model_module_version": "1.2.0",
     "model_name": "LayoutModel",
     "state": {
      "_model_module": "@jupyter-widgets/base",
      "_model_module_version": "1.2.0",
      "_model_name": "LayoutModel",
      "_view_count": null,
      "_view_module": "@jupyter-widgets/base",
      "_view_module_version": "1.2.0",
      "_view_name": "LayoutView",
      "align_content": null,
      "align_items": null,
      "align_self": null,
      "border": null,
      "bottom": null,
      "display": null,
      "flex": null,
      "flex_flow": null,
      "grid_area": null,
      "grid_auto_columns": null,
      "grid_auto_flow": null,
      "grid_auto_rows": null,
      "grid_column": null,
      "grid_gap": null,
      "grid_row": null,
      "grid_template_areas": null,
      "grid_template_columns": null,
      "grid_template_rows": null,
      "height": null,
      "justify_content": null,
      "justify_items": null,
      "left": null,
      "margin": null,
      "max_height": null,
      "max_width": null,
      "min_height": null,
      "min_width": null,
      "object_fit": null,
      "object_position": null,
      "order": null,
      "overflow": null,
      "overflow_x": null,
      "overflow_y": null,
      "padding": null,
      "right": null,
      "top": null,
      "visibility": null,
      "width": null
     }
    },
    "827c8d826ed945a78378331747ad9cbe": {
     "model_module": "@jupyter-widgets/base",
     "model_module_version": "1.2.0",
     "model_name": "LayoutModel",
     "state": {
      "_model_module": "@jupyter-widgets/base",
      "_model_module_version": "1.2.0",
      "_model_name": "LayoutModel",
      "_view_count": null,
      "_view_module": "@jupyter-widgets/base",
      "_view_module_version": "1.2.0",
      "_view_name": "LayoutView",
      "align_content": null,
      "align_items": null,
      "align_self": null,
      "border": null,
      "bottom": null,
      "display": null,
      "flex": null,
      "flex_flow": null,
      "grid_area": null,
      "grid_auto_columns": null,
      "grid_auto_flow": null,
      "grid_auto_rows": null,
      "grid_column": null,
      "grid_gap": null,
      "grid_row": null,
      "grid_template_areas": null,
      "grid_template_columns": null,
      "grid_template_rows": null,
      "height": null,
      "justify_content": null,
      "justify_items": null,
      "left": null,
      "margin": null,
      "max_height": null,
      "max_width": null,
      "min_height": null,
      "min_width": null,
      "object_fit": null,
      "object_position": null,
      "order": null,
      "overflow": null,
      "overflow_x": null,
      "overflow_y": null,
      "padding": null,
      "right": null,
      "top": null,
      "visibility": null,
      "width": null
     }
    },
    "8866d3eabe3841ad8850d1db1eb9c561": {
     "model_module": "@jupyter-widgets/controls",
     "model_module_version": "1.5.0",
     "model_name": "HTMLModel",
     "state": {
      "_dom_classes": [],
      "_model_module": "@jupyter-widgets/controls",
      "_model_module_version": "1.5.0",
      "_model_name": "HTMLModel",
      "_view_count": null,
      "_view_module": "@jupyter-widgets/controls",
      "_view_module_version": "1.5.0",
      "_view_name": "HTMLView",
      "description": "",
      "description_tooltip": null,
      "layout": "IPY_MODEL_144eae7320e3496daac2c99fa3c896d1",
      "placeholder": "​",
      "style": "IPY_MODEL_2ca72da9fbb841a7aaf34ba61a3f7b40",
      "value": "Downloading (…)lve/main/config.json: 100%"
     }
    },
    "9a0dbc2863c040a28160894143c86fba": {
     "model_module": "@jupyter-widgets/controls",
     "model_module_version": "1.5.0",
     "model_name": "HTMLModel",
     "state": {
      "_dom_classes": [],
      "_model_module": "@jupyter-widgets/controls",
      "_model_module_version": "1.5.0",
      "_model_name": "HTMLModel",
      "_view_count": null,
      "_view_module": "@jupyter-widgets/controls",
      "_view_module_version": "1.5.0",
      "_view_name": "HTMLView",
      "description": "",
      "description_tooltip": null,
      "layout": "IPY_MODEL_b8dcbf466a974370b6b3ddd83b4fa325",
      "placeholder": "​",
      "style": "IPY_MODEL_307a63de9eac4a24b8920edfb5684018",
      "value": "Downloading (…)okenizer_config.json: 100%"
     }
    },
    "9e73ffbaed454e7abaddaee0e5ef8c98": {
     "model_module": "@jupyter-widgets/controls",
     "model_module_version": "1.5.0",
     "model_name": "ProgressStyleModel",
     "state": {
      "_model_module": "@jupyter-widgets/controls",
      "_model_module_version": "1.5.0",
      "_model_name": "ProgressStyleModel",
      "_view_count": null,
      "_view_module": "@jupyter-widgets/base",
      "_view_module_version": "1.2.0",
      "_view_name": "StyleView",
      "bar_color": null,
      "description_width": ""
     }
    },
    "a505e6a8998a4fba91cc1e92f92f7418": {
     "model_module": "@jupyter-widgets/controls",
     "model_module_version": "1.5.0",
     "model_name": "DescriptionStyleModel",
     "state": {
      "_model_module": "@jupyter-widgets/controls",
      "_model_module_version": "1.5.0",
      "_model_name": "DescriptionStyleModel",
      "_view_count": null,
      "_view_module": "@jupyter-widgets/base",
      "_view_module_version": "1.2.0",
      "_view_name": "StyleView",
      "description_width": ""
     }
    },
    "aadd844afdd04d648322cb7a9ae4fe44": {
     "model_module": "@jupyter-widgets/controls",
     "model_module_version": "1.5.0",
     "model_name": "DescriptionStyleModel",
     "state": {
      "_model_module": "@jupyter-widgets/controls",
      "_model_module_version": "1.5.0",
      "_model_name": "DescriptionStyleModel",
      "_view_count": null,
      "_view_module": "@jupyter-widgets/base",
      "_view_module_version": "1.2.0",
      "_view_name": "StyleView",
      "description_width": ""
     }
    },
    "b0f4b2d287144543919777b4843a3383": {
     "model_module": "@jupyter-widgets/base",
     "model_module_version": "1.2.0",
     "model_name": "LayoutModel",
     "state": {
      "_model_module": "@jupyter-widgets/base",
      "_model_module_version": "1.2.0",
      "_model_name": "LayoutModel",
      "_view_count": null,
      "_view_module": "@jupyter-widgets/base",
      "_view_module_version": "1.2.0",
      "_view_name": "LayoutView",
      "align_content": null,
      "align_items": null,
      "align_self": null,
      "border": null,
      "bottom": null,
      "display": null,
      "flex": null,
      "flex_flow": null,
      "grid_area": null,
      "grid_auto_columns": null,
      "grid_auto_flow": null,
      "grid_auto_rows": null,
      "grid_column": null,
      "grid_gap": null,
      "grid_row": null,
      "grid_template_areas": null,
      "grid_template_columns": null,
      "grid_template_rows": null,
      "height": null,
      "justify_content": null,
      "justify_items": null,
      "left": null,
      "margin": null,
      "max_height": null,
      "max_width": null,
      "min_height": null,
      "min_width": null,
      "object_fit": null,
      "object_position": null,
      "order": null,
      "overflow": null,
      "overflow_x": null,
      "overflow_y": null,
      "padding": null,
      "right": null,
      "top": null,
      "visibility": null,
      "width": null
     }
    },
    "b4d1a34267de48c09490b0a11d6161c9": {
     "model_module": "@jupyter-widgets/controls",
     "model_module_version": "1.5.0",
     "model_name": "HTMLModel",
     "state": {
      "_dom_classes": [],
      "_model_module": "@jupyter-widgets/controls",
      "_model_module_version": "1.5.0",
      "_model_name": "HTMLModel",
      "_view_count": null,
      "_view_module": "@jupyter-widgets/controls",
      "_view_module_version": "1.5.0",
      "_view_name": "HTMLView",
      "description": "",
      "description_tooltip": null,
      "layout": "IPY_MODEL_b725016c07834bb888836d88fe7a5332",
      "placeholder": "​",
      "style": "IPY_MODEL_d9fab3ea92f64031a9857b12a80a7ddd",
      "value": "Downloading (…)solve/main/vocab.txt: 100%"
     }
    },
    "b5f03425776c499da26acdb138ec9449": {
     "model_module": "@jupyter-widgets/controls",
     "model_module_version": "1.5.0",
     "model_name": "ProgressStyleModel",
     "state": {
      "_model_module": "@jupyter-widgets/controls",
      "_model_module_version": "1.5.0",
      "_model_name": "ProgressStyleModel",
      "_view_count": null,
      "_view_module": "@jupyter-widgets/base",
      "_view_module_version": "1.2.0",
      "_view_name": "StyleView",
      "bar_color": null,
      "description_width": ""
     }
    },
    "b725016c07834bb888836d88fe7a5332": {
     "model_module": "@jupyter-widgets/base",
     "model_module_version": "1.2.0",
     "model_name": "LayoutModel",
     "state": {
      "_model_module": "@jupyter-widgets/base",
      "_model_module_version": "1.2.0",
      "_model_name": "LayoutModel",
      "_view_count": null,
      "_view_module": "@jupyter-widgets/base",
      "_view_module_version": "1.2.0",
      "_view_name": "LayoutView",
      "align_content": null,
      "align_items": null,
      "align_self": null,
      "border": null,
      "bottom": null,
      "display": null,
      "flex": null,
      "flex_flow": null,
      "grid_area": null,
      "grid_auto_columns": null,
      "grid_auto_flow": null,
      "grid_auto_rows": null,
      "grid_column": null,
      "grid_gap": null,
      "grid_row": null,
      "grid_template_areas": null,
      "grid_template_columns": null,
      "grid_template_rows": null,
      "height": null,
      "justify_content": null,
      "justify_items": null,
      "left": null,
      "margin": null,
      "max_height": null,
      "max_width": null,
      "min_height": null,
      "min_width": null,
      "object_fit": null,
      "object_position": null,
      "order": null,
      "overflow": null,
      "overflow_x": null,
      "overflow_y": null,
      "padding": null,
      "right": null,
      "top": null,
      "visibility": null,
      "width": null
     }
    },
    "b8dcbf466a974370b6b3ddd83b4fa325": {
     "model_module": "@jupyter-widgets/base",
     "model_module_version": "1.2.0",
     "model_name": "LayoutModel",
     "state": {
      "_model_module": "@jupyter-widgets/base",
      "_model_module_version": "1.2.0",
      "_model_name": "LayoutModel",
      "_view_count": null,
      "_view_module": "@jupyter-widgets/base",
      "_view_module_version": "1.2.0",
      "_view_name": "LayoutView",
      "align_content": null,
      "align_items": null,
      "align_self": null,
      "border": null,
      "bottom": null,
      "display": null,
      "flex": null,
      "flex_flow": null,
      "grid_area": null,
      "grid_auto_columns": null,
      "grid_auto_flow": null,
      "grid_auto_rows": null,
      "grid_column": null,
      "grid_gap": null,
      "grid_row": null,
      "grid_template_areas": null,
      "grid_template_columns": null,
      "grid_template_rows": null,
      "height": null,
      "justify_content": null,
      "justify_items": null,
      "left": null,
      "margin": null,
      "max_height": null,
      "max_width": null,
      "min_height": null,
      "min_width": null,
      "object_fit": null,
      "object_position": null,
      "order": null,
      "overflow": null,
      "overflow_x": null,
      "overflow_y": null,
      "padding": null,
      "right": null,
      "top": null,
      "visibility": null,
      "width": null
     }
    },
    "d40925a6dca047ee8986292f2b609b11": {
     "model_module": "@jupyter-widgets/controls",
     "model_module_version": "1.5.0",
     "model_name": "HTMLModel",
     "state": {
      "_dom_classes": [],
      "_model_module": "@jupyter-widgets/controls",
      "_model_module_version": "1.5.0",
      "_model_name": "HTMLModel",
      "_view_count": null,
      "_view_module": "@jupyter-widgets/controls",
      "_view_module_version": "1.5.0",
      "_view_name": "HTMLView",
      "description": "",
      "description_tooltip": null,
      "layout": "IPY_MODEL_eabc62b2b3fa43cca24b103e5a497be1",
      "placeholder": "​",
      "style": "IPY_MODEL_696652e904494efcaaa545eeffb7d10d",
      "value": " 714M/714M [00:07&lt;00:00, 112MB/s]"
     }
    },
    "d8731329850744d08e348edb926d3a9a": {
     "model_module": "@jupyter-widgets/controls",
     "model_module_version": "1.5.0",
     "model_name": "ProgressStyleModel",
     "state": {
      "_model_module": "@jupyter-widgets/controls",
      "_model_module_version": "1.5.0",
      "_model_name": "ProgressStyleModel",
      "_view_count": null,
      "_view_module": "@jupyter-widgets/base",
      "_view_module_version": "1.2.0",
      "_view_name": "StyleView",
      "bar_color": null,
      "description_width": ""
     }
    },
    "d9fab3ea92f64031a9857b12a80a7ddd": {
     "model_module": "@jupyter-widgets/controls",
     "model_module_version": "1.5.0",
     "model_name": "DescriptionStyleModel",
     "state": {
      "_model_module": "@jupyter-widgets/controls",
      "_model_module_version": "1.5.0",
      "_model_name": "DescriptionStyleModel",
      "_view_count": null,
      "_view_module": "@jupyter-widgets/base",
      "_view_module_version": "1.2.0",
      "_view_name": "StyleView",
      "description_width": ""
     }
    },
    "e84f68e3426a4a0bb8b0d76c83542fa5": {
     "model_module": "@jupyter-widgets/controls",
     "model_module_version": "1.5.0",
     "model_name": "DescriptionStyleModel",
     "state": {
      "_model_module": "@jupyter-widgets/controls",
      "_model_module_version": "1.5.0",
      "_model_name": "DescriptionStyleModel",
      "_view_count": null,
      "_view_module": "@jupyter-widgets/base",
      "_view_module_version": "1.2.0",
      "_view_name": "StyleView",
      "description_width": ""
     }
    },
    "eabc62b2b3fa43cca24b103e5a497be1": {
     "model_module": "@jupyter-widgets/base",
     "model_module_version": "1.2.0",
     "model_name": "LayoutModel",
     "state": {
      "_model_module": "@jupyter-widgets/base",
      "_model_module_version": "1.2.0",
      "_model_name": "LayoutModel",
      "_view_count": null,
      "_view_module": "@jupyter-widgets/base",
      "_view_module_version": "1.2.0",
      "_view_name": "LayoutView",
      "align_content": null,
      "align_items": null,
      "align_self": null,
      "border": null,
      "bottom": null,
      "display": null,
      "flex": null,
      "flex_flow": null,
      "grid_area": null,
      "grid_auto_columns": null,
      "grid_auto_flow": null,
      "grid_auto_rows": null,
      "grid_column": null,
      "grid_gap": null,
      "grid_row": null,
      "grid_template_areas": null,
      "grid_template_columns": null,
      "grid_template_rows": null,
      "height": null,
      "justify_content": null,
      "justify_items": null,
      "left": null,
      "margin": null,
      "max_height": null,
      "max_width": null,
      "min_height": null,
      "min_width": null,
      "object_fit": null,
      "object_position": null,
      "order": null,
      "overflow": null,
      "overflow_x": null,
      "overflow_y": null,
      "padding": null,
      "right": null,
      "top": null,
      "visibility": null,
      "width": null
     }
    },
    "ed6ad2b3f04c4c33881d5cbeada58196": {
     "model_module": "@jupyter-widgets/controls",
     "model_module_version": "1.5.0",
     "model_name": "HBoxModel",
     "state": {
      "_dom_classes": [],
      "_model_module": "@jupyter-widgets/controls",
      "_model_module_version": "1.5.0",
      "_model_name": "HBoxModel",
      "_view_count": null,
      "_view_module": "@jupyter-widgets/controls",
      "_view_module_version": "1.5.0",
      "_view_name": "HBoxView",
      "box_style": "",
      "children": [
       "IPY_MODEL_8866d3eabe3841ad8850d1db1eb9c561",
       "IPY_MODEL_353e82398e2b495b82b2496a36c0db50",
       "IPY_MODEL_4193ba2fbcd64d0f8ebf1fdfe745262c"
      ],
      "layout": "IPY_MODEL_08ce1e7053e04c8e8eac97b0ecdb5159"
     }
    },
    "ee77278ef45a465999db01f8c309b713": {
     "model_module": "@jupyter-widgets/controls",
     "model_module_version": "1.5.0",
     "model_name": "FloatProgressModel",
     "state": {
      "_dom_classes": [],
      "_model_module": "@jupyter-widgets/controls",
      "_model_module_version": "1.5.0",
      "_model_name": "FloatProgressModel",
      "_view_count": null,
      "_view_module": "@jupyter-widgets/controls",
      "_view_module_version": "1.5.0",
      "_view_name": "ProgressView",
      "bar_style": "success",
      "description": "",
      "description_tooltip": null,
      "layout": "IPY_MODEL_500338013086458da6e4c74a60c1c952",
      "max": 714290682,
      "min": 0,
      "orientation": "horizontal",
      "style": "IPY_MODEL_9e73ffbaed454e7abaddaee0e5ef8c98",
      "value": 714290682
     }
    },
    "ef45ae88acef4211a8d41c429f191d31": {
     "model_module": "@jupyter-widgets/controls",
     "model_module_version": "1.5.0",
     "model_name": "HBoxModel",
     "state": {
      "_dom_classes": [],
      "_model_module": "@jupyter-widgets/controls",
      "_model_module_version": "1.5.0",
      "_model_name": "HBoxModel",
      "_view_count": null,
      "_view_module": "@jupyter-widgets/controls",
      "_view_module_version": "1.5.0",
      "_view_name": "HBoxView",
      "box_style": "",
      "children": [
       "IPY_MODEL_b4d1a34267de48c09490b0a11d6161c9",
       "IPY_MODEL_27b87ab72a8a4859a60e64ff03feb386",
       "IPY_MODEL_1efa6a746dee49b9a96d4bb0e416894c"
      ],
      "layout": "IPY_MODEL_827c8d826ed945a78378331747ad9cbe"
     }
    },
    "f0a7c4ba4fd041a8b9b7d3caa07e050e": {
     "model_module": "@jupyter-widgets/controls",
     "model_module_version": "1.5.0",
     "model_name": "HBoxModel",
     "state": {
      "_dom_classes": [],
      "_model_module": "@jupyter-widgets/controls",
      "_model_module_version": "1.5.0",
      "_model_name": "HBoxModel",
      "_view_count": null,
      "_view_module": "@jupyter-widgets/controls",
      "_view_module_version": "1.5.0",
      "_view_name": "HBoxView",
      "box_style": "",
      "children": [
       "IPY_MODEL_49cd6b67951742cb92fa628dc38b9f30",
       "IPY_MODEL_5a3551bc86184bef8971625f9b87fcda",
       "IPY_MODEL_f4fbb5cdf5c547b3987307a7a20cd0d2"
      ],
      "layout": "IPY_MODEL_fc98de074fed4edfaf02ac9fe1d66ef0"
     }
    },
    "f4fbb5cdf5c547b3987307a7a20cd0d2": {
     "model_module": "@jupyter-widgets/controls",
     "model_module_version": "1.5.0",
     "model_name": "HTMLModel",
     "state": {
      "_dom_classes": [],
      "_model_module": "@jupyter-widgets/controls",
      "_model_module_version": "1.5.0",
      "_model_name": "HTMLModel",
      "_view_count": null,
      "_view_module": "@jupyter-widgets/controls",
      "_view_module_version": "1.5.0",
      "_view_name": "HTMLView",
      "description": "",
      "description_tooltip": null,
      "layout": "IPY_MODEL_b0f4b2d287144543919777b4843a3383",
      "placeholder": "​",
      "style": "IPY_MODEL_a505e6a8998a4fba91cc1e92f92f7418",
      "value": " 1.96M/1.96M [00:00&lt;00:00, 22.9MB/s]"
     }
    },
    "f54e9878630745e285d5e997436617e7": {
     "model_module": "@jupyter-widgets/controls",
     "model_module_version": "1.5.0",
     "model_name": "ProgressStyleModel",
     "state": {
      "_model_module": "@jupyter-widgets/controls",
      "_model_module_version": "1.5.0",
      "_model_name": "ProgressStyleModel",
      "_view_count": null,
      "_view_module": "@jupyter-widgets/base",
      "_view_module_version": "1.2.0",
      "_view_name": "StyleView",
      "bar_color": null,
      "description_width": ""
     }
    },
    "f7d59b766d8143dba30a92973f84fff2": {
     "model_module": "@jupyter-widgets/controls",
     "model_module_version": "1.5.0",
     "model_name": "HBoxModel",
     "state": {
      "_dom_classes": [],
      "_model_module": "@jupyter-widgets/controls",
      "_model_module_version": "1.5.0",
      "_model_name": "HBoxModel",
      "_view_count": null,
      "_view_module": "@jupyter-widgets/controls",
      "_view_module_version": "1.5.0",
      "_view_name": "HBoxView",
      "box_style": "",
      "children": [
       "IPY_MODEL_9a0dbc2863c040a28160894143c86fba",
       "IPY_MODEL_5dccc700a2cc4b8b86e5bd6dd02c5cf3",
       "IPY_MODEL_20bbefa86cc047ff83ffb3797ab55c20"
      ],
      "layout": "IPY_MODEL_4360af785bf14913b7fce0433b0582ce"
     }
    },
    "f9c92beca40c4fc2ad5a9c250f482692": {
     "model_module": "@jupyter-widgets/controls",
     "model_module_version": "1.5.0",
     "model_name": "DescriptionStyleModel",
     "state": {
      "_model_module": "@jupyter-widgets/controls",
      "_model_module_version": "1.5.0",
      "_model_name": "DescriptionStyleModel",
      "_view_count": null,
      "_view_module": "@jupyter-widgets/base",
      "_view_module_version": "1.2.0",
      "_view_name": "StyleView",
      "description_width": ""
     }
    },
    "fc98de074fed4edfaf02ac9fe1d66ef0": {
     "model_module": "@jupyter-widgets/base",
     "model_module_version": "1.2.0",
     "model_name": "LayoutModel",
     "state": {
      "_model_module": "@jupyter-widgets/base",
      "_model_module_version": "1.2.0",
      "_model_name": "LayoutModel",
      "_view_count": null,
      "_view_module": "@jupyter-widgets/base",
      "_view_module_version": "1.2.0",
      "_view_name": "LayoutView",
      "align_content": null,
      "align_items": null,
      "align_self": null,
      "border": null,
      "bottom": null,
      "display": null,
      "flex": null,
      "flex_flow": null,
      "grid_area": null,
      "grid_auto_columns": null,
      "grid_auto_flow": null,
      "grid_auto_rows": null,
      "grid_column": null,
      "grid_gap": null,
      "grid_row": null,
      "grid_template_areas": null,
      "grid_template_columns": null,
      "grid_template_rows": null,
      "height": null,
      "justify_content": null,
      "justify_items": null,
      "left": null,
      "margin": null,
      "max_height": null,
      "max_width": null,
      "min_height": null,
      "min_width": null,
      "object_fit": null,
      "object_position": null,
      "order": null,
      "overflow": null,
      "overflow_x": null,
      "overflow_y": null,
      "padding": null,
      "right": null,
      "top": null,
      "visibility": null,
      "width": null
     }
    },
    "fe12c563cbd744d2ba571d4b90aa903b": {
     "model_module": "@jupyter-widgets/base",
     "model_module_version": "1.2.0",
     "model_name": "LayoutModel",
     "state": {
      "_model_module": "@jupyter-widgets/base",
      "_model_module_version": "1.2.0",
      "_model_name": "LayoutModel",
      "_view_count": null,
      "_view_module": "@jupyter-widgets/base",
      "_view_module_version": "1.2.0",
      "_view_name": "LayoutView",
      "align_content": null,
      "align_items": null,
      "align_self": null,
      "border": null,
      "bottom": null,
      "display": null,
      "flex": null,
      "flex_flow": null,
      "grid_area": null,
      "grid_auto_columns": null,
      "grid_auto_flow": null,
      "grid_auto_rows": null,
      "grid_column": null,
      "grid_gap": null,
      "grid_row": null,
      "grid_template_areas": null,
      "grid_template_columns": null,
      "grid_template_rows": null,
      "height": null,
      "justify_content": null,
      "justify_items": null,
      "left": null,
      "margin": null,
      "max_height": null,
      "max_width": null,
      "min_height": null,
      "min_width": null,
      "object_fit": null,
      "object_position": null,
      "order": null,
      "overflow": null,
      "overflow_x": null,
      "overflow_y": null,
      "padding": null,
      "right": null,
      "top": null,
      "visibility": null,
      "width": null
     }
    }
   }
  }
 },
 "nbformat": 4,
 "nbformat_minor": 5
}
