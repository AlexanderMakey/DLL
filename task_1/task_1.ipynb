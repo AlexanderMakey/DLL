{
 "cells": [
  {
   "cell_type": "code",
   "execution_count": 1,
   "id": "d4f4950c",
   "metadata": {},
   "outputs": [],
   "source": [
    "import pandas as pd\n",
    "import torch\n",
    "from torch.utils.data import TensorDataset, DataLoader\n",
    "from torch.utils.data.dataset import random_split"
   ]
  },
  {
   "cell_type": "markdown",
   "id": "6d8ddf1c",
   "metadata": {},
   "source": [
    "## Загружаем данные [boston house prices](https://www.kaggle.com/datasets/vikrishnan/boston-house-prices)"
   ]
  },
  {
   "cell_type": "code",
   "execution_count": 2,
   "id": "591eff28",
   "metadata": {},
   "outputs": [],
   "source": [
    "boston_house_prices = r'archive/housing.csv'\n",
    "column_names = ['CRIM', 'ZN', 'INDUS', 'CHAS', 'NOX', 'RM', 'AGE', 'DIS', 'RAD', 'TAX', 'PTRATIO', 'B', 'LSTAT', 'MEDV']\n",
    "labels_name = 'MEDV'"
   ]
  },
  {
   "cell_type": "code",
   "execution_count": 3,
   "id": "7d6bbc6a",
   "metadata": {
    "scrolled": false
   },
   "outputs": [],
   "source": [
    "df = pd.read_csv(boston_house_prices,header=None, delimiter=r\"\\s+\",names=column_names)"
   ]
  },
  {
   "cell_type": "markdown",
   "id": "017e8bd4",
   "metadata": {},
   "source": [
    "## Подготовка данных"
   ]
  },
  {
   "cell_type": "code",
   "execution_count": 4,
   "id": "dc4a1b25",
   "metadata": {},
   "outputs": [],
   "source": [
    "features = torch.tensor(df.drop(labels_name, axis=1, inplace=False).values, dtype=torch.float32)\n",
    "labels = torch.tensor(df[labels_name].to_frame().values, dtype=torch.float32)\n",
    "labels = labels.squeeze()"
   ]
  },
  {
   "cell_type": "code",
   "execution_count": 5,
   "id": "cda977f6",
   "metadata": {},
   "outputs": [],
   "source": [
    "features = torch.nn.functional.normalize(features, dim=0)\n",
    "labels = torch.nn.functional.normalize(labels, dim=0)"
   ]
  },
  {
   "cell_type": "code",
   "execution_count": 6,
   "id": "4d80b0cc",
   "metadata": {},
   "outputs": [],
   "source": [
    "dataset = TensorDataset(features, labels)"
   ]
  },
  {
   "cell_type": "markdown",
   "id": "e6a44d11",
   "metadata": {},
   "source": [
    "## Разделение данных на test и train"
   ]
  },
  {
   "cell_type": "code",
   "execution_count": 7,
   "id": "d9407b86",
   "metadata": {},
   "outputs": [],
   "source": [
    "train_size = int(0.7 * len(dataset))\n",
    "test_size = len(dataset) - train_size"
   ]
  },
  {
   "cell_type": "code",
   "execution_count": 8,
   "id": "a428984e",
   "metadata": {},
   "outputs": [],
   "source": [
    "train_dataset, test_dataset = random_split(dataset, [train_size, test_size])"
   ]
  },
  {
   "cell_type": "code",
   "execution_count": 9,
   "id": "f9e42081",
   "metadata": {},
   "outputs": [],
   "source": [
    "data_iter = DataLoader(train_dataset, batch_size=train_size, shuffle=True)\n",
    "test_iter = DataLoader(test_dataset, batch_size=test_size, shuffle=False)"
   ]
  },
  {
   "cell_type": "markdown",
   "id": "c2227af0",
   "metadata": {},
   "source": [
    "## Создание класса модели"
   ]
  },
  {
   "cell_type": "code",
   "execution_count": 10,
   "id": "377a3821",
   "metadata": {},
   "outputs": [],
   "source": [
    "num_inputs = features.shape[1]\n",
    "num_outputs = 1"
   ]
  },
  {
   "cell_type": "code",
   "execution_count": 11,
   "id": "146db4f2",
   "metadata": {},
   "outputs": [],
   "source": [
    "model = torch.nn.Sequential(torch.nn.Linear(num_inputs, num_outputs))"
   ]
  },
  {
   "cell_type": "code",
   "execution_count": 12,
   "id": "a4849a1a",
   "metadata": {},
   "outputs": [],
   "source": [
    "loss = torch.nn.MSELoss(reduction='mean')"
   ]
  },
  {
   "cell_type": "code",
   "execution_count": 13,
   "id": "00dcd79a",
   "metadata": {},
   "outputs": [],
   "source": [
    "trainer = torch.optim.SGD(model.parameters(), lr=0.001)"
   ]
  },
  {
   "cell_type": "markdown",
   "id": "8213baac",
   "metadata": {},
   "source": [
    "## Обучение модели на train данных"
   ]
  },
  {
   "cell_type": "code",
   "execution_count": 14,
   "id": "39029e90",
   "metadata": {
    "scrolled": false
   },
   "outputs": [
    {
     "name": "stdout",
     "output_type": "stream",
     "text": [
      "epoch 1, loss: 0.006465\n",
      "epoch 2, loss: 0.006443\n",
      "epoch 3, loss: 0.006421\n",
      "epoch 4, loss: 0.006399\n",
      "epoch 5, loss: 0.006377\n",
      "epoch 6, loss: 0.006355\n",
      "epoch 7, loss: 0.006333\n",
      "epoch 8, loss: 0.006312\n",
      "epoch 9, loss: 0.006290\n",
      "epoch 10, loss: 0.006269\n",
      "epoch 11, loss: 0.006248\n",
      "epoch 12, loss: 0.006226\n",
      "epoch 13, loss: 0.006205\n",
      "epoch 14, loss: 0.006184\n",
      "epoch 15, loss: 0.006163\n",
      "epoch 16, loss: 0.006142\n",
      "epoch 17, loss: 0.006121\n",
      "epoch 18, loss: 0.006100\n",
      "epoch 19, loss: 0.006080\n",
      "epoch 20, loss: 0.006059\n",
      "epoch 21, loss: 0.006039\n",
      "epoch 22, loss: 0.006018\n",
      "epoch 23, loss: 0.005998\n",
      "epoch 24, loss: 0.005978\n",
      "epoch 25, loss: 0.005957\n",
      "epoch 26, loss: 0.005937\n",
      "epoch 27, loss: 0.005917\n",
      "epoch 28, loss: 0.005897\n",
      "epoch 29, loss: 0.005878\n",
      "epoch 30, loss: 0.005858\n",
      "epoch 31, loss: 0.005838\n",
      "epoch 32, loss: 0.005819\n",
      "epoch 33, loss: 0.005799\n",
      "epoch 34, loss: 0.005780\n",
      "epoch 35, loss: 0.005760\n",
      "epoch 36, loss: 0.005741\n",
      "epoch 37, loss: 0.005722\n",
      "epoch 38, loss: 0.005703\n",
      "epoch 39, loss: 0.005684\n",
      "epoch 40, loss: 0.005665\n",
      "epoch 41, loss: 0.005646\n",
      "epoch 42, loss: 0.005627\n",
      "epoch 43, loss: 0.005608\n",
      "epoch 44, loss: 0.005589\n",
      "epoch 45, loss: 0.005571\n",
      "epoch 46, loss: 0.005552\n",
      "epoch 47, loss: 0.005534\n",
      "epoch 48, loss: 0.005516\n",
      "epoch 49, loss: 0.005497\n",
      "epoch 50, loss: 0.005479\n"
     ]
    }
   ],
   "source": [
    "num_epochs = 50\n",
    "for epoch in range(1, num_epochs + 1):\n",
    "    for X, y in data_iter:\n",
    "        trainer.zero_grad()\n",
    "        l = loss(model(X).reshape(-1), y)\n",
    "        l.backward()\n",
    "        trainer.step()\n",
    "    l = loss(model(features).reshape(-1), labels)\n",
    "    print(f'epoch {epoch}, loss: {l.item():.6f}')"
   ]
  },
  {
   "cell_type": "markdown",
   "id": "f4370aae",
   "metadata": {},
   "source": [
    "## Проверка качества модели на тестовых данных"
   ]
  },
  {
   "cell_type": "code",
   "execution_count": 15,
   "id": "5bbf45d6",
   "metadata": {},
   "outputs": [
    {
     "name": "stdout",
     "output_type": "stream",
     "text": [
      "test loss: 0.005423\n"
     ]
    }
   ],
   "source": [
    "model.eval()\n",
    "with torch.no_grad():\n",
    "    for X_test, y_test in test_iter:\n",
    "        test_loss = loss(model(X_test).reshape(-1), y_test)\n",
    "    print(f\"test loss: {test_loss:.6f}\")"
   ]
  },
  {
   "cell_type": "code",
   "execution_count": null,
   "id": "89431fb0",
   "metadata": {},
   "outputs": [],
   "source": []
  }
 ],
 "metadata": {
  "kernelspec": {
   "display_name": "Python 3 (ipykernel)",
   "language": "python",
   "name": "python3"
  },
  "language_info": {
   "codemirror_mode": {
    "name": "ipython",
    "version": 3
   },
   "file_extension": ".py",
   "mimetype": "text/x-python",
   "name": "python",
   "nbconvert_exporter": "python",
   "pygments_lexer": "ipython3",
   "version": "3.11.4"
  }
 },
 "nbformat": 4,
 "nbformat_minor": 5
}
