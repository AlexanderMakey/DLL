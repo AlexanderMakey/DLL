{
 "cells": [
  {
   "cell_type": "markdown",
   "id": "41485ee4",
   "metadata": {},
   "source": [
    "## Исходные данные"
   ]
  },
  {
   "cell_type": "code",
   "execution_count": 1,
   "id": "64794dfb",
   "metadata": {},
   "outputs": [],
   "source": [
    "import pandas as pd"
   ]
  },
  {
   "cell_type": "code",
   "execution_count": 2,
   "id": "d13726cf",
   "metadata": {},
   "outputs": [],
   "source": [
    "csv_file_path = r'..\\Dataset\\Workorder.csv'\n",
    "\n",
    "data_frame = pd.read_csv(csv_file_path, delimiter=',', encoding='utf-8')"
   ]
  },
  {
   "cell_type": "code",
   "execution_count": 354,
   "id": "e48505d6",
   "metadata": {},
   "outputs": [
    {
     "data": {
      "text/plain": [
       "107700"
      ]
     },
     "execution_count": 354,
     "metadata": {},
     "output_type": "execute_result"
    }
   ],
   "source": [
    "num_rows = data_frame.shape[0]\n",
    "num_rows"
   ]
  },
  {
   "cell_type": "code",
   "execution_count": 10,
   "id": "502223f8",
   "metadata": {},
   "outputs": [
    {
     "data": {
      "text/plain": [
       "['workorderid',\n",
       " 'queuename',\n",
       " 'requesttypedefinition_name',\n",
       " 'title',\n",
       " 'description',\n",
       " 'resolution',\n",
       " 'servicedefinition_name',\n",
       " 'categoryname',\n",
       " 'subcategorydefinition_name',\n",
       " 'text_description',\n",
       " 'text_resolution']"
      ]
     },
     "execution_count": 10,
     "metadata": {},
     "output_type": "execute_result"
    }
   ],
   "source": [
    "data_frame.columns.tolist()"
   ]
  },
  {
   "cell_type": "markdown",
   "id": "23a532c1",
   "metadata": {},
   "source": [
    "## html to text"
   ]
  },
  {
   "cell_type": "code",
   "execution_count": 3,
   "id": "dec3ca34",
   "metadata": {},
   "outputs": [],
   "source": [
    "from bs4 import BeautifulSoup"
   ]
  },
  {
   "cell_type": "code",
   "execution_count": 4,
   "id": "237a9c92",
   "metadata": {},
   "outputs": [],
   "source": [
    "def get_text(html):\n",
    "    if isinstance(html, float):\n",
    "        return ''\n",
    "    soup = BeautifulSoup(html, 'html.parser')\n",
    "    text = soup.get_text()\n",
    "    return text"
   ]
  },
  {
   "cell_type": "code",
   "execution_count": 5,
   "id": "7f5bf71e",
   "metadata": {},
   "outputs": [
    {
     "name": "stderr",
     "output_type": "stream",
     "text": [
      "C:\\Users\\a.makey\\AppData\\Local\\Temp\\ipykernel_6204\\3272438639.py:4: MarkupResemblesLocatorWarning: The input looks more like a filename than markup. You may want to open this file and pass the filehandle into Beautiful Soup.\n",
      "  soup = BeautifulSoup(html, 'html.parser')\n",
      "C:\\Users\\a.makey\\AppData\\Local\\Temp\\ipykernel_6204\\3272438639.py:4: MarkupResemblesLocatorWarning: The input looks more like a URL than markup. You may want to use an HTTP client like requests to get the document behind the URL, and feed that document to Beautiful Soup.\n",
      "  soup = BeautifulSoup(html, 'html.parser')\n"
     ]
    }
   ],
   "source": [
    "for index, row in data_frame.iterrows():\n",
    "    \n",
    "    description = row['description']\n",
    "    resolution = row['resolution']\n",
    "    \n",
    "    text_description = get_text(description)\n",
    "    text_resolution = get_text(resolution)\n",
    "    \n",
    "    data_frame.at[index, 'text_description'] = text_description\n",
    "    data_frame.at[index, 'text_resolution'] = text_resolution"
   ]
  },
  {
   "cell_type": "markdown",
   "id": "e613d5af",
   "metadata": {},
   "source": [
    "## Функции для обработки текста"
   ]
  },
  {
   "cell_type": "code",
   "execution_count": 6,
   "id": "308c418f",
   "metadata": {},
   "outputs": [],
   "source": [
    "import re\n",
    "from collections import defaultdict"
   ]
  },
  {
   "cell_type": "code",
   "execution_count": 326,
   "id": "275b7c4d",
   "metadata": {},
   "outputs": [],
   "source": [
    "with open(r'Данные\\END_OF_SENT.json', 'r') as f:\n",
    "    END_OF_SENT = json.load(f)\n",
    "\n",
    "# Функция удаления лишнего в конце запроса\n",
    "def delete_ends(description_list):\n",
    "    ends_description_list = []\n",
    "    for i, sentence in enumerate(description_list):\n",
    "        end_found = False\n",
    "\n",
    "        for ends in END_OF_SENT:\n",
    "\n",
    "            if ends in sentence:\n",
    "                end_found = True\n",
    "                end_index = sentence.rfind(ends)\n",
    "                ends_description_list.append(sentence[:end_index])\n",
    "                break\n",
    "\n",
    "        if not end_found:\n",
    "            ends_description_list.append(sentence)\n",
    "            \n",
    "    return ends_description_list"
   ]
  },
  {
   "cell_type": "code",
   "execution_count": 7,
   "id": "07fb9da8",
   "metadata": {},
   "outputs": [],
   "source": [
    "def filter_text(text):\n",
    "    \n",
    "    filtered_text = text.lower()\n",
    "    filtered_text = filtered_text.strip()\n",
    "    \n",
    "    # Удаление символов '\\xa0' и '\\n'\n",
    "    for item in ['\\xa0',r'\\n']: \n",
    "        filtered_text = filtered_text.replace(item, '')\n",
    "    \n",
    "    # Удаление всех символов, кроме букв, пробелов и знаков препинания, относящихся к окончанию предложения\n",
    "    filtered_text = re.sub(r'[^А-Яа-яA-Za-zЁё\\s\\.\\?!]', '', filtered_text)\n",
    "    # Добавление пробелов слева и справа от знаков препинания, относящихся к окончанию предложения\n",
    "    filtered_text = re.sub(r'\\s*([.?!])\\s*', r' \\1 ', filtered_text)\n",
    "    # Замена множественных пробелов на одиночные пробелы\n",
    "    filtered_text = re.sub(r'\\s+', ' ', filtered_text)\n",
    "    \n",
    "    return filtered_text, filtered_text.split()"
   ]
  },
  {
   "cell_type": "markdown",
   "id": "99518d16",
   "metadata": {},
   "source": [
    "## Признаки\n",
    "- Группа\n",
    "- Тип запроса\n",
    "- Категория услуги\n",
    "- Категория\n",
    "- Подкатегория"
   ]
  },
  {
   "cell_type": "code",
   "execution_count": 19,
   "id": "d004a0e0",
   "metadata": {},
   "outputs": [],
   "source": [
    "def get_dict_labels(list_labels):\n",
    "    dict_labels = defaultdict(int)\n",
    "    for label in list_labels:\n",
    "        dict_labels[label] += 1\n",
    "    return dict_labels, {class_: index for index, class_ in enumerate(list(dict_labels.keys()))}"
   ]
  },
  {
   "cell_type": "code",
   "execution_count": 22,
   "id": "501ecd87",
   "metadata": {},
   "outputs": [],
   "source": [
    "# Группа\n",
    "list_1_labels = [str(row['queuename']) for index, row in data_frame.iterrows()]\n",
    "_, label_1_to_key = get_dict_labels(list_1_labels)\n",
    "index_1_labels = [label_1_to_key[label] for label in list_1_labels]\n",
    "NUM_1_CLASSES = len(label_1_to_key)"
   ]
  },
  {
   "cell_type": "code",
   "execution_count": 27,
   "id": "16e2f286",
   "metadata": {},
   "outputs": [],
   "source": [
    "# Тип запроса\n",
    "list_2_labels = [str(row['requesttypedefinition_name']) for index, row in data_frame.iterrows()]\n",
    "_, label_2_to_key = get_dict_labels(list_2_labels)\n",
    "index_2_labels = [label_2_to_key[label] for label in list_2_labels]\n",
    "NUM_2_CLASSES = len(label_2_to_key)"
   ]
  },
  {
   "cell_type": "code",
   "execution_count": 29,
   "id": "7ee57d7d",
   "metadata": {},
   "outputs": [],
   "source": [
    "# Категория услуги\n",
    "list_3_labels = [str(row['servicedefinition_name']) for index, row in data_frame.iterrows()]\n",
    "_, label_3_to_key = get_dict_labels(list_3_labels)\n",
    "index_3_labels = [label_3_to_key[label] for label in list_3_labels]\n",
    "NUM_3_CLASSES = len(label_3_to_key)"
   ]
  },
  {
   "cell_type": "code",
   "execution_count": 30,
   "id": "dea1ac23",
   "metadata": {},
   "outputs": [],
   "source": [
    "# Категория\n",
    "list_4_labels = [str(row['categoryname']) for index, row in data_frame.iterrows()]\n",
    "_, label_4_to_key = get_dict_labels(list_4_labels)\n",
    "index_4_labels = [label_4_to_key[label] for label in list_4_labels]\n",
    "NUM_4_CLASSES = len(label_4_to_key)"
   ]
  },
  {
   "cell_type": "code",
   "execution_count": 31,
   "id": "cadb51c9",
   "metadata": {},
   "outputs": [],
   "source": [
    "# Подкатегория\n",
    "list_5_labels = [str(row['subcategorydefinition_name']) for index, row in data_frame.iterrows()]\n",
    "_, label_5_to_key = get_dict_labels(list_5_labels)\n",
    "index_5_labels = [label_5_to_key[label] for label in list_5_labels]\n",
    "NUM_5_CLASSES = len(label_5_to_key)"
   ]
  },
  {
   "cell_type": "code",
   "execution_count": 32,
   "id": "c4c0d87f",
   "metadata": {},
   "outputs": [
    {
     "data": {
      "text/plain": [
       "(3, 3, 23, 54, 459)"
      ]
     },
     "execution_count": 32,
     "metadata": {},
     "output_type": "execute_result"
    }
   ],
   "source": [
    "# Кол- во классов в каждом признаке\n",
    "NUM_1_CLASSES, NUM_2_CLASSES, NUM_3_CLASSES, NUM_4_CLASSES, NUM_5_CLASSES"
   ]
  },
  {
   "cell_type": "markdown",
   "id": "e8612911",
   "metadata": {},
   "source": [
    "## Запрос или входная строка"
   ]
  },
  {
   "cell_type": "code",
   "execution_count": 327,
   "id": "1f9ef7f3",
   "metadata": {},
   "outputs": [],
   "source": [
    "description_list = [str(row['title']) + '. ' + str(row['text_description']) for index, row in data_frame.iterrows()]\n",
    "\n",
    "description_list = delete_ends(description_list)\n",
    "\n",
    "description_tokens = [filter_text(text)[1] for text in description_list]"
   ]
  },
  {
   "cell_type": "markdown",
   "id": "6edd5a6f",
   "metadata": {},
   "source": [
    "### Анализ длины предложений"
   ]
  },
  {
   "cell_type": "code",
   "execution_count": 343,
   "id": "94777039",
   "metadata": {},
   "outputs": [],
   "source": [
    "import matplotlib.pyplot as plt"
   ]
  },
  {
   "cell_type": "code",
   "execution_count": 341,
   "id": "9a459cce",
   "metadata": {},
   "outputs": [],
   "source": [
    "description_lens = [len(row) for row in description_tokens]"
   ]
  },
  {
   "cell_type": "code",
   "execution_count": 342,
   "id": "edd875b6",
   "metadata": {},
   "outputs": [],
   "source": [
    "# Создание словаря с подсчетом количества чисел\n",
    "description_counts = {}\n",
    "for number in description_lens:\n",
    "    description_counts[number] = description_counts.get(number, 0) + 1\n",
    "    \n",
    "# Получение значений для осей X и Y\n",
    "description_x = list(description_counts.keys())\n",
    "description_y = list(description_counts.values())"
   ]
  },
  {
   "cell_type": "code",
   "execution_count": 396,
   "id": "af1df163",
   "metadata": {},
   "outputs": [
    {
     "data": {
      "image/png": "[encoded data removed]",
      "text/plain": [
       "<Figure size 640x480 with 1 Axes>"
      ]
     },
     "metadata": {},
     "output_type": "display_data"
    }
   ],
   "source": [
    "# Построение графика\n",
    "plt.bar(description_x, description_y)\n",
    "\n",
    "# Добавление подписей осей и заголовка\n",
    "plt.xlabel('Кол-во токенов в тексте')\n",
    "plt.ylabel('Количество')\n",
    "plt.title('Распределение')\n",
    "\n",
    "# Отображение графика\n",
    "plt.show()"
   ]
  },
  {
   "cell_type": "code",
   "execution_count": 363,
   "id": "1b5c9645",
   "metadata": {},
   "outputs": [
    {
     "data": {
      "text/plain": [
       "26"
      ]
     },
     "execution_count": 363,
     "metadata": {},
     "output_type": "execute_result"
    }
   ],
   "source": [
    "description_sorted_dict = dict(sorted(description_counts.items(), key=lambda x: x[0]))\n",
    "\n",
    "share = 0.0\n",
    "limit_share = 0.50\n",
    "for item in description_sorted_dict.keys():\n",
    "    share += description_sorted_dict[item]/num_rows\n",
    "    if share>=limit_share:\n",
    "        description_max_len = item\n",
    "        break\n",
    "description_max_len"
   ]
  },
  {
   "cell_type": "markdown",
   "id": "ecb01283",
   "metadata": {},
   "source": [
    "Для 50% запросов кол-во токенов 26. Будем ограничивать запрос 26 токенами"
   ]
  },
  {
   "cell_type": "code",
   "execution_count": 380,
   "id": "287285b5",
   "metadata": {},
   "outputs": [],
   "source": [
    "description_tokens_short = [token[:description_max_len] for token in description_tokens]"
   ]
  },
  {
   "cell_type": "markdown",
   "id": "2d255dd8",
   "metadata": {},
   "source": [
    "## Решение или выходная строка"
   ]
  },
  {
   "cell_type": "code",
   "execution_count": 38,
   "id": "1ed2cfb9",
   "metadata": {},
   "outputs": [],
   "source": [
    "resolution_list = [str(row['text_resolution']) for index, row in data_frame.iterrows()]\n",
    "\n",
    "resolution_tokens = [filter_text(text)[1] for text in resolution_list]"
   ]
  },
  {
   "cell_type": "markdown",
   "id": "7d613c77",
   "metadata": {},
   "source": [
    "## Анализ длины предложений"
   ]
  },
  {
   "cell_type": "code",
   "execution_count": 364,
   "id": "fbe01956",
   "metadata": {},
   "outputs": [],
   "source": [
    "resolution_lens = [len(row) for row in resolution_tokens]"
   ]
  },
  {
   "cell_type": "code",
   "execution_count": 365,
   "id": "eaac5b60",
   "metadata": {},
   "outputs": [],
   "source": [
    "# Создание словаря с подсчетом количества чисел\n",
    "resolution_counts = {}\n",
    "for number in resolution_lens:\n",
    "    resolution_counts[number] = resolution_counts.get(number, 0) + 1\n",
    "    \n",
    "# Получение значений для осей X и Y\n",
    "resolution_x = list(resolution_counts.keys())\n",
    "resolution_y = list(resolution_counts.values())"
   ]
  },
  {
   "cell_type": "code",
   "execution_count": 397,
   "id": "e3051255",
   "metadata": {},
   "outputs": [
    {
     "data": {
      "image/png": "[encoded data removed]",
      "text/plain": [
       "<Figure size 640x480 with 1 Axes>"
      ]
     },
     "metadata": {},
     "output_type": "display_data"
    }
   ],
   "source": [
    "# Построение графика\n",
    "plt.bar(resolution_x, resolution_y)\n",
    "\n",
    "# Добавление подписей осей и заголовка\n",
    "plt.xlabel('Кол-во токенов в тексте')\n",
    "plt.ylabel('Количество')\n",
    "plt.title('Распределение')\n",
    "\n",
    "# Отображение графика\n",
    "plt.show()"
   ]
  },
  {
   "cell_type": "code",
   "execution_count": 368,
   "id": "35c07145",
   "metadata": {},
   "outputs": [
    {
     "data": {
      "text/plain": [
       "31"
      ]
     },
     "execution_count": 368,
     "metadata": {},
     "output_type": "execute_result"
    }
   ],
   "source": [
    "resolution_sorted_dict = dict(sorted(resolution_counts.items(), key=lambda x: x[0]))\n",
    "\n",
    "share = 0.0\n",
    "limit_share = 0.90\n",
    "for item in resolution_sorted_dict.keys():\n",
    "    share += resolution_sorted_dict[item]/num_rows\n",
    "    if share>=limit_share:\n",
    "        resolution_max_len = item\n",
    "        break\n",
    "resolution_max_len"
   ]
  },
  {
   "cell_type": "markdown",
   "id": "cf5c361a",
   "metadata": {},
   "source": [
    "Для 90% ответов кол-во токенов 31. Будем ограничивать ответ 31 токенами"
   ]
  },
  {
   "cell_type": "code",
   "execution_count": 381,
   "id": "4162f536",
   "metadata": {},
   "outputs": [],
   "source": [
    "resolution_tokens_short = [token[:resolution_max_len] for token in resolution_tokens]"
   ]
  },
  {
   "cell_type": "markdown",
   "id": "708774b9",
   "metadata": {},
   "source": [
    "## Функция создания словаря"
   ]
  },
  {
   "cell_type": "code",
   "execution_count": 369,
   "id": "5c280a7b",
   "metadata": {},
   "outputs": [],
   "source": [
    "def build_dictionary(seqs_tokens, existing_dictionary=None, max_len=None):\n",
    "    \n",
    "    # Создание нового словаря или использование существующего\n",
    "    dictionary = existing_dictionary if existing_dictionary is not None else defaultdict(int)\n",
    "    dictionary[\"[NULL]\"] = 0\n",
    "    \n",
    "    for tokens in seqs_tokens:\n",
    "        if not max_len:\n",
    "            max_len = len(tokens)\n",
    "        for token in tokens[:max_len]:\n",
    "            dictionary[token] += 1\n",
    "    return dictionary"
   ]
  },
  {
   "cell_type": "markdown",
   "id": "e81c0e4a",
   "metadata": {},
   "source": [
    "## Словарь"
   ]
  },
  {
   "cell_type": "code",
   "execution_count": 382,
   "id": "24ccf0a0",
   "metadata": {},
   "outputs": [],
   "source": [
    "dictionary = build_dictionary(description_tokens_short)\n",
    "\n",
    "dictionary = build_dictionary(resolution_tokens_short, dictionary)"
   ]
  },
  {
   "cell_type": "code",
   "execution_count": 383,
   "id": "2f50db3e",
   "metadata": {},
   "outputs": [
    {
     "data": {
      "text/plain": [
       "96101"
      ]
     },
     "execution_count": 383,
     "metadata": {},
     "output_type": "execute_result"
    }
   ],
   "source": [
    "dictionary_len = len(dictionary)\n",
    "\n",
    "# Токенов в словаре\n",
    "dictionary_len"
   ]
  },
  {
   "cell_type": "markdown",
   "id": "d50f817e",
   "metadata": {},
   "source": [
    "## Удаляем токены из словаря, которые встречаются один раз\n",
    "- Делаем это чтобы уменьшить объем словаря и в последствии уменьшим кол-во параметров в модели"
   ]
  },
  {
   "cell_type": "code",
   "execution_count": 384,
   "id": "509c4bae",
   "metadata": {},
   "outputs": [],
   "source": [
    "keys_to_remove = []\n",
    "\n",
    "for key, value in dictionary.items():\n",
    "    if value == 1:\n",
    "        keys_to_remove.append(key)"
   ]
  },
  {
   "cell_type": "code",
   "execution_count": 385,
   "id": "4270955a",
   "metadata": {},
   "outputs": [],
   "source": [
    "for key in keys_to_remove:\n",
    "    dictionary.pop(key)"
   ]
  },
  {
   "cell_type": "code",
   "execution_count": 386,
   "id": "ce5d86d7",
   "metadata": {},
   "outputs": [
    {
     "data": {
      "text/plain": [
       "45219"
      ]
     },
     "execution_count": 386,
     "metadata": {},
     "output_type": "execute_result"
    }
   ],
   "source": [
    "dictionary_len = len(dictionary)\n",
    "\n",
    "# Токенов в словаре\n",
    "dictionary_len"
   ]
  },
  {
   "cell_type": "markdown",
   "id": "db88b8f1",
   "metadata": {},
   "source": [
    "## Токены в индексы"
   ]
  },
  {
   "cell_type": "code",
   "execution_count": 375,
   "id": "84b335b2",
   "metadata": {},
   "outputs": [],
   "source": [
    "token_to_index = {token: index for index, token in enumerate(list(dictionary.keys()))}"
   ]
  },
  {
   "cell_type": "markdown",
   "id": "c5a6ecbe",
   "metadata": {},
   "source": [
    "Вот тут\n",
    "`if token in token_to_index`\n",
    "пропускаем те токены, которых нет в словаре"
   ]
  },
  {
   "cell_type": "code",
   "execution_count": 387,
   "id": "24d293ce",
   "metadata": {},
   "outputs": [],
   "source": [
    "description_indexes = [[token_to_index[token] for token in sentence if token in token_to_index] \n",
    "                     for sentence in description_tokens_short]"
   ]
  },
  {
   "cell_type": "code",
   "execution_count": 388,
   "id": "2c03a571",
   "metadata": {},
   "outputs": [],
   "source": [
    "resolution_indexes = [[token_to_index[token] for token in sentence if token in token_to_index] \n",
    "                     for sentence in resolution_tokens_short]"
   ]
  },
  {
   "cell_type": "markdown",
   "id": "b6f76ee4",
   "metadata": {},
   "source": [
    "## Пример того как это выглядит"
   ]
  },
  {
   "cell_type": "code",
   "execution_count": 392,
   "id": "42f0315c",
   "metadata": {},
   "outputs": [
    {
     "name": "stdout",
     "output_type": "stream",
     "text": [
      "[128, 129, 130, 131, 2, 6, 106, 132, 133, 134, 135, 131, 136, 137, 138, 139, 140, 18, 39, 141, 142, 143, 144, 15, 145]\n"
     ]
    }
   ],
   "source": [
    "## Входные данные\n",
    "print(description_indexes[10])"
   ]
  },
  {
   "cell_type": "code",
   "execution_count": 393,
   "id": "170af4bb",
   "metadata": {},
   "outputs": [
    {
     "name": "stdout",
     "output_type": "stream",
     "text": [
      "[75, 974, 714, 39, 792, 2]\n"
     ]
    }
   ],
   "source": [
    "## Выходные данные\n",
    "print(resolution_indexes[10])"
   ]
  },
  {
   "cell_type": "code",
   "execution_count": 394,
   "id": "0ef27a90",
   "metadata": {},
   "outputs": [
    {
     "name": "stdout",
     "output_type": "stream",
     "text": [
      "1 1 2 6 10\n"
     ]
    }
   ],
   "source": [
    "## Признаки\n",
    "print(index_1_labels[10], index_2_labels[10], index_3_labels[10], index_4_labels[10], index_5_labels[10])"
   ]
  },
  {
   "cell_type": "markdown",
   "id": "ee24eed5",
   "metadata": {},
   "source": [
    "## Сохранение данных"
   ]
  },
  {
   "cell_type": "code",
   "execution_count": 395,
   "id": "41b46a53",
   "metadata": {},
   "outputs": [],
   "source": [
    "import json\n",
    "\n",
    "# Входные данные\n",
    "with open(r'Данные\\description_indexes.json', 'w') as f:\n",
    "    json.dump(description_indexes, f, indent=4)\n",
    "\n",
    "# Выходные данные\n",
    "with open(r'Данные\\resolution_indexes.json', 'w') as f:\n",
    "    json.dump(resolution_indexes, f, indent=4)\n",
    "\n",
    "# Словарь для входных и выходных данных\n",
    "with open(r'Данные\\dictionary.json', 'w') as f:\n",
    "    json.dump(dictionary, f, indent=4)\n",
    "    \n",
    "## Признаки и соответствующие словари\n",
    "with open(r'Данные\\index_1_labels.json', 'w') as f:\n",
    "    json.dump(index_1_labels, f, indent=4)\n",
    "with open(r'Данные\\label_1_to_key.json', 'w') as f:\n",
    "    json.dump(label_1_to_key, f, indent=4)\n",
    "\n",
    "with open(r'Данные\\index_2_labels.json', 'w') as f:\n",
    "    json.dump(index_2_labels, f, indent=4)\n",
    "with open(r'Данные\\label_2_to_key.json', 'w') as f:\n",
    "    json.dump(label_2_to_key, f, indent=4)\n",
    "\n",
    "with open(r'Данные\\index_3_labels.json', 'w') as f:\n",
    "    json.dump(index_3_labels, f, indent=4)\n",
    "with open(r'Данные\\label_3_to_key.json', 'w') as f:\n",
    "    json.dump(label_3_to_key, f, indent=4) \n",
    "\n",
    "with open(r'Данные\\index_4_labels.json', 'w') as f:\n",
    "    json.dump(index_4_labels, f, indent=4)\n",
    "with open(r'Данные\\label_4_to_key.json', 'w') as f:\n",
    "    json.dump(label_4_to_key, f, indent=4) \n",
    "\n",
    "with open(r'Данные\\index_5_labels.json', 'w') as f:\n",
    "    json.dump(index_5_labels, f, indent=4)\n",
    "with open(r'Данные\\label_5_to_key.json', 'w') as f:\n",
    "    json.dump(label_5_to_key, f, indent=4) "
   ]
  },
  {
   "cell_type": "code",
   "execution_count": null,
   "id": "290f60a0",
   "metadata": {},
   "outputs": [],
   "source": []
  }
 ],
 "metadata": {
  "kernelspec": {
   "display_name": "Python 3 (ipykernel)",
   "language": "python",
   "name": "python3"
  },
  "language_info": {
   "codemirror_mode": {
    "name": "ipython",
    "version": 3
   },
   "file_extension": ".py",
   "mimetype": "text/x-python",
   "name": "python",
   "nbconvert_exporter": "python",
   "pygments_lexer": "ipython3",
   "version": "3.11.4"
  }
 },
 "nbformat": 4,
 "nbformat_minor": 5
}
