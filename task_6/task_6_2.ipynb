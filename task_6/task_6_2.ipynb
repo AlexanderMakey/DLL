{
 "cells": [
  {
   "cell_type": "code",
   "execution_count": null,
   "id": "fcf06244",
   "metadata": {},
   "outputs": [],
   "source": [
    "import pandas as pd\n",
    "import time\n",
    "import torch"
   ]
  },
  {
   "cell_type": "markdown",
   "id": "d256419a",
   "metadata": {},
   "source": [
    "## Цель:\n",
    "Выполнить практическую работу из лекционного ноутбука используя свою RNN-ячейку на основе полносвязных слоев"
   ]
  },
  {
   "cell_type": "code",
   "execution_count": null,
   "id": "c80c6a88",
   "metadata": {},
   "outputs": [],
   "source": [
    "df = pd.read_csv('data.csv')"
   ]
  },
  {
   "cell_type": "code",
   "execution_count": null,
   "id": "a708f5df",
   "metadata": {},
   "outputs": [],
   "source": [
    "phrases = df['normalized_text'].tolist()"
   ]
  },
  {
   "cell_type": "code",
   "execution_count": null,
   "id": "4108c952",
   "metadata": {},
   "outputs": [],
   "source": [
    "text = [[c for c in ph] for ph in phrases if type(ph) is str]"
   ]
  },
  {
   "cell_type": "code",
   "execution_count": null,
   "id": "903098d2",
   "metadata": {},
   "outputs": [],
   "source": [
    "CHARS = set('abcdefghijklmnopqrstuvwxyz ')\n",
    "INDEX_TO_CHAR = ['none'] + [w for w in CHARS]\n",
    "CHAR_TO_INDEX = {w: i for i, w in enumerate(INDEX_TO_CHAR)}"
   ]
  },
  {
   "cell_type": "code",
   "execution_count": null,
   "id": "20112fe0",
   "metadata": {},
   "outputs": [],
   "source": [
    "MAX_LEN = 50\n",
    "X = torch.zeros((len(text), MAX_LEN), dtype=int)\n",
    "for i in range(len(text)):\n",
    "    for j, w in enumerate(text[i]):\n",
    "        if j >= MAX_LEN:\n",
    "            break\n",
    "        X[i, j] = CHAR_TO_INDEX.get(w, CHAR_TO_INDEX['none'])"
   ]
  },
  {
   "cell_type": "markdown",
   "id": "9253d223",
   "metadata": {},
   "source": [
    "## Построим RNN-ячейку на основе полносвязных слоев"
   ]
  },
  {
   "cell_type": "code",
   "execution_count": null,
   "id": "4214bfb4",
   "metadata": {},
   "outputs": [],
   "source": [
    "class MyRNN(torch.nn.Module):\n",
    "    def __init__(self, input_size, hidden_size):\n",
    "        super(MyRNN, self).__init__()\n",
    "        self.input_size = input_size\n",
    "        self.hidden_size = hidden_size\n",
    "\n",
    "        self.input_layer = torch.nn.Linear(input_size, hidden_size)\n",
    "        self.hidden_layer = torch.nn.Linear(hidden_size, hidden_size)\n",
    "        self.hidden = None\n",
    "        \n",
    "    def forward(self, input_, hidden=None):\n",
    "        if input_.ndim==2:\n",
    "            input_ = input_.view(1, input_.shape[0], input_.shape[1])\n",
    "        \n",
    "        batch_size = input_.size(0)\n",
    "        word_size = input_.size(1)\n",
    "        \n",
    "        if hidden:\n",
    "            self.hidden = hidden\n",
    "        if self.hidden is None:\n",
    "            self.hidden = torch.zeros(batch_size, word_size, self.hidden_size)\n",
    "        hidden_word_size = self.hidden.size(1)\n",
    "        \n",
    "        output = self.input_layer(input_)\n",
    "        hidden_out = self.hidden_layer(self.hidden)\n",
    "        \n",
    "#         расширяем output, если введенное слово меньше скрытого слоя\n",
    "        if word_size<hidden_word_size:\n",
    "            pad = (0, 0, 0, hidden_word_size - word_size)\n",
    "            output = torch.nn.functional.pad(output, pad)\n",
    "#         расширяем hidden_out если введенное слово больше скрытого слоя\n",
    "        elif word_size>hidden_word_size:          \n",
    "            pad = (0, 0, 0, word_size - hidden_word_size)\n",
    "            hidden_out = torch.nn.functional.pad(hidden_out, pad)\n",
    "        \n",
    "        combined = output + hidden_out\n",
    "        \n",
    "        self.hidden = torch.tanh(combined)\n",
    "        \n",
    "        return output[:, :word_size, :], self.hidden"
   ]
  },
  {
   "cell_type": "markdown",
   "id": "1195fb83",
   "metadata": {},
   "source": [
    "## Применим построенную ячейку для генерации текста с выражениями героев сериала “Симпсоны”"
   ]
  },
  {
   "cell_type": "code",
   "execution_count": null,
   "id": "3a37cfe8",
   "metadata": {},
   "outputs": [],
   "source": [
    "class MyNetwork(torch.nn.Module):\n",
    "    def __init__(self):\n",
    "        super(MyNetwork, self).__init__()\n",
    "        self.embedding = torch.nn.Embedding(28, 30)\n",
    "        self.rnn = MyRNN(30, 128)\n",
    "        self.out = torch.nn.Linear(128, 28)\n",
    "\n",
    "    def forward(self, sentences, state=None):\n",
    "        x = self.embedding(sentences)\n",
    "        x, s = self.rnn(x)\n",
    "        return self.out(x)"
   ]
  },
  {
   "cell_type": "code",
   "execution_count": null,
   "id": "1b3593df",
   "metadata": {},
   "outputs": [],
   "source": [
    "my_model = MyNetwork()\n",
    "criterion = torch.nn.CrossEntropyLoss()  # типичный лосс многоклассовой классификации\n",
    "optimizer = torch.optim.SGD(my_model.parameters(), lr=.05)"
   ]
  },
  {
   "cell_type": "code",
   "execution_count": null,
   "id": "b45c8257",
   "metadata": {},
   "outputs": [
    {
     "name": "stdout",
     "output_type": "stream",
     "text": [
      "Epoch 0. Time: 0.691, Train loss: 2.078\n",
      "Epoch 1. Time: 0.705, Train loss: 1.821\n",
      "Epoch 2. Time: 0.743, Train loss: 1.752\n",
      "Epoch 3. Time: 0.703, Train loss: 1.721\n",
      "Epoch 4. Time: 0.712, Train loss: 1.702\n",
      "Epoch 5. Time: 0.692, Train loss: 1.690\n",
      "Epoch 6. Time: 0.740, Train loss: 1.681\n",
      "Epoch 7. Time: 0.740, Train loss: 1.675\n",
      "Epoch 8. Time: 0.689, Train loss: 1.670\n",
      "Epoch 9. Time: 0.717, Train loss: 1.666\n",
      "Epoch 10. Time: 0.717, Train loss: 1.662\n",
      "Epoch 11. Time: 0.793, Train loss: 1.659\n",
      "Epoch 12. Time: 0.667, Train loss: 1.657\n",
      "Epoch 13. Time: 0.708, Train loss: 1.655\n",
      "Epoch 14. Time: 0.703, Train loss: 1.653\n",
      "Epoch 15. Time: 0.696, Train loss: 1.652\n",
      "Epoch 16. Time: 0.706, Train loss: 1.650\n",
      "Epoch 17. Time: 0.728, Train loss: 1.649\n",
      "Epoch 18. Time: 0.745, Train loss: 1.648\n",
      "Epoch 19. Time: 0.680, Train loss: 1.647\n"
     ]
    }
   ],
   "source": [
    "for ep in range(20):\n",
    "    start = time.time()\n",
    "    train_loss = 0.\n",
    "    train_passed = 0\n",
    "\n",
    "    for i in range(int(len(X) / 100)):\n",
    "        batch = X[i * 100:(i + 1) * 100]\n",
    "        X_batch = batch[:, :-1]\n",
    "        Y_batch = batch[:, 1:].flatten()\n",
    "\n",
    "        optimizer.zero_grad()\n",
    "        answers = my_model.forward(X_batch)\n",
    "        answers = answers.view(-1, len(INDEX_TO_CHAR))\n",
    "        loss = criterion(answers, Y_batch)\n",
    "        train_loss += loss.item()\n",
    "\n",
    "        loss.backward()\n",
    "        optimizer.step()\n",
    "        train_passed += 1\n",
    "\n",
    "    print(\"Epoch {}. Time: {:.3f}, Train loss: {:.3f}\".format(ep, time.time() - start, train_loss / train_passed))"
   ]
  },
  {
   "cell_type": "code",
   "execution_count": null,
   "id": "8d0ab9bd",
   "metadata": {},
   "outputs": [],
   "source": [
    "def generate_sentence(word, model):\n",
    "    sentence = list(word)\n",
    "    sentence = [CHAR_TO_INDEX.get(s, 0) for s in sentence]\n",
    "    answers = model.forward(torch.tensor(sentence))\n",
    "    probas, indices = answers.topk(1)\n",
    "    return ''.join([INDEX_TO_CHAR[ind.item()] for ind in indices.flatten()])"
   ]
  },
  {
   "cell_type": "markdown",
   "id": "597a472c",
   "metadata": {},
   "source": [
    "## Проверяем"
   ]
  },
  {
   "cell_type": "code",
   "execution_count": null,
   "id": "5c91a2ec",
   "metadata": {},
   "outputs": [
    {
     "data": {
      "text/plain": [
       "' u '"
      ]
     },
     "execution_count": 14,
     "metadata": {},
     "output_type": "execute_result"
    }
   ],
   "source": [
    "generate_sentence('dog', my_model)"
   ]
  },
  {
   "cell_type": "code",
   "execution_count": null,
   "id": "9d939dca",
   "metadata": {},
   "outputs": [
    {
     "data": {
      "text/plain": [
       "'none tn '"
      ]
     },
     "execution_count": 16,
     "metadata": {},
     "output_type": "execute_result"
    }
   ],
   "source": [
    "generate_sentence('It is', my_model)"
   ]
  },
  {
   "cell_type": "markdown",
   "id": "cd425233",
   "metadata": {},
   "source": [
    "На лекции были следующие результаты\n",
    "- ' u '\n",
    "- 'nonehtn '\n",
    "\n",
    "Видно, что последний результат не точный, но похож. Видимо модель torch.nn.RNN устроена сложнее, либо я что-то не учел."
   ]
  },
  {
   "cell_type": "code",
   "execution_count": null,
   "id": "312023e1",
   "metadata": {},
   "outputs": [],
   "source": []
  }
 ],
 "metadata": {
  "kernelspec": {
   "display_name": "Python 3 (ipykernel)",
   "language": "python",
   "name": "python3"
  },
  "language_info": {
   "codemirror_mode": {
    "name": "ipython",
    "version": 3
   },
   "file_extension": ".py",
   "mimetype": "text/x-python",
   "name": "python",
   "nbconvert_exporter": "python",
   "pygments_lexer": "ipython3",
   "version": "3.11.4"
  }
 },
 "nbformat": 4,
 "nbformat_minor": 5
}
